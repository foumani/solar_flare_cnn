{
 "cells": [
  {
   "cell_type": "code",
   "execution_count": 2,
   "id": "initial_id",
   "metadata": {
    "collapsed": true,
    "ExecuteTime": {
     "end_time": "2023-11-09T18:41:09.454306300Z",
     "start_time": "2023-11-09T18:41:07.600379300Z"
    }
   },
   "outputs": [],
   "source": [
    "import matplotlib.pyplot as plt\n",
    "from util import Metric\n",
    "import numpy as np"
   ]
  },
  {
   "cell_type": "code",
   "execution_count": 2,
   "outputs": [
    {
     "ename": "FileNotFoundError",
     "evalue": "[Errno 2] No such file or directory: './experiments_plot/baseline_cnn_True_cm.npy'",
     "output_type": "error",
     "traceback": [
      "\u001B[0;31m---------------------------------------------------------------------------\u001B[0m",
      "\u001B[0;31mFileNotFoundError\u001B[0m                         Traceback (most recent call last)",
      "Cell \u001B[0;32mIn[2], line 2\u001B[0m\n\u001B[1;32m      1\u001B[0m cif \u001B[38;5;241m=\u001B[39m np\u001B[38;5;241m.\u001B[39mload(\u001B[38;5;124m\"\u001B[39m\u001B[38;5;124m./experiments_plot/baseline_cif_True_cm.npy\u001B[39m\u001B[38;5;124m\"\u001B[39m)\n\u001B[0;32m----> 2\u001B[0m cnn \u001B[38;5;241m=\u001B[39m \u001B[43mnp\u001B[49m\u001B[38;5;241;43m.\u001B[39;49m\u001B[43mload\u001B[49m\u001B[43m(\u001B[49m\u001B[38;5;124;43m\"\u001B[39;49m\u001B[38;5;124;43m./experiments_plot/baseline_cnn_True_cm.npy\u001B[39;49m\u001B[38;5;124;43m\"\u001B[39;49m\u001B[43m)\u001B[49m\n\u001B[1;32m      3\u001B[0m lstmfcn \u001B[38;5;241m=\u001B[39m np\u001B[38;5;241m.\u001B[39mload(\u001B[38;5;124m\"\u001B[39m\u001B[38;5;124m./experiments_plot/baseline_lstmfcn_True_cm.npy\u001B[39m\u001B[38;5;124m\"\u001B[39m)\n\u001B[1;32m      4\u001B[0m minirocket \u001B[38;5;241m=\u001B[39m np\u001B[38;5;241m.\u001B[39mload(\u001B[38;5;124m\"\u001B[39m\u001B[38;5;124m./experiments_plot/baseline_minirocket_True_cm.npy\u001B[39m\u001B[38;5;124m\"\u001B[39m)\n",
      "File \u001B[0;32m~/.virtualenvs/solar_flare/lib/python3.8/site-packages/numpy/lib/npyio.py:405\u001B[0m, in \u001B[0;36mload\u001B[0;34m(file, mmap_mode, allow_pickle, fix_imports, encoding, max_header_size)\u001B[0m\n\u001B[1;32m    403\u001B[0m     own_fid \u001B[38;5;241m=\u001B[39m \u001B[38;5;28;01mFalse\u001B[39;00m\n\u001B[1;32m    404\u001B[0m \u001B[38;5;28;01melse\u001B[39;00m:\n\u001B[0;32m--> 405\u001B[0m     fid \u001B[38;5;241m=\u001B[39m stack\u001B[38;5;241m.\u001B[39menter_context(\u001B[38;5;28;43mopen\u001B[39;49m\u001B[43m(\u001B[49m\u001B[43mos_fspath\u001B[49m\u001B[43m(\u001B[49m\u001B[43mfile\u001B[49m\u001B[43m)\u001B[49m\u001B[43m,\u001B[49m\u001B[43m \u001B[49m\u001B[38;5;124;43m\"\u001B[39;49m\u001B[38;5;124;43mrb\u001B[39;49m\u001B[38;5;124;43m\"\u001B[39;49m\u001B[43m)\u001B[49m)\n\u001B[1;32m    406\u001B[0m     own_fid \u001B[38;5;241m=\u001B[39m \u001B[38;5;28;01mTrue\u001B[39;00m\n\u001B[1;32m    408\u001B[0m \u001B[38;5;66;03m# Code to distinguish from NumPy binary files and pickles.\u001B[39;00m\n",
      "\u001B[0;31mFileNotFoundError\u001B[0m: [Errno 2] No such file or directory: './experiments_plot/baseline_cnn_True_cm.npy'"
     ]
    }
   ],
   "source": [
    "cif = np.load(\"./experiments_plot/baseline_cif_True_cm.npy\")\n",
    "cnn = np.load(\"./experiments_plot/baseline_cnn_True_cm.npy\")\n",
    "lstmfcn = np.load(\"./experiments_plot/baseline_lstmfcn_True_cm.npy\")\n",
    "minirocket = np.load(\"./experiments_plot/baseline_minirocket_True_cm.npy\")\n",
    "svm = np.load(\"./experiments_plot/baseline_svm_True_cm.npy\")\n",
    "mine = np.load(\"./experiments_plot/train_True_cm.npy\")\n",
    "print(mine.shape)\n",
    "cif = [Metric(binary=True, cm=cm) for cm in cif]\n",
    "cnn = [Metric(binary=True, cm=cm) for cm in cnn]\n",
    "lstmfcn = [Metric(binary=True, cm=cm) for cm in lstmfcn]\n",
    "minirocket = [Metric(binary=True, cm=cm) for cm in minirocket]\n",
    "svm = [Metric(binary=True, cm=cm) for cm in svm]\n",
    "mine = [Metric(binary=True, cm=cm) for cm in mine]\n",
    "\n",
    "datashow = [[m.tss for m in cif],\n",
    "            [m.tss for m in cnn],\n",
    "            [m.tss for m in lstmfcn],\n",
    "            [m.tss for m in minirocket],\n",
    "            [m.tss for m in svm],\n",
    "            [m.tss for m in mine]]\n",
    "fig = plt.figure(figsize=(5, 3))\n",
    "ax = fig.add_axes([0, 0, 1, 1])\n",
    "bp = ax.boxplot(datashow)\n",
    "ax.set_xticklabels(\n",
    "    [\"CIF\", \"Sktime CNN\", \"LSTM-FCN\", \"Minirocket\", \"SVM\", \"Our Model\"])\n",
    "print(datashow[-1])\n",
    "plt.ylabel(\"TSS\")\n",
    "plt.show()"
   ],
   "metadata": {
    "collapsed": false,
    "ExecuteTime": {
     "end_time": "2023-11-07T21:38:21.328303100Z",
     "start_time": "2023-11-07T21:38:21.217856200Z"
    }
   },
   "id": "2a5eb1a8c6cbef1a"
  },
  {
   "cell_type": "code",
   "execution_count": 22,
   "outputs": [
    {
     "name": "stdout",
     "output_type": "stream",
     "text": [
      "\t\tTSS &  $0.794 \\pm 0.003$  &  $0.756 \\pm 0.025$  &  $0.677 \\pm 0.027$  &  $0.801 \\pm 0.006$  &  $0.744 \\pm 0.000$  &  $0.820 \\pm 0.007$  \\\\ \n",
      "\t\tHSS2 &  $0.219 \\pm 0.004$  &  $0.327 \\pm 0.012$  &  $0.208 \\pm 0.034$  &  $0.250 \\pm 0.011$  &  $0.217 \\pm 0.000$  &  $0.200 \\pm 0.017$  \\\\ \n",
      "\t\tAccuracy &  $0.895 \\pm 0.002$  &  $0.942 \\pm 0.005$  &  $0.903 \\pm 0.017$  &  $0.911 \\pm 0.004$  &  $0.848 \\pm 0.000$  &  $0.878 \\pm 0.013$  \\\\ \n",
      "\t\tPrecision &  $0.141 \\pm 0.002$  &  $0.221 \\pm 0.011$  &  $0.138 \\pm 0.022$  &  $0.162 \\pm 0.007$  &  $0.150 \\pm 0.000$  &  $0.129 \\pm 0.011$  \\\\ \n",
      "\t\tRecall &  $0.899 \\pm 0.003$  &  $0.811 \\pm 0.030$  &  $0.772 \\pm 0.023$  &  $0.890 \\pm 0.004$  &  $0.897 \\pm 0.000$  &  $0.944 \\pm 0.009$  \\\\ \n",
      "\t\tF1 &  $0.244 \\pm 0.004$  &  $0.347 \\pm 0.011$  &  $0.233 \\pm 0.032$  &  $0.273 \\pm 0.010$  &  $0.256 \\pm 0.000$  &  $0.226 \\pm 0.016$  \\\\ \n"
     ]
    }
   ],
   "source": [
    "def stats(metrics):\n",
    "    tss = [m.tss for m in metrics]\n",
    "    hss2 = [m.hss2 for m in metrics]\n",
    "    acc = [m.accuracy for m in metrics]\n",
    "    prec = [m.precision for m in metrics]\n",
    "    rec = [m.recall for m in metrics]\n",
    "    f1 = [m.f1 for m in metrics]\n",
    "    \n",
    "    return ((np.average(tss), np.std(tss)), (np.average(hss2), np.std(hss2)),\n",
    "            (np.average(acc), np.std(acc)), (np.average(prec), np.std(prec)),\n",
    "            (np.average(rec), np.std(rec)), (np.average(f1), np.std(f1)))\n",
    "\n",
    "\n",
    "cif = np.load(\"./experiments_plot/baseline_cif_True_cm.npy\")\n",
    "cnn = np.load(\"./experiments_plot/baseline_cnn_True_cm.npy\")\n",
    "lstmfcn = np.load(\"./experiments_plot/baseline_lstmfcn_True_cm.npy\")\n",
    "minirocket = np.load(\"./experiments_plot/baseline_minirocket_True_cm.npy\")\n",
    "svm = np.load(\"./experiments_plot/baseline_svm_True_cm.npy\")\n",
    "mine = np.load(\"./experiments_plot/train_True_cm.npy\")\n",
    "\n",
    "cif = [Metric(binary=True, cm=cm) for cm in cif]\n",
    "cnn = [Metric(binary=True, cm=cm) for cm in cnn]\n",
    "lstmfcn = [Metric(binary=True, cm=cm) for cm in lstmfcn]\n",
    "minirocket = [Metric(binary=True, cm=cm) for cm in minirocket]\n",
    "svm = [Metric(binary=True, cm=cm) for cm in svm]\n",
    "mine = [Metric(binary=True, cm=cm) for cm in mine]\n",
    "\n",
    "statsin = []\n",
    "statsin.append(stats(cif))\n",
    "statsin.append(stats(cnn))\n",
    "statsin.append(stats(lstmfcn))\n",
    "statsin.append(stats(minirocket))\n",
    "statsin.append(stats(svm))\n",
    "statsin.append(stats(mine))\n",
    "\n",
    "metrics = [\"TSS\", \"HSS2\", \"Accuracy\", \"Precision\", \"Recall\", \"F1\"]\n",
    "for j in range(len(metrics)):\n",
    "    string = f\"\\t\\t{metrics[j]} & \"\n",
    "    for i in range(len(statsin)):\n",
    "        string += f\" ${statsin[i][j][0]:.3f} \\\\pm {statsin[i][j][1]:.3f}$ \"\n",
    "        if i != 5: string += \" & \"\n",
    "    string += \" \\\\\\\\ \"\n",
    "    print(string)"
   ],
   "metadata": {
    "collapsed": false,
    "ExecuteTime": {
     "end_time": "2023-10-16T07:38:37.253031800Z",
     "start_time": "2023-10-16T07:38:37.205256Z"
    }
   },
   "id": "e64533379347eefc"
  },
  {
   "cell_type": "code",
   "execution_count": 6,
   "outputs": [
    {
     "data": {
      "text/plain": "<Figure size 500x300 with 1 Axes>",
      "image/png": "[encoded data removed]"
     },
     "metadata": {},
     "output_type": "display_data"
    }
   ],
   "source": [
    "binary = False\n",
    "cif = np.load(f\"./experiments_plot/baseline_cif_{binary}_cm.npy\")\n",
    "cnn = np.load(f\"./experiments_plot/baseline_cnn_{binary}_cm.npy\")\n",
    "lstmfcn = np.load(f\"./experiments_plot/baseline_lstmfcn_{binary}_cm.npy\")\n",
    "minirocket = np.load(f\"./experiments_plot/baseline_minirocket_{binary}_cm.npy\")\n",
    "svm = np.load(f\"./experiments_plot/baseline_svm_{binary}_cm.npy\")\n",
    "mine = np.load(f\"./experiments_plot/train_{binary}_cm_False.npy\")\n",
    "\n",
    "cif = [Metric(binary=False, cm=cm) for cm in cif]\n",
    "cnn = [Metric(binary=False, cm=cm) for cm in cnn]\n",
    "lstmfcn = [Metric(binary=False, cm=cm) for cm in lstmfcn]\n",
    "minirocket = [Metric(binary=False, cm=cm) for cm in minirocket]\n",
    "svm = [Metric(binary=False, cm=cm) for cm in svm]\n",
    "mine = [Metric(binary=False, cm=cm) for cm in mine]\n",
    "datashow = [[np.average(m.tss) for m in cif],\n",
    "            [np.average(m.tss) for m in cnn],\n",
    "            [np.average(m.tss) for m in lstmfcn],\n",
    "            [np.average(m.tss) for m in minirocket],\n",
    "            [np.average(m.tss) for m in svm],\n",
    "            [np.average(m.tss) for m in mine]]\n",
    "fig = plt.figure(figsize=(5, 3))\n",
    "ax = fig.add_axes([0, 0, 1, 1])\n",
    "bp = ax.boxplot(datashow)\n",
    "ax.set_xticklabels(\n",
    "    [\"CIF\", \"Sktime CNN\", \"LSTM-FCN\", \"Minirocket\", \"SVM\", \"Our Model\"])\n",
    "plt.ylabel(\"average TSS\")\n",
    "plt.show()"
   ],
   "metadata": {
    "collapsed": false,
    "ExecuteTime": {
     "end_time": "2023-11-09T18:45:06.677254600Z",
     "start_time": "2023-11-09T18:45:06.397869800Z"
    }
   },
   "id": "642960103d2cc217"
  },
  {
   "cell_type": "code",
   "execution_count": 42,
   "outputs": [
    {
     "name": "stdout",
     "output_type": "stream",
     "text": [
      "10\n",
      "\t\t\\multicolumn{2}{l}{TSS} &  $0.44 \\pm 0.01$  &  $0.48 \\pm 0.02$  &  $0.39 \\pm 0.01$  &  $0.49 \\pm 0.01$  &  $0.32 \\pm 0.00$  &  $0.50 \\pm 0.02$  \\\\ \n",
      "\t\tTSS & Class Q &  $0.63 \\pm 0.00$  &  $0.65 \\pm 0.01$  &  $0.64 \\pm 0.01$  &  $0.67 \\pm 0.00$  &  $0.42 \\pm 0.00$  &  $0.66 \\pm 0.01$  \\\\ \n",
      "\t\tTSS & Class BC &  $0.42 \\pm 0.00$  &  $0.46 \\pm 0.02$  &  $0.54 \\pm 0.01$  &  $0.47 \\pm 0.00$  &  $0.29 \\pm 0.00$  &  $0.37 \\pm 0.04$  \\\\ \n",
      "\t\tTSS & Class M &  $0.44 \\pm 0.01$  &  $0.58 \\pm 0.04$  &  $0.31 \\pm 0.02$  &  $0.55 \\pm 0.01$  &  $0.27 \\pm 0.00$  &  $0.49 \\pm 0.04$  \\\\ \n",
      "\t\tTSS & Class X &  $0.29 \\pm 0.04$  &  $0.23 \\pm 0.09$  &  $0.09 \\pm 0.05$  &  $0.26 \\pm 0.03$  &  $0.30 \\pm 0.00$  &  $0.46 \\pm 0.07$  \\\\ \n",
      "\t\t\\multicolumn{2}{l}{HSS2} &  $0.30 \\pm 0.00$  &  $0.30 \\pm 0.01$  &  $0.34 \\pm 0.01$  &  $0.31 \\pm 0.00$  &  $0.26 \\pm 0.00$  &  $0.26 \\pm 0.02$  \\\\ \n",
      "\t\t\\multicolumn{2}{l}{Accuracy} &  $0.89 \\pm 0.00$  &  $0.85 \\pm 0.00$  &  $0.91 \\pm 0.00$  &  $0.87 \\pm 0.00$  &  $0.85 \\pm 0.00$  &  $0.86 \\pm 0.01$  \\\\ \n",
      "\t\t\\multicolumn{2}{l}{Precision} &  $0.40 \\pm 0.00$  &  $0.42 \\pm 0.01$  &  $0.44 \\pm 0.01$  &  $0.41 \\pm 0.00$  &  $0.40 \\pm 0.00$  &  $0.38 \\pm 0.01$  \\\\ \n",
      "\t\t\\multicolumn{2}{l}{Recall} &  $0.55 \\pm 0.01$  &  $0.58 \\pm 0.02$  &  $0.49 \\pm 0.01$  &  $0.58 \\pm 0.01$  &  $0.47 \\pm 0.00$  &  $0.59 \\pm 0.02$  \\\\ \n",
      "\t\t\\multicolumn{2}{l}{F1} &  $0.43 \\pm 0.00$  &  $0.44 \\pm 0.01$  &  $0.46 \\pm 0.01$  &  $0.44 \\pm 0.00$  &  $0.42 \\pm 0.00$  &  $0.40 \\pm 0.01$  \\\\ \n"
     ]
    }
   ],
   "source": [
    "binary = False\n",
    "\n",
    "\n",
    "def stats(metrics):\n",
    "    tss = [np.average(m.tss) for m in metrics]\n",
    "    tss_each = []\n",
    "    for i in range(4):\n",
    "        tss_each.append([m.tss[i] for m in metrics])\n",
    "    hss2 = [np.average(m.hss2) for m in metrics]\n",
    "    acc = [np.average(m.accuracy) for m in metrics]\n",
    "    prec = [np.average(m.precision) for m in metrics]\n",
    "    rec = [np.average(m.recall) for m in metrics]\n",
    "    f1 = [np.average(m.f1) for m in metrics]\n",
    "    \n",
    "    return ((np.average(tss), np.std(tss)),\n",
    "            (np.average(tss_each[0]), np.std(tss_each[0])),\n",
    "            (np.average(tss_each[1]), np.std(tss_each[1])),\n",
    "            (np.average(tss_each[2]), np.std(tss_each[2])),\n",
    "            (np.average(tss_each[3]), np.std(tss_each[3])),\n",
    "            (np.average(hss2), np.std(hss2)),\n",
    "            (np.average(acc), np.std(acc)), (np.average(prec), np.std(prec)),\n",
    "            (np.average(rec), np.std(rec)), (np.average(f1), np.std(f1)))\n",
    "\n",
    "\n",
    "cif = np.load(f\"./experiments_plot/baseline_cif_{binary}_cm.npy\")\n",
    "cnn = np.load(f\"./experiments_plot/baseline_cnn_{binary}_cm.npy\")\n",
    "lstmfcn = np.load(f\"./experiments_plot/baseline_lstmfcn_{binary}_cm.npy\")\n",
    "minirocket = np.load(f\"./experiments_plot/baseline_minirocket_{binary}_cm.npy\")\n",
    "svm = np.load(f\"./experiments_plot/baseline_svm_{binary}_cm.npy\")\n",
    "mine = np.load(f\"./experiments_plot/train_{binary}_cm.npy\")\n",
    "\n",
    "cif = [Metric(binary=binary, cm=cm) for cm in cif]\n",
    "cnn = [Metric(binary=binary, cm=cm) for cm in cnn]\n",
    "lstmfcn = [Metric(binary=binary, cm=cm) for cm in lstmfcn]\n",
    "minirocket = [Metric(binary=binary, cm=cm) for cm in minirocket]\n",
    "svm = [Metric(binary=binary, cm=cm) for cm in svm]\n",
    "mine = [Metric(binary=binary, cm=cm) for cm in mine]\n",
    "\n",
    "statsin = []\n",
    "statsin.append(stats(cif))\n",
    "statsin.append(stats(cnn))\n",
    "statsin.append(stats(lstmfcn))\n",
    "statsin.append(stats(minirocket))\n",
    "statsin.append(stats(svm))\n",
    "statsin.append(stats(mine))\n",
    "\n",
    "metrics = [\"TSS\", \"TSS  Class Q\", \"TSS  Class BC\", \"TSS  Class M\", \"TSS  Class X\", \"HSS2\", \"Accuracy\",\n",
    "           \"Precision\", \"Recall\", \"F1\"]\n",
    "print(len(metrics))\n",
    "for j in range(len(metrics)):\n",
    "    if len(metrics[j].split(\"  \")) > 1:\n",
    "        string = f\"\\t\\t{metrics[j].split('  ')[0]} & {metrics[j].split('  ')[1]} & \"\n",
    "    else:\n",
    "        string = f\"\\t\\t\\\\multicolumn{{2}}{{l}}{{{metrics[j]}}} & \"\n",
    "    for i in range(len(statsin)):\n",
    "        string += f\" ${statsin[i][j][0]:.2f} \\\\pm {statsin[i][j][1]:.2f}$ \"\n",
    "        if i != 5: string += \" & \"\n",
    "    string += \" \\\\\\\\ \"\n",
    "    print(string)"
   ],
   "metadata": {
    "collapsed": false,
    "ExecuteTime": {
     "end_time": "2023-10-16T08:11:08.386191700Z",
     "start_time": "2023-10-16T08:11:08.380362700Z"
    }
   },
   "id": "d3ebddd21fda8229"
  },
  {
   "cell_type": "code",
   "execution_count": null,
   "outputs": [],
   "source": [],
   "metadata": {
    "collapsed": false
   },
   "id": "e446a3be4e3c823d"
  }
 ],
 "metadata": {
  "kernelspec": {
   "display_name": "Python 3",
   "language": "python",
   "name": "python3"
  },
  "language_info": {
   "codemirror_mode": {
    "name": "ipython",
    "version": 2
   },
   "file_extension": ".py",
   "mimetype": "text/x-python",
   "name": "python",
   "nbconvert_exporter": "python",
   "pygments_lexer": "ipython2",
   "version": "2.7.6"
  }
 },
 "nbformat": 4,
 "nbformat_minor": 5
}
