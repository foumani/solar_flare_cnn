{
 "cells": [
  {
   "cell_type": "code",
   "id": "initial_id",
   "metadata": {
    "collapsed": true,
    "ExecuteTime": {
     "end_time": "2024-10-30T19:36:20.399719Z",
     "start_time": "2024-10-30T19:36:17.766754Z"
    }
   },
   "source": [
    "import matplotlib.pyplot as plt\n",
    "from util import Metric\n",
    "import numpy as np\n",
    "import os\n",
    "\n",
    "print(os.getcwd())"
   ],
   "outputs": [
    {
     "name": "stdout",
     "output_type": "stream",
     "text": [
      "/home/arash/workspace/solar_flare_cnn\n"
     ]
    }
   ],
   "execution_count": 2
  },
  {
   "cell_type": "code",
   "source": [
    "cif = np.load(\"./experiments_plot/baseline_cif_True_cm.npy\")\n",
    "cnn = np.load(\"./experiments_plot/baseline_cnn_True_cm.npy\")\n",
    "lstmfcn = np.load(\"./experiments_plot/baseline_lstmfcn_True_cm.npy\")\n",
    "minirocket = np.load(\"./experiments_plot/baseline_minirocket_True_cm.npy\")\n",
    "svm = np.load(\"./experiments_plot/baseline_svm_True_cm.npy\")\n",
    "mine = np.load(\"./experiments_plot/train_True_cm_False.npy\")\n",
    "print(mine.shape)\n",
    "cif = [Metric(binary=True, cm=cm) for cm in cif]\n",
    "cnn = [Metric(binary=True, cm=cm) for cm in cnn]\n",
    "lstmfcn = [Metric(binary=True, cm=cm) for cm in lstmfcn]\n",
    "minirocket = [Metric(binary=True, cm=cm) for cm in minirocket]\n",
    "svm = [Metric(binary=True, cm=cm) for cm in svm]\n",
    "mine = [Metric(binary=True, cm=cm) for cm in mine]\n",
    "\n",
    "datashow = [[m.tss for m in cif],\n",
    "            [m.tss for m in cnn],\n",
    "            [m.tss for m in lstmfcn],\n",
    "            [m.tss for m in minirocket],\n",
    "            [m.tss for m in svm],\n",
    "            [m.tss for m in mine]]\n",
    "\n",
    "print(cif)\n",
    "fig = plt.figure(figsize=(5, 3))\n",
    "ax = fig.add_axes([0, 0, 1, 1])\n",
    "bp = ax.boxplot(datashow)\n",
    "ax.set_xticklabels(\n",
    "    [\"CIF\", \"Sktime CNN\", \"LSTM-FCN\", \"Minirocket\", \"SVM\", \"Our Model\"])\n",
    "print(datashow[-1])\n",
    "plt.ylabel(\"TSS\")\n",
    "plt.show()"
   ],
   "metadata": {
    "collapsed": false,
    "ExecuteTime": {
     "end_time": "2024-10-30T18:55:13.505510Z",
     "start_time": "2024-10-30T18:55:13.412954Z"
    }
   },
   "id": "2a5eb1a8c6cbef1a",
   "outputs": [
    {
     "name": "stdout",
     "output_type": "stream",
     "text": [
      "(5, 2, 2)\n",
      "[Metric(tss: 68.81, f1:  11.06, cm: [[225169, 99782], [30, 6204]]), Metric(tss: 67.49, f1:  10.65, cm: [[220877, 104074], [30, 6204]]), Metric(tss: 68.13, f1:  10.83, cm: [[222691, 102260], [25, 6209]]), Metric(tss: 67.38, f1:  10.61, cm: [[220317, 104634], [26, 6208]]), Metric(tss: 66.26, f1:  10.27, cm: [[216404, 108547], [21, 6213]])]\n",
      "[np.float64(0.8166636593279337), np.float64(0.7978531398569726), np.float64(0.8058426305002189), np.float64(0.7993829877464695), np.float64(0.7901785526920739)]\n"
     ]
    },
    {
     "data": {
      "text/plain": [
       "<Figure size 500x300 with 1 Axes>"
      ],
      "image/png": "[encoded data removed]"
     },
     "metadata": {},
     "output_type": "display_data"
    }
   ],
   "execution_count": 2
  },
  {
   "metadata": {},
   "cell_type": "code",
   "outputs": [],
   "execution_count": null,
   "source": "",
   "id": "981c112cb30a5a43"
  },
  {
   "metadata": {
    "ExecuteTime": {
     "end_time": "2024-10-30T19:36:21.733963Z",
     "start_time": "2024-10-30T19:36:21.729871Z"
    }
   },
   "cell_type": "code",
   "source": [
    "# cif = np.load(\"./experiments_plot/baseline_cif_True_same_seed_cm.npy\")\n",
    "svm = np.load(\"./experiments_plot/baseline_svm_True_same_seed_cm.npy\")\n",
    "# cnn = np.load(\"./experiments_plot/baseline_cnn_True_same_seed_cm.npy\")\n",
    "lstmfcn = np.load(\"./experiments_plot/baseline_lstmfcn_True_same_seed_cm.npy\")\n",
    "# minirocket = np.load(\"./experiments_plot/baseline_minirocket_True_same_seed_cm.npy\")\n",
    "# svm = np.load(\"./experiments_plot/baseline_svm_True_same_seed_cm.npy\")\n",
    "# cif = [Metric(binary=True, cm=cm) for cm in cif]\n",
    "# cnn = [Metric(binary=True, cm=cm) for cm in cnn]\n",
    "lstmfcn = [Metric(binary=True, cm=cm) for cm in lstmfcn]\n",
    "# minirocket = [Metric(binary=True, cm=cm) for cm in minirocket]\n",
    "svm = [Metric(binary=True, cm=cm) for cm in svm]\n",
    "# mine = [Metric(binary=True, cm=cm) for cm in mine]\n",
    "print(svm)"
   ],
   "id": "20a4be9423e60726",
   "outputs": [
    {
     "name": "stdout",
     "output_type": "stream",
     "text": [
      "[Metric(tss: 41.24, f1:  10.17, cm: [[86479, 105715], [234, 5998]]), Metric(tss: 37.89, f1:   9.62, cm: [[79324, 112870], [211, 6021]]), Metric(tss: 38.00, f1:   9.66, cm: [[80366, 111828], [238, 5994]]), Metric(tss: 38.76, f1:   9.85, cm: [[84238, 107956], [316, 5916]]), Metric(tss: 36.20, f1:   9.40, cm: [[76922, 115272], [238, 5994]])]\n"
     ]
    }
   ],
   "execution_count": 3
  },
  {
   "cell_type": "code",
   "source": [
    "def stats(metrics):\n",
    "    tss = [m.tss for m in metrics]\n",
    "    hss2 = [m.hss2 for m in metrics]\n",
    "    acc = [m.accuracy for m in metrics]\n",
    "    prec = [m.precision for m in metrics]\n",
    "    rec = [m.recall for m in metrics]\n",
    "    f1 = [m.f1 for m in metrics]\n",
    "    \n",
    "    return ((np.average(tss), np.std(tss)), (np.average(hss2), np.std(hss2)),\n",
    "            (np.average(acc), np.std(acc)), (np.average(prec), np.std(prec)),\n",
    "            (np.average(rec), np.std(rec)), (np.average(f1), np.std(f1)))\n",
    "\n",
    "\n",
    "cif = np.load(\"./experiments_plot/baseline_cif_True_cm.npy\")\n",
    "cnn = np.load(\"./experiments_plot/baseline_cnn_True_cm.npy\")\n",
    "lstmfcn = np.load(\"./experiments_plot/baseline_lstmfcn_True_cm.npy\")\n",
    "minirocket = np.load(\"./experiments_plot/baseline_minirocket_True_cm.npy\")\n",
    "svm = np.load(\"./experiments_plot/baseline_svm_True_cm.npy\")\n",
    "mine = np.load(\"./experiments_plot/train_True_cm_False.npy\")\n",
    "\n",
    "cif = [Metric(binary=True, cm=cm) for cm in cif]\n",
    "cnn = [Metric(binary=True, cm=cm) for cm in cnn]\n",
    "lstmfcn = [Metric(binary=True, cm=cm) for cm in lstmfcn]\n",
    "minirocket = [Metric(binary=True, cm=cm) for cm in minirocket]\n",
    "svm = [Metric(binary=True, cm=cm) for cm in svm]\n",
    "mine = [Metric(binary=True, cm=cm) for cm in mine]\n",
    "\n",
    "statsin = []\n",
    "statsin.append(stats(cif))\n",
    "statsin.append(stats(cnn))\n",
    "statsin.append(stats(lstmfcn))\n",
    "statsin.append(stats(minirocket))\n",
    "statsin.append(stats(svm))\n",
    "statsin.append(stats(mine))\n",
    "\n",
    "metrics = [\"TSS\", \"HSS2\", \"Accuracy\", \"Precision\", \"Recall\", \"F1\"]\n",
    "for j in range(len(metrics)):\n",
    "    string = f\"\\t\\t{metrics[j]} & \"\n",
    "    for i in range(len(statsin)):\n",
    "        string += f\" ${statsin[i][j][0]:.3f} \\\\pm {statsin[i][j][1]:.3f}$ \"\n",
    "        if i != 5: string += \" & \"\n",
    "    string += \" \\\\\\\\ \"\n",
    "    print(string)"
   ],
   "metadata": {
    "collapsed": false,
    "ExecuteTime": {
     "end_time": "2024-10-30T07:49:38.656086Z",
     "start_time": "2024-10-30T07:49:38.641675Z"
    }
   },
   "id": "e64533379347eefc",
   "outputs": [
    {
     "name": "stdout",
     "output_type": "stream",
     "text": [
      "\t\tTSS &  $0.701 \\pm 0.008$  &  $0.796 \\pm 0.017$  &  $0.549 \\pm 0.051$  &  $0.789 \\pm 0.003$  &  $0.710 \\pm 0.005$  &  $0.780 \\pm 0.016$  \\\\ \n",
      "\t\tHSS2 &  $0.090 \\pm 0.004$  &  $0.229 \\pm 0.021$  &  $0.244 \\pm 0.032$  &  $0.272 \\pm 0.002$  &  $0.127 \\pm 0.002$  &  $0.272 \\pm 0.012$  \\\\ \n",
      "\t\tAccuracy &  $0.739 \\pm 0.009$  &  $0.900 \\pm 0.013$  &  $0.935 \\pm 0.019$  &  $0.922 \\pm 0.001$  &  $0.756 \\pm 0.003$  &  $0.923 \\pm 0.004$  \\\\ \n",
      "\t\tPrecision &  $0.065 \\pm 0.002$  &  $0.148 \\pm 0.014$  &  $0.173 \\pm 0.028$  &  $0.178 \\pm 0.001$  &  $0.092 \\pm 0.001$  &  $0.178 \\pm 0.008$  \\\\ \n",
      "\t\tRecall &  $0.966 \\pm 0.002$  &  $0.897 \\pm 0.028$  &  $0.607 \\pm 0.069$  &  $0.866 \\pm 0.003$  &  $0.959 \\pm 0.003$  &  $0.857 \\pm 0.017$  \\\\ \n",
      "\t\tF1 &  $0.123 \\pm 0.004$  &  $0.254 \\pm 0.020$  &  $0.266 \\pm 0.030$  &  $0.295 \\pm 0.002$  &  $0.168 \\pm 0.002$  &  $0.294 \\pm 0.011$  \\\\ \n"
     ]
    }
   ],
   "execution_count": 39
  },
  {
   "cell_type": "code",
   "source": [
    "binary = False\n",
    "cif = np.load(f\"./experiments_plot/baseline_cif_{binary}_cm.npy\")\n",
    "cnn = np.load(f\"./experiments_plot/baseline_cnn_{binary}_cm.npy\")\n",
    "lstmfcn = np.load(f\"./experiments_plot/baseline_lstmfcn_{binary}_cm.npy\")\n",
    "minirocket = np.load(f\"./experiments_plot/baseline_minirocket_{binary}_cm.npy\")\n",
    "svm = np.load(f\"./experiments_plot/baseline_svm_{binary}_cm.npy\")\n",
    "mine = np.load(f\"./experiments_plot/train_{binary}_cm_False.npy\")\n",
    "\n",
    "cif = [Metric(binary=False, cm=cm) for cm in cif]\n",
    "cnn = [Metric(binary=False, cm=cm) for cm in cnn]\n",
    "lstmfcn = [Metric(binary=False, cm=cm) for cm in lstmfcn]\n",
    "minirocket = [Metric(binary=False, cm=cm) for cm in minirocket]\n",
    "svm = [Metric(binary=False, cm=cm) for cm in svm]\n",
    "mine = [Metric(binary=False, cm=cm) for cm in mine]\n",
    "datashow = [[np.average(m.tss) for m in cif],\n",
    "            [np.average(m.tss) for m in cnn],\n",
    "            [np.average(m.tss) for m in lstmfcn],\n",
    "            [np.average(m.tss) for m in minirocket],\n",
    "            [np.average(m.tss) for m in svm],\n",
    "            [np.average(m.tss) for m in mine]]\n",
    "fig = plt.figure(figsize=(5, 3))\n",
    "ax = fig.add_axes([0, 0, 1, 1])\n",
    "bp = ax.boxplot(datashow)\n",
    "ax.set_xticklabels(\n",
    "    [\"CIF\", \"Sktime CNN\", \"LSTM-FCN\", \"Minirocket\", \"SVM\", \"Our Model\"])\n",
    "plt.ylabel(\"average TSS\")\n",
    "plt.show()\n",
    "print(mine)"
   ],
   "metadata": {
    "collapsed": false,
    "ExecuteTime": {
     "end_time": "2024-10-30T07:46:04.454545Z",
     "start_time": "2024-10-30T07:46:04.373977Z"
    }
   },
   "id": "642960103d2cc217",
   "outputs": [
    {
     "data": {
      "text/plain": [
       "<Figure size 500x300 with 1 Axes>"
      ],
      "image/png": "[encoded data removed]"
     },
     "metadata": {},
     "output_type": "display_data"
    },
    {
     "name": "stdout",
     "output_type": "stream",
     "text": [
      "[Metric(avg tss:  51.10, tss: [67.35359102 33.03369112 41.20186691 62.79234656],cm: [[209322, 55116, 9402, 402], [5096, 26925, 16121, 2567], [14, 1130, 2793, 1752], [0, 27, 168, 350]]), Metric(avg tss:  52.52, tss: [67.13846944 39.22656966 41.72915063 61.97542381],cm: [[208838, 59757, 5396, 251], [5110, 30963, 12633, 2003], [22, 1447, 2692, 1528], [0, 34, 167, 344]]), Metric(avg tss:  50.38, tss: [67.55070784 39.48530901 34.18674023 60.29069283],cm: [[210768, 57537, 5278, 659], [5285, 30680, 11123, 3621], [13, 1402, 2235, 2039], [0, 8, 198, 339]]), Metric(avg tss:  51.60, tss: [65.67619057 33.71888234 37.60119186 69.41610599],cm: [[205242, 61172, 7161, 667], [5199, 28382, 13852, 3276], [19, 1230, 2509, 1931], [0, 8, 149, 388]]), Metric(avg tss:  52.53, tss: [67.27994189 35.32200371 44.2820008  63.23765197],cm: [[209173, 57953, 6632, 484], [5108, 28603, 14631, 2367], [13, 1171, 2894, 1611], [0, 12, 181, 352]]), Metric(avg tss:  49.62, tss: [67.03058456 35.11911863 41.73810093 54.57518308],cm: [[207184, 58712, 8008, 338], [4835, 28682, 15019, 2173], [15, 1421, 2781, 1472], [0, 9, 232, 304]]), Metric(avg tss:  51.20, tss: [68.16077788 39.53892521 36.37643745 60.73993001],cm: [[212181, 56180, 5167, 714], [5230, 30451, 11656, 3372], [14, 1347, 2367, 1961], [0, 3, 201, 341]]), Metric(avg tss:  51.57, tss: [67.92897796 35.75376589 38.32259035 64.25771981],cm: [[210375, 54857, 8446, 564], [4987, 28281, 14494, 2947], [14, 1266, 2584, 1825], [0, 21, 165, 359]]), Metric(avg tss:  51.11, tss: [67.75279751 32.54233534 39.48318923 64.65534732],cm: [[209940, 54825, 8767, 710], [4996, 26599, 15359, 3755], [15, 1020, 2671, 1983], [0, 3, 179, 363]]), Metric(avg tss:  52.06, tss: [66.01930494 32.39761926 39.7824308  70.05164851],cm: [[209848, 54640, 9199, 555], [5945, 26522, 15589, 2653], [34, 1178, 2699, 1778], [0, 10, 145, 390]])]\n"
     ]
    }
   ],
   "execution_count": 4
  },
  {
   "cell_type": "code",
   "execution_count": 42,
   "outputs": [
    {
     "name": "stdout",
     "output_type": "stream",
     "text": [
      "10\n",
      "\t\t\\multicolumn{2}{l}{TSS} &  $0.44 \\pm 0.01$  &  $0.48 \\pm 0.02$  &  $0.39 \\pm 0.01$  &  $0.49 \\pm 0.01$  &  $0.32 \\pm 0.00$  &  $0.50 \\pm 0.02$  \\\\ \n",
      "\t\tTSS & Class Q &  $0.63 \\pm 0.00$  &  $0.65 \\pm 0.01$  &  $0.64 \\pm 0.01$  &  $0.67 \\pm 0.00$  &  $0.42 \\pm 0.00$  &  $0.66 \\pm 0.01$  \\\\ \n",
      "\t\tTSS & Class BC &  $0.42 \\pm 0.00$  &  $0.46 \\pm 0.02$  &  $0.54 \\pm 0.01$  &  $0.47 \\pm 0.00$  &  $0.29 \\pm 0.00$  &  $0.37 \\pm 0.04$  \\\\ \n",
      "\t\tTSS & Class M &  $0.44 \\pm 0.01$  &  $0.58 \\pm 0.04$  &  $0.31 \\pm 0.02$  &  $0.55 \\pm 0.01$  &  $0.27 \\pm 0.00$  &  $0.49 \\pm 0.04$  \\\\ \n",
      "\t\tTSS & Class X &  $0.29 \\pm 0.04$  &  $0.23 \\pm 0.09$  &  $0.09 \\pm 0.05$  &  $0.26 \\pm 0.03$  &  $0.30 \\pm 0.00$  &  $0.46 \\pm 0.07$  \\\\ \n",
      "\t\t\\multicolumn{2}{l}{HSS2} &  $0.30 \\pm 0.00$  &  $0.30 \\pm 0.01$  &  $0.34 \\pm 0.01$  &  $0.31 \\pm 0.00$  &  $0.26 \\pm 0.00$  &  $0.26 \\pm 0.02$  \\\\ \n",
      "\t\t\\multicolumn{2}{l}{Accuracy} &  $0.89 \\pm 0.00$  &  $0.85 \\pm 0.00$  &  $0.91 \\pm 0.00$  &  $0.87 \\pm 0.00$  &  $0.85 \\pm 0.00$  &  $0.86 \\pm 0.01$  \\\\ \n",
      "\t\t\\multicolumn{2}{l}{Precision} &  $0.40 \\pm 0.00$  &  $0.42 \\pm 0.01$  &  $0.44 \\pm 0.01$  &  $0.41 \\pm 0.00$  &  $0.40 \\pm 0.00$  &  $0.38 \\pm 0.01$  \\\\ \n",
      "\t\t\\multicolumn{2}{l}{Recall} &  $0.55 \\pm 0.01$  &  $0.58 \\pm 0.02$  &  $0.49 \\pm 0.01$  &  $0.58 \\pm 0.01$  &  $0.47 \\pm 0.00$  &  $0.59 \\pm 0.02$  \\\\ \n",
      "\t\t\\multicolumn{2}{l}{F1} &  $0.43 \\pm 0.00$  &  $0.44 \\pm 0.01$  &  $0.46 \\pm 0.01$  &  $0.44 \\pm 0.00$  &  $0.42 \\pm 0.00$  &  $0.40 \\pm 0.01$  \\\\ \n"
     ]
    }
   ],
   "source": [
    "binary = False\n",
    "\n",
    "\n",
    "def stats(metrics):\n",
    "    tss = [np.average(m.tss) for m in metrics]\n",
    "    tss_each = []\n",
    "    for i in range(4):\n",
    "        tss_each.append([m.tss[i] for m in metrics])\n",
    "    hss2 = [np.average(m.hss2) for m in metrics]\n",
    "    acc = [np.average(m.accuracy) for m in metrics]\n",
    "    prec = [np.average(m.precision) for m in metrics]\n",
    "    rec = [np.average(m.recall) for m in metrics]\n",
    "    f1 = [np.average(m.f1) for m in metrics]\n",
    "    \n",
    "    return ((np.average(tss), np.std(tss)),\n",
    "            (np.average(tss_each[0]), np.std(tss_each[0])),\n",
    "            (np.average(tss_each[1]), np.std(tss_each[1])),\n",
    "            (np.average(tss_each[2]), np.std(tss_each[2])),\n",
    "            (np.average(tss_each[3]), np.std(tss_each[3])),\n",
    "            (np.average(hss2), np.std(hss2)),\n",
    "            (np.average(acc), np.std(acc)), (np.average(prec), np.std(prec)),\n",
    "            (np.average(rec), np.std(rec)), (np.average(f1), np.std(f1)))\n",
    "\n",
    "\n",
    "cif = np.load(f\"./experiments_plot/baseline_cif_{binary}_cm.npy\")\n",
    "cnn = np.load(f\"./experiments_plot/baseline_cnn_{binary}_cm.npy\")\n",
    "lstmfcn = np.load(f\"./experiments_plot/baseline_lstmfcn_{binary}_cm.npy\")\n",
    "minirocket = np.load(f\"./experiments_plot/baseline_minirocket_{binary}_cm.npy\")\n",
    "svm = np.load(f\"./experiments_plot/baseline_svm_{binary}_cm.npy\")\n",
    "mine = np.load(f\"./experiments_plot/train_{binary}_cm.npy\")\n",
    "\n",
    "cif = [Metric(binary=binary, cm=cm) for cm in cif]\n",
    "cnn = [Metric(binary=binary, cm=cm) for cm in cnn]\n",
    "lstmfcn = [Metric(binary=binary, cm=cm) for cm in lstmfcn]\n",
    "minirocket = [Metric(binary=binary, cm=cm) for cm in minirocket]\n",
    "svm = [Metric(binary=binary, cm=cm) for cm in svm]\n",
    "mine = [Metric(binary=binary, cm=cm) for cm in mine]\n",
    "\n",
    "statsin = []\n",
    "statsin.append(stats(cif))\n",
    "statsin.append(stats(cnn))\n",
    "statsin.append(stats(lstmfcn))\n",
    "statsin.append(stats(minirocket))\n",
    "statsin.append(stats(svm))\n",
    "statsin.append(stats(mine))\n",
    "\n",
    "metrics = [\"TSS\", \"TSS  Class Q\", \"TSS  Class BC\", \"TSS  Class M\", \"TSS  Class X\", \"HSS2\", \"Accuracy\",\n",
    "           \"Precision\", \"Recall\", \"F1\"]\n",
    "print(len(metrics))\n",
    "for j in range(len(metrics)):\n",
    "    if len(metrics[j].split(\"  \")) > 1:\n",
    "        string = f\"\\t\\t{metrics[j].split('  ')[0]} & {metrics[j].split('  ')[1]} & \"\n",
    "    else:\n",
    "        string = f\"\\t\\t\\\\multicolumn{{2}}{{l}}{{{metrics[j]}}} & \"\n",
    "    for i in range(len(statsin)):\n",
    "        string += f\" ${statsin[i][j][0]:.2f} \\\\pm {statsin[i][j][1]:.2f}$ \"\n",
    "        if i != 5: string += \" & \"\n",
    "    string += \" \\\\\\\\ \"\n",
    "    print(string)"
   ],
   "metadata": {
    "collapsed": false,
    "ExecuteTime": {
     "end_time": "2023-10-16T08:11:08.386191700Z",
     "start_time": "2023-10-16T08:11:08.380362700Z"
    }
   },
   "id": "d3ebddd21fda8229"
  },
  {
   "cell_type": "code",
   "execution_count": null,
   "outputs": [],
   "source": [],
   "metadata": {
    "collapsed": false
   },
   "id": "e446a3be4e3c823d"
  }
 ],
 "metadata": {
  "kernelspec": {
   "display_name": "Python 3",
   "language": "python",
   "name": "python3"
  },
  "language_info": {
   "codemirror_mode": {
    "name": "ipython",
    "version": 2
   },
   "file_extension": ".py",
   "mimetype": "text/x-python",
   "name": "python",
   "nbconvert_exporter": "python",
   "pygments_lexer": "ipython2",
   "version": "2.7.6"
  }
 },
 "nbformat": 4,
 "nbformat_minor": 5
}
