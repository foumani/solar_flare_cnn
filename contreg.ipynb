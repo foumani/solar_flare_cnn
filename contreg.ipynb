{
 "cells": [
  {
   "cell_type": "code",
   "id": "initial_id",
   "metadata": {
    "collapsed": true,
    "ExecuteTime": {
     "end_time": "2025-04-28T23:41:09.380124Z",
     "start_time": "2025-04-28T23:41:09.375142Z"
    }
   },
   "source": [
    "import os\n",
    "import pickle\n",
    "import numpy as np\n",
    "import pandas as pd\n",
    "\n",
    "import tensorflow as tf\n",
    "from tensorflow.keras.layers import Input, GRU, Dense, GlobalAveragePooling1D, LSTM, Dropout, Concatenate\n",
    "from tensorflow.keras.models import Model\n",
    "import numpy as np\n",
    "from sklearn.metrics import confusion_matrix\n",
    "from tqdm import tqdm\n",
    "import random\n",
    "import utils\n"
   ],
   "outputs": [],
   "execution_count": 60
  },
  {
   "metadata": {
    "ExecuteTime": {
     "end_time": "2025-04-28T23:41:09.403754Z",
     "start_time": "2025-04-28T23:41:09.400665Z"
    }
   },
   "cell_type": "code",
   "source": "print(tf.config.list_physical_devices('GPU'))",
   "id": "a690e81c959d4186",
   "outputs": [
    {
     "name": "stdout",
     "output_type": "stream",
     "text": [
      "[PhysicalDevice(name='/physical_device:GPU:0', device_type='GPU'), PhysicalDevice(name='/physical_device:GPU:1', device_type='GPU'), PhysicalDevice(name='/physical_device:GPU:2', device_type='GPU'), PhysicalDevice(name='/physical_device:GPU:3', device_type='GPU')]\n"
     ]
    }
   ],
   "execution_count": 61
  },
  {
   "metadata": {
    "ExecuteTime": {
     "end_time": "2025-04-28T23:41:09.511085Z",
     "start_time": "2025-04-28T23:41:09.503879Z"
    }
   },
   "cell_type": "code",
   "source": [
    "import sys\n",
    "import utils\n",
    "\n",
    "sys.argv = ['notebook', '--datadir', '/mnt/sda1/arash/data/solar_flare', \"--logdir\", \"log5\", \"--runs\",  \"1\", \"--modelreport\", \"model_contreg.csv\", \"--configreport\", \"config_contreg.csv\", \"--splitreport\", \"split_contreg.csv\", \"--resultdir\", \"experiments_plot5\", \"--resultfilename\", \"contreg\", \"--ndbsr\", \"--aug\"]\n",
    "\n",
    "import argparse\n",
    "\n",
    "args = utils.arg_parse()\n",
    "args.test_part = 5"
   ],
   "id": "4800865569d8451e",
   "outputs": [],
   "execution_count": 62
  },
  {
   "metadata": {
    "ExecuteTime": {
     "end_time": "2025-04-28T23:41:09.538155Z",
     "start_time": "2025-04-28T23:41:09.534807Z"
    }
   },
   "cell_type": "code",
   "source": "args.smote",
   "id": "fba65e8a58dc150f",
   "outputs": [
    {
     "data": {
      "text/plain": [
       "False"
      ]
     },
     "execution_count": 63,
     "metadata": {},
     "output_type": "execute_result"
    }
   ],
   "execution_count": 63
  },
  {
   "metadata": {
    "ExecuteTime": {
     "end_time": "2025-04-28T23:41:13.115442Z",
     "start_time": "2025-04-28T23:41:09.571149Z"
    }
   },
   "cell_type": "code",
   "source": [
    "from data import Data\n",
    "\n",
    "data = Data(args)"
   ],
   "id": "4f0cce6783bda29a",
   "outputs": [
    {
     "name": "stdout",
     "output_type": "stream",
     "text": [
      "Reading all files df ...\n",
      "/mnt/sda1/arash/data/solar_flare/full_data_X_1_25.npy\n",
      "Reading all files np ...\n",
      "(331185, 24, 60)\n",
      "(11260011,)\n"
     ]
    }
   ],
   "execution_count": 64
  },
  {
   "metadata": {
    "ExecuteTime": {
     "end_time": "2025-04-28T23:41:13.119766Z",
     "start_time": "2025-04-28T23:41:13.117152Z"
    }
   },
   "cell_type": "code",
   "source": "args.train_n = [5000, 5000]",
   "id": "e30e8b36a06490ec",
   "outputs": [],
   "execution_count": 65
  },
  {
   "metadata": {
    "ExecuteTime": {
     "end_time": "2025-04-28T23:41:13.123820Z",
     "start_time": "2025-04-28T23:41:13.120830Z"
    }
   },
   "cell_type": "code",
   "source": "args.smote",
   "id": "8eb55a2ad983a8f1",
   "outputs": [
    {
     "data": {
      "text/plain": [
       "False"
      ]
     },
     "execution_count": 66,
     "metadata": {},
     "output_type": "execute_result"
    }
   ],
   "execution_count": 66
  },
  {
   "metadata": {
    "ExecuteTime": {
     "end_time": "2025-04-28T23:41:18.108524Z",
     "start_time": "2025-04-28T23:41:13.125245Z"
    }
   },
   "cell_type": "code",
   "source": "X_train_np, y_train_np, X_val_np, y_val_np, X_test_np, y_test_np, files_train, files_val, files_test = data.numpy_datasets(args, 0)",
   "id": "6734fc62c5f9d54f",
   "outputs": [
    {
     "name": "stdout",
     "output_type": "stream",
     "text": [
      "None\n",
      "(5009, 24, 60) (5009,) 5009\n",
      "There are (2364, 2645) instances.\n",
      "There are (1926, 2645) instances, 438 removed\n",
      "(4571, 24, 60) (4571,) 4571\n",
      "(4571, 24, 60) (4571,) 4571\n",
      "(4571, 24, 60) (4571,) 4571\n"
     ]
    }
   ],
   "execution_count": 67
  },
  {
   "metadata": {
    "ExecuteTime": {
     "end_time": "2025-04-28T23:41:18.113881Z",
     "start_time": "2025-04-28T23:41:18.110212Z"
    }
   },
   "cell_type": "code",
   "source": [
    "X_train_np = X_train_np.transpose([0, 2, 1])\n",
    "X_val_np = X_val_np.transpose([0, 2, 1])\n",
    "X_test_np = X_test_np.transpose([0, 2, 1])"
   ],
   "id": "8fb3c23ea5c03d9a",
   "outputs": [],
   "execution_count": 68
  },
  {
   "metadata": {
    "ExecuteTime": {
     "end_time": "2025-04-28T23:41:18.117736Z",
     "start_time": "2025-04-28T23:41:18.115012Z"
    }
   },
   "cell_type": "code",
   "source": [
    "print(X_train_np.shape)\n",
    "print(X_val_np.shape)\n",
    "print(X_test_np.shape)"
   ],
   "id": "e0649d242e93afab",
   "outputs": [
    {
     "name": "stdout",
     "output_type": "stream",
     "text": [
      "(4571, 60, 24)\n",
      "(3318, 60, 24)\n",
      "(54733, 60, 24)\n"
     ]
    }
   ],
   "execution_count": 69
  },
  {
   "metadata": {
    "ExecuteTime": {
     "end_time": "2025-04-28T23:41:18.121891Z",
     "start_time": "2025-04-28T23:41:18.118658Z"
    }
   },
   "cell_type": "code",
   "source": "len(files_train)",
   "id": "2afd4f4cfd744219",
   "outputs": [
    {
     "data": {
      "text/plain": [
       "4571"
      ]
     },
     "execution_count": 70,
     "metadata": {},
     "output_type": "execute_result"
    }
   ],
   "execution_count": 70
  },
  {
   "metadata": {
    "ExecuteTime": {
     "end_time": "2025-04-28T23:41:18.125221Z",
     "start_time": "2025-04-28T23:41:18.122791Z"
    }
   },
   "cell_type": "code",
   "source": "y_type_train = files_train[\"flare_type_num\"].to_numpy()",
   "id": "85b3c33b972ba7f9",
   "outputs": [],
   "execution_count": 71
  },
  {
   "metadata": {
    "ExecuteTime": {
     "end_time": "2025-04-28T23:41:18.129050Z",
     "start_time": "2025-04-28T23:41:18.126122Z"
    }
   },
   "cell_type": "code",
   "source": "len(y_type_train)",
   "id": "98ebfd22bb386a91",
   "outputs": [
    {
     "data": {
      "text/plain": [
       "4571"
      ]
     },
     "execution_count": 72,
     "metadata": {},
     "output_type": "execute_result"
    }
   ],
   "execution_count": 72
  },
  {
   "metadata": {
    "ExecuteTime": {
     "end_time": "2025-04-28T23:41:18.132885Z",
     "start_time": "2025-04-28T23:41:18.131Z"
    }
   },
   "cell_type": "code",
   "source": "# y_type_train.to_numpy()\n",
   "id": "60d2ef904327156",
   "outputs": [],
   "execution_count": 73
  },
  {
   "metadata": {
    "ExecuteTime": {
     "end_time": "2025-04-28T23:41:18.136575Z",
     "start_time": "2025-04-28T23:41:18.133710Z"
    }
   },
   "cell_type": "code",
   "source": [
    "print(X_train_np.shape)\n",
    "print(y_train_np.shape)\n",
    "print(X_test_np.shape)\n",
    "print(y_test_np.shape)\n",
    "print(y_type_train.shape)\n",
    "print(len(files_train))"
   ],
   "id": "6389dcdf353b7ebd",
   "outputs": [
    {
     "name": "stdout",
     "output_type": "stream",
     "text": [
      "(4571, 60, 24)\n",
      "(4571,)\n",
      "(54733, 60, 24)\n",
      "(54733,)\n",
      "(4571,)\n",
      "4571\n"
     ]
    }
   ],
   "execution_count": 74
  },
  {
   "metadata": {
    "ExecuteTime": {
     "end_time": "2025-04-28T23:41:18.162416Z",
     "start_time": "2025-04-28T23:41:18.137581Z"
    }
   },
   "cell_type": "code",
   "source": [
    "def contrastive_regression(X_train, y_train, y_type_train, X_test, y_test, y_type_test):\n",
    "    # Define triplet loss function\n",
    "    def triplet_loss(anchor, positives, negatives, margin=4.0):\n",
    "        # Reshape the inputs to combine the temporal and feature dimensions\n",
    "        anchor_flat = tf.reshape(anchor, [anchor.shape[0], -1])\n",
    "        positives_flat = tf.reshape(positives, [positives.shape[0], positives.shape[1], -1])\n",
    "        negatives_flat = tf.reshape(negatives, [negatives.shape[0], negatives.shape[1], -1])\n",
    "\n",
    "        # Normalize the vectors to unit length\n",
    "        anchor_normalized = tf.nn.l2_normalize(anchor_flat, axis=-1)\n",
    "        positives_normalized = tf.nn.l2_normalize(positives_flat, axis=-1)\n",
    "        negatives_normalized = tf.nn.l2_normalize(negatives_flat, axis=-1)\n",
    "\n",
    "        # Compute the cosine similarity\n",
    "        pos_similarity = tf.reduce_sum(anchor_normalized[:, tf.newaxis, :] * positives_normalized, axis=-1)\n",
    "        neg_similarity = tf.reduce_sum(anchor_normalized[:, tf.newaxis, :] * negatives_normalized, axis=-1)\n",
    "\n",
    "        # Convert cosine similarity to cosine distance\n",
    "        pos_distance = 1 - pos_similarity\n",
    "        neg_distance = 1 - neg_similarity\n",
    "\n",
    "        # Sum the distances to positives and negatives\n",
    "        pos_distance_sum = tf.reduce_sum(pos_distance, axis=-1)\n",
    "        neg_distance_sum = tf.reduce_sum(neg_distance, axis=-1)\n",
    "\n",
    "        # Compute the triplet loss with cosine distance\n",
    "        loss = tf.maximum(pos_distance_sum - neg_distance_sum + margin, 0.0)\n",
    "        return tf.reduce_mean(loss)\n",
    "\n",
    "    # Build GRU model with embedding and classification heads\n",
    "    def build_contrastive_model(input_shape, num_lstm_layers, lstm_units, dense_units, dropout_rate=0.3):\n",
    "        inputs = Input(shape=input_shape)\n",
    "        x = inputs\n",
    "        for _ in range(num_lstm_layers):\n",
    "            x = GRU(lstm_units, return_sequences=True)(x)\n",
    "            x = Dropout(dropout_rate)(x)  # Add dropout after each GRU layer\n",
    "        x = GlobalAveragePooling1D()(x)\n",
    "        embeddings = Dense(dense_units, activation='relu')(x)\n",
    "\n",
    "        # Create model\n",
    "        model = Model(inputs, embeddings)\n",
    "        return model\n",
    "\n",
    "    # Build simple GRU model for normal learning\n",
    "    def build_regression_model(input_shape, num_gru_layers, gru_units, dropout_rate=0.3):\n",
    "        inputs = Input(shape=input_shape)\n",
    "        x = inputs\n",
    "        for _ in range(num_gru_layers):\n",
    "            x = GRU(gru_units, return_sequences=True)(x)\n",
    "            x = Dropout(dropout_rate)(x)  # Add dropout after each GRU layer\n",
    "        x = GlobalAveragePooling1D()(x)\n",
    "        mid = Dense(2, activation='relu')(x)\n",
    "        classification_output = Dense(1)(mid)\n",
    "\n",
    "        # Create model\n",
    "        model = Model(inputs, classification_output)\n",
    "        return model\n",
    "\n",
    "    # Combine contrastive and normal learning models\n",
    "    def combined_model(input_shape, num_layers, units, dense_units, dropout_rate=0.3):\n",
    "        contrastive_model = build_contrastive_model(input_shape, num_layers, units, dense_units, dropout_rate)\n",
    "        regression_model = build_regression_model(input_shape, num_layers, units, dropout_rate)\n",
    "\n",
    "        inputs = Input(shape=input_shape)\n",
    "        contrastive_embeddings = contrastive_model(inputs)\n",
    "        regression_output = regression_model(inputs)\n",
    "\n",
    "        combined_input = Concatenate()([inputs[:,0,:], contrastive_embeddings, regression_output])\n",
    "\n",
    "        mid = Dense(12, activation='relu')(combined_input)\n",
    "\n",
    "        mid = Dense(4, activation='relu')(mid)\n",
    "\n",
    "        final_output = Dense(1, activation='sigmoid')(mid)\n",
    "\n",
    "        model = Model(inputs, final_output)\n",
    "        return model, contrastive_model, regression_model\n",
    "\n",
    "    # Example usage\n",
    "    input_shape = (60, 24)  # Update based on your actual data shape\n",
    "    num_layers = 2\n",
    "    num_units = 6\n",
    "    dense_units = 4\n",
    "\n",
    "    classification_model, contrastive_model, regression_model = combined_model(input_shape, num_layers, num_units, dense_units)\n",
    "    contrastive_model.summary()\n",
    "    regression_model.summary()\n",
    "    classification_model.summary()\n",
    "\n",
    "    # Function to generate triplets\n",
    "    def generate_triplets(X, y, num_samples=4, batch_size=64):\n",
    "        anchors = []\n",
    "        positives = []\n",
    "        negatives = []\n",
    "\n",
    "        num_batches = np.ceil(len(X) / batch_size).astype(int)\n",
    "\n",
    "        for i in range(len(X)):\n",
    "            anchor = X[i]\n",
    "            g = i // batch_size\n",
    "\n",
    "            # Calculate range for the current batch\n",
    "            batch_start = batch_size * g\n",
    "            batch_end = min(batch_size * (g + 1), len(X))\n",
    "\n",
    "            positive_indices = np.where((y == y[i]) & (np.arange(len(y)) >= batch_start) & (np.arange(len(y)) < batch_end))[0]\n",
    "            negative_indices = np.where((y != y[i]) & (np.arange(len(y)) >= batch_start) & (np.arange(len(y)) < batch_end))[0]\n",
    "\n",
    "            positive_indices = positive_indices[positive_indices != i]\n",
    "\n",
    "            selected_positives = list(positive_indices)\n",
    "            selected_negatives = list(negative_indices)\n",
    "\n",
    "            # Keep collecting positives and negatives until we have enough\n",
    "            batch = g + 1\n",
    "            while len(selected_positives) < num_samples or len(selected_negatives) < num_samples:\n",
    "                if batch >= num_batches:\n",
    "                    batch = 0  # Loop back to the start of the dataset\n",
    "\n",
    "                if len(selected_positives) < num_samples:\n",
    "                    batch_start = batch_size * batch\n",
    "                    batch_end = min(batch_size * (batch + 1), len(X))\n",
    "                    new_positives = np.where((y == y[i]) & (np.arange(len(y)) >= batch_start) & (np.arange(len(y)) < batch_end))[0]\n",
    "                    new_positives = new_positives[new_positives != i]\n",
    "                    selected_positives.extend(new_positives)\n",
    "\n",
    "                if len(selected_negatives) < num_samples:\n",
    "                    batch_start = batch_size * batch\n",
    "                    batch_end = min(batch_size * (batch + 1), len(X))\n",
    "                    new_negatives = np.where((y != y[i]) & (np.arange(len(y)) >= batch_start) & (np.arange(len(y)) < batch_end))[0]\n",
    "                    selected_negatives.extend(new_negatives)\n",
    "\n",
    "                if batch == g:\n",
    "                    # If we loop back to the original batch, break to avoid infinite loop\n",
    "                    break\n",
    "                batch += 1\n",
    "\n",
    "            selected_positives = np.array(selected_positives)[:num_samples]\n",
    "            selected_negatives = np.array(selected_negatives)[:num_samples]\n",
    "\n",
    "            anchors.append(anchor)\n",
    "            positives.append(X[selected_positives])\n",
    "            negatives.append(X[selected_negatives])\n",
    "\n",
    "        return np.array(anchors), np.array(positives), np.array(negatives)\n",
    "\n",
    "    epochs = 10\n",
    "    batch_size = 1024\n",
    "\n",
    "    anchors, positives, negatives = generate_triplets(X_train, y_train, 4, batch_size)\n",
    "\n",
    "    # Compile model with separate loss functions\n",
    "    optimizer = tf.keras.optimizers.Adam()\n",
    "\n",
    "    # Training loop with triplet and classification loss\n",
    "\n",
    "    for epoch in range(epochs):\n",
    "        epoch_loss_triplet = 0\n",
    "        epoch_loss_regression = 0\n",
    "        epoch_loss_classification = 0\n",
    "        num_batches = 0\n",
    "\n",
    "        print(f'Epoch {epoch + 1}/{epochs}')\n",
    "        for i in tqdm(range(0, len(anchors), batch_size), desc=f\"Epoch {epoch + 1}/{epochs}\", unit=\"batch\"):\n",
    "            a_batch = anchors[i:i + batch_size]\n",
    "            p_batch = positives[i:i + batch_size]\n",
    "            n_batch = negatives[i:i + batch_size]\n",
    "            x_batch = X_train[i:i + batch_size]\n",
    "            y_batch = y_train[i:i + batch_size]\n",
    "            y_type_batch = y_type_train[i:i + batch_size]\n",
    "\n",
    "            # Reshape y_batch to match the shape of classification_output\n",
    "            y_batch = y_batch.reshape(-1, 1)\n",
    "            y_type_batch = y_type_batch.reshape(-1, 1)\n",
    "\n",
    "            with tf.GradientTape() as tape:\n",
    "                anchor_embeddings = contrastive_model(a_batch, training=True)\n",
    "\n",
    "                positive_embeddings_list = []\n",
    "                negative_embeddings_list = []\n",
    "\n",
    "                for j in range(4):\n",
    "                    positive_embedding = contrastive_model(p_batch[:, j, :, :], training=True)\n",
    "                    negative_embedding = contrastive_model(n_batch[:, j, :, :], training=True)\n",
    "                    positive_embeddings_list.append(positive_embedding)\n",
    "                    negative_embeddings_list.append(negative_embedding)\n",
    "\n",
    "                positive_embeddings = tf.stack(positive_embeddings_list, axis=1)\n",
    "                negative_embeddings = tf.stack(negative_embeddings_list, axis=1)\n",
    "\n",
    "                # Compute triplet loss\n",
    "                loss_triplet = triplet_loss(anchor_embeddings, positive_embeddings, negative_embeddings)\n",
    "\n",
    "                # Compute regression loss\n",
    "                regression_output = regression_model(x_batch, training=True)\n",
    "                loss_regression = tf.keras.losses.MeanSquaredError()(y_type_batch, regression_output)\n",
    "                loss_regression = tf.reduce_mean(loss_regression) * 0.00000001\n",
    "\n",
    "                # Compute final classification loss\n",
    "                combined_output = classification_model(x_batch, training=True)\n",
    "                loss_classification = tf.keras.losses.binary_crossentropy(y_batch, combined_output)\n",
    "                loss_classification = tf.reduce_mean(loss_classification) \n",
    "\n",
    "                # Total loss\n",
    "                total_loss = loss_triplet + loss_regression + loss_classification\n",
    "\n",
    "            gradients = tape.gradient(total_loss, classification_model.trainable_variables + regression_model.trainable_variables + contrastive_model.trainable_variables)\n",
    "            optimizer.apply_gradients(zip(gradients, classification_model.trainable_variables + regression_model.trainable_variables + contrastive_model.trainable_variables))\n",
    "\n",
    "            epoch_loss_triplet += loss_triplet.numpy()\n",
    "            epoch_loss_regression += loss_regression.numpy()\n",
    "            epoch_loss_classification += loss_classification.numpy()\n",
    "            num_batches += 1\n",
    "\n",
    "        avg_loss_triplet = epoch_loss_triplet / num_batches\n",
    "        avg_loss_regression = epoch_loss_regression / num_batches\n",
    "        avg_loss_classification = epoch_loss_classification / num_batches\n",
    "\n",
    "        print(f'Epoch {epoch + 1} - Triplet Loss: {avg_loss_triplet:.4f}, Regression Loss: {avg_loss_regression:.4f}, Classification Loss: {avg_loss_classification:.4f}')\n",
    "\n",
    "    print(\"Training completed!\")\n",
    "    \n",
    "    \n",
    "    best_threshold = 0.0\n",
    "    best_tss = 0.0\n",
    "    y_pred = classification_model.predict(X_test)\n",
    "    # evaluate model\n",
    "    for i in range(1, 1000):\n",
    "\n",
    "        threshold = i / 1000 # Adjust the threshold as needed\n",
    "        y_pred_binary = (y_pred > threshold).astype(int)\n",
    "        confusion = confusion_matrix(y_test, y_pred_binary)\n",
    "        tn, fp, fn, tp = confusion.ravel()\n",
    "        metric = utils.Metric(cm=confusion)\n",
    "        tss = metric.tss\n",
    "        if tss > best_tss:\n",
    "            best_tss = tss\n",
    "            best_threshold = i / 1000\n",
    "    \n",
    "    print(str(X_train.shape)+': The Classifier is Done! \\n')\n",
    "\n",
    "    \n",
    "    threshold = best_threshold # Adjust the threshold as needed\n",
    "    y_pred_binary = (y_pred > threshold).astype(int)\n",
    "    confusion = confusion_matrix(y_test, y_pred_binary)\n",
    "    # tn, fp, fn, tp = confusion.ravel()\n",
    "    # metric = utils.Metric(confusion)\n",
    "\n",
    "    # tss = TSS(tp,tn,fp,fn)\n",
    "    # hss1 = HSS1(tp,tn,fp,fn)\n",
    "    # hss2 = HSS2(tp,tn,fp,fn)\n",
    "    # gss = GSS(tp,tn,fp,fn)\n",
    "    # recall = Recall(tp,tn,fp,fn)\n",
    "    # precision = Precision(tp,tn,fp,fn)\n",
    "    # \n",
    "    # output_values = np.array([tp, fn, fp, tn, tss, hss1, hss2, gss, recall, precision])\n",
    "\n",
    "\n",
    "    #joblib.dump(classifier, data_dir + \"mlp_model.pkl\")\n",
    "\n",
    "    #loaded_mlp_model = joblib.load(data_dir + \"mlp_model.pkl\")\n",
    "    \n",
    "    return y_pred_binary"
   ],
   "id": "cf772ee894695052",
   "outputs": [],
   "execution_count": 75
  },
  {
   "metadata": {
    "ExecuteTime": {
     "end_time": "2025-04-28T23:42:31.663472Z",
     "start_time": "2025-04-28T23:41:18.163487Z"
    }
   },
   "cell_type": "code",
   "source": "y_pred = contrastive_regression(X_train_np, y_train_np, y_type_train, X_test_np, y_test_np, None)",
   "id": "52379d99350c34a6",
   "outputs": [
    {
     "data": {
      "text/plain": [
       "\u001B[1mModel: \"functional_16\"\u001B[0m\n"
      ],
      "text/html": [
       "<pre style=\"white-space:pre;overflow-x:auto;line-height:normal;font-family:Menlo,'DejaVu Sans Mono',consolas,'Courier New',monospace\"><span style=\"font-weight: bold\">Model: \"functional_16\"</span>\n",
       "</pre>\n"
      ]
     },
     "metadata": {},
     "output_type": "display_data"
    },
    {
     "data": {
      "text/plain": [
       "┏━━━━━━━━━━━━━━━━━━━━━━━━━━━━━━━━━┳━━━━━━━━━━━━━━━━━━━━━━━━┳━━━━━━━━━━━━━━━┓\n",
       "┃\u001B[1m \u001B[0m\u001B[1mLayer (type)                   \u001B[0m\u001B[1m \u001B[0m┃\u001B[1m \u001B[0m\u001B[1mOutput Shape          \u001B[0m\u001B[1m \u001B[0m┃\u001B[1m \u001B[0m\u001B[1m      Param #\u001B[0m\u001B[1m \u001B[0m┃\n",
       "┡━━━━━━━━━━━━━━━━━━━━━━━━━━━━━━━━━╇━━━━━━━━━━━━━━━━━━━━━━━━╇━━━━━━━━━━━━━━━┩\n",
       "│ input_layer_17 (\u001B[38;5;33mInputLayer\u001B[0m)     │ (\u001B[38;5;45mNone\u001B[0m, \u001B[38;5;34m60\u001B[0m, \u001B[38;5;34m24\u001B[0m)         │             \u001B[38;5;34m0\u001B[0m │\n",
       "├─────────────────────────────────┼────────────────────────┼───────────────┤\n",
       "│ gru_23 (\u001B[38;5;33mGRU\u001B[0m)                    │ (\u001B[38;5;45mNone\u001B[0m, \u001B[38;5;34m60\u001B[0m, \u001B[38;5;34m6\u001B[0m)          │           \u001B[38;5;34m576\u001B[0m │\n",
       "├─────────────────────────────────┼────────────────────────┼───────────────┤\n",
       "│ dropout_22 (\u001B[38;5;33mDropout\u001B[0m)            │ (\u001B[38;5;45mNone\u001B[0m, \u001B[38;5;34m60\u001B[0m, \u001B[38;5;34m6\u001B[0m)          │             \u001B[38;5;34m0\u001B[0m │\n",
       "├─────────────────────────────────┼────────────────────────┼───────────────┤\n",
       "│ gru_24 (\u001B[38;5;33mGRU\u001B[0m)                    │ (\u001B[38;5;45mNone\u001B[0m, \u001B[38;5;34m60\u001B[0m, \u001B[38;5;34m6\u001B[0m)          │           \u001B[38;5;34m252\u001B[0m │\n",
       "├─────────────────────────────────┼────────────────────────┼───────────────┤\n",
       "│ dropout_23 (\u001B[38;5;33mDropout\u001B[0m)            │ (\u001B[38;5;45mNone\u001B[0m, \u001B[38;5;34m60\u001B[0m, \u001B[38;5;34m6\u001B[0m)          │             \u001B[38;5;34m0\u001B[0m │\n",
       "├─────────────────────────────────┼────────────────────────┼───────────────┤\n",
       "│ global_average_pooling1d_11     │ (\u001B[38;5;45mNone\u001B[0m, \u001B[38;5;34m6\u001B[0m)              │             \u001B[38;5;34m0\u001B[0m │\n",
       "│ (\u001B[38;5;33mGlobalAveragePooling1D\u001B[0m)        │                        │               │\n",
       "├─────────────────────────────────┼────────────────────────┼───────────────┤\n",
       "│ dense_31 (\u001B[38;5;33mDense\u001B[0m)                │ (\u001B[38;5;45mNone\u001B[0m, \u001B[38;5;34m4\u001B[0m)              │            \u001B[38;5;34m28\u001B[0m │\n",
       "└─────────────────────────────────┴────────────────────────┴───────────────┘\n"
      ],
      "text/html": [
       "<pre style=\"white-space:pre;overflow-x:auto;line-height:normal;font-family:Menlo,'DejaVu Sans Mono',consolas,'Courier New',monospace\">┏━━━━━━━━━━━━━━━━━━━━━━━━━━━━━━━━━┳━━━━━━━━━━━━━━━━━━━━━━━━┳━━━━━━━━━━━━━━━┓\n",
       "┃<span style=\"font-weight: bold\"> Layer (type)                    </span>┃<span style=\"font-weight: bold\"> Output Shape           </span>┃<span style=\"font-weight: bold\">       Param # </span>┃\n",
       "┡━━━━━━━━━━━━━━━━━━━━━━━━━━━━━━━━━╇━━━━━━━━━━━━━━━━━━━━━━━━╇━━━━━━━━━━━━━━━┩\n",
       "│ input_layer_17 (<span style=\"color: #0087ff; text-decoration-color: #0087ff\">InputLayer</span>)     │ (<span style=\"color: #00d7ff; text-decoration-color: #00d7ff\">None</span>, <span style=\"color: #00af00; text-decoration-color: #00af00\">60</span>, <span style=\"color: #00af00; text-decoration-color: #00af00\">24</span>)         │             <span style=\"color: #00af00; text-decoration-color: #00af00\">0</span> │\n",
       "├─────────────────────────────────┼────────────────────────┼───────────────┤\n",
       "│ gru_23 (<span style=\"color: #0087ff; text-decoration-color: #0087ff\">GRU</span>)                    │ (<span style=\"color: #00d7ff; text-decoration-color: #00d7ff\">None</span>, <span style=\"color: #00af00; text-decoration-color: #00af00\">60</span>, <span style=\"color: #00af00; text-decoration-color: #00af00\">6</span>)          │           <span style=\"color: #00af00; text-decoration-color: #00af00\">576</span> │\n",
       "├─────────────────────────────────┼────────────────────────┼───────────────┤\n",
       "│ dropout_22 (<span style=\"color: #0087ff; text-decoration-color: #0087ff\">Dropout</span>)            │ (<span style=\"color: #00d7ff; text-decoration-color: #00d7ff\">None</span>, <span style=\"color: #00af00; text-decoration-color: #00af00\">60</span>, <span style=\"color: #00af00; text-decoration-color: #00af00\">6</span>)          │             <span style=\"color: #00af00; text-decoration-color: #00af00\">0</span> │\n",
       "├─────────────────────────────────┼────────────────────────┼───────────────┤\n",
       "│ gru_24 (<span style=\"color: #0087ff; text-decoration-color: #0087ff\">GRU</span>)                    │ (<span style=\"color: #00d7ff; text-decoration-color: #00d7ff\">None</span>, <span style=\"color: #00af00; text-decoration-color: #00af00\">60</span>, <span style=\"color: #00af00; text-decoration-color: #00af00\">6</span>)          │           <span style=\"color: #00af00; text-decoration-color: #00af00\">252</span> │\n",
       "├─────────────────────────────────┼────────────────────────┼───────────────┤\n",
       "│ dropout_23 (<span style=\"color: #0087ff; text-decoration-color: #0087ff\">Dropout</span>)            │ (<span style=\"color: #00d7ff; text-decoration-color: #00d7ff\">None</span>, <span style=\"color: #00af00; text-decoration-color: #00af00\">60</span>, <span style=\"color: #00af00; text-decoration-color: #00af00\">6</span>)          │             <span style=\"color: #00af00; text-decoration-color: #00af00\">0</span> │\n",
       "├─────────────────────────────────┼────────────────────────┼───────────────┤\n",
       "│ global_average_pooling1d_11     │ (<span style=\"color: #00d7ff; text-decoration-color: #00d7ff\">None</span>, <span style=\"color: #00af00; text-decoration-color: #00af00\">6</span>)              │             <span style=\"color: #00af00; text-decoration-color: #00af00\">0</span> │\n",
       "│ (<span style=\"color: #0087ff; text-decoration-color: #0087ff\">GlobalAveragePooling1D</span>)        │                        │               │\n",
       "├─────────────────────────────────┼────────────────────────┼───────────────┤\n",
       "│ dense_31 (<span style=\"color: #0087ff; text-decoration-color: #0087ff\">Dense</span>)                │ (<span style=\"color: #00d7ff; text-decoration-color: #00d7ff\">None</span>, <span style=\"color: #00af00; text-decoration-color: #00af00\">4</span>)              │            <span style=\"color: #00af00; text-decoration-color: #00af00\">28</span> │\n",
       "└─────────────────────────────────┴────────────────────────┴───────────────┘\n",
       "</pre>\n"
      ]
     },
     "metadata": {},
     "output_type": "display_data"
    },
    {
     "data": {
      "text/plain": [
       "\u001B[1m Total params: \u001B[0m\u001B[38;5;34m856\u001B[0m (3.34 KB)\n"
      ],
      "text/html": [
       "<pre style=\"white-space:pre;overflow-x:auto;line-height:normal;font-family:Menlo,'DejaVu Sans Mono',consolas,'Courier New',monospace\"><span style=\"font-weight: bold\"> Total params: </span><span style=\"color: #00af00; text-decoration-color: #00af00\">856</span> (3.34 KB)\n",
       "</pre>\n"
      ]
     },
     "metadata": {},
     "output_type": "display_data"
    },
    {
     "data": {
      "text/plain": [
       "\u001B[1m Trainable params: \u001B[0m\u001B[38;5;34m856\u001B[0m (3.34 KB)\n"
      ],
      "text/html": [
       "<pre style=\"white-space:pre;overflow-x:auto;line-height:normal;font-family:Menlo,'DejaVu Sans Mono',consolas,'Courier New',monospace\"><span style=\"font-weight: bold\"> Trainable params: </span><span style=\"color: #00af00; text-decoration-color: #00af00\">856</span> (3.34 KB)\n",
       "</pre>\n"
      ]
     },
     "metadata": {},
     "output_type": "display_data"
    },
    {
     "data": {
      "text/plain": [
       "\u001B[1m Non-trainable params: \u001B[0m\u001B[38;5;34m0\u001B[0m (0.00 B)\n"
      ],
      "text/html": [
       "<pre style=\"white-space:pre;overflow-x:auto;line-height:normal;font-family:Menlo,'DejaVu Sans Mono',consolas,'Courier New',monospace\"><span style=\"font-weight: bold\"> Non-trainable params: </span><span style=\"color: #00af00; text-decoration-color: #00af00\">0</span> (0.00 B)\n",
       "</pre>\n"
      ]
     },
     "metadata": {},
     "output_type": "display_data"
    },
    {
     "data": {
      "text/plain": [
       "\u001B[1mModel: \"functional_17\"\u001B[0m\n"
      ],
      "text/html": [
       "<pre style=\"white-space:pre;overflow-x:auto;line-height:normal;font-family:Menlo,'DejaVu Sans Mono',consolas,'Courier New',monospace\"><span style=\"font-weight: bold\">Model: \"functional_17\"</span>\n",
       "</pre>\n"
      ]
     },
     "metadata": {},
     "output_type": "display_data"
    },
    {
     "data": {
      "text/plain": [
       "┏━━━━━━━━━━━━━━━━━━━━━━━━━━━━━━━━━┳━━━━━━━━━━━━━━━━━━━━━━━━┳━━━━━━━━━━━━━━━┓\n",
       "┃\u001B[1m \u001B[0m\u001B[1mLayer (type)                   \u001B[0m\u001B[1m \u001B[0m┃\u001B[1m \u001B[0m\u001B[1mOutput Shape          \u001B[0m\u001B[1m \u001B[0m┃\u001B[1m \u001B[0m\u001B[1m      Param #\u001B[0m\u001B[1m \u001B[0m┃\n",
       "┡━━━━━━━━━━━━━━━━━━━━━━━━━━━━━━━━━╇━━━━━━━━━━━━━━━━━━━━━━━━╇━━━━━━━━━━━━━━━┩\n",
       "│ input_layer_18 (\u001B[38;5;33mInputLayer\u001B[0m)     │ (\u001B[38;5;45mNone\u001B[0m, \u001B[38;5;34m60\u001B[0m, \u001B[38;5;34m24\u001B[0m)         │             \u001B[38;5;34m0\u001B[0m │\n",
       "├─────────────────────────────────┼────────────────────────┼───────────────┤\n",
       "│ gru_25 (\u001B[38;5;33mGRU\u001B[0m)                    │ (\u001B[38;5;45mNone\u001B[0m, \u001B[38;5;34m60\u001B[0m, \u001B[38;5;34m6\u001B[0m)          │           \u001B[38;5;34m576\u001B[0m │\n",
       "├─────────────────────────────────┼────────────────────────┼───────────────┤\n",
       "│ dropout_24 (\u001B[38;5;33mDropout\u001B[0m)            │ (\u001B[38;5;45mNone\u001B[0m, \u001B[38;5;34m60\u001B[0m, \u001B[38;5;34m6\u001B[0m)          │             \u001B[38;5;34m0\u001B[0m │\n",
       "├─────────────────────────────────┼────────────────────────┼───────────────┤\n",
       "│ gru_26 (\u001B[38;5;33mGRU\u001B[0m)                    │ (\u001B[38;5;45mNone\u001B[0m, \u001B[38;5;34m60\u001B[0m, \u001B[38;5;34m6\u001B[0m)          │           \u001B[38;5;34m252\u001B[0m │\n",
       "├─────────────────────────────────┼────────────────────────┼───────────────┤\n",
       "│ dropout_25 (\u001B[38;5;33mDropout\u001B[0m)            │ (\u001B[38;5;45mNone\u001B[0m, \u001B[38;5;34m60\u001B[0m, \u001B[38;5;34m6\u001B[0m)          │             \u001B[38;5;34m0\u001B[0m │\n",
       "├─────────────────────────────────┼────────────────────────┼───────────────┤\n",
       "│ global_average_pooling1d_12     │ (\u001B[38;5;45mNone\u001B[0m, \u001B[38;5;34m6\u001B[0m)              │             \u001B[38;5;34m0\u001B[0m │\n",
       "│ (\u001B[38;5;33mGlobalAveragePooling1D\u001B[0m)        │                        │               │\n",
       "├─────────────────────────────────┼────────────────────────┼───────────────┤\n",
       "│ dense_32 (\u001B[38;5;33mDense\u001B[0m)                │ (\u001B[38;5;45mNone\u001B[0m, \u001B[38;5;34m2\u001B[0m)              │            \u001B[38;5;34m14\u001B[0m │\n",
       "├─────────────────────────────────┼────────────────────────┼───────────────┤\n",
       "│ dense_33 (\u001B[38;5;33mDense\u001B[0m)                │ (\u001B[38;5;45mNone\u001B[0m, \u001B[38;5;34m1\u001B[0m)              │             \u001B[38;5;34m3\u001B[0m │\n",
       "└─────────────────────────────────┴────────────────────────┴───────────────┘\n"
      ],
      "text/html": [
       "<pre style=\"white-space:pre;overflow-x:auto;line-height:normal;font-family:Menlo,'DejaVu Sans Mono',consolas,'Courier New',monospace\">┏━━━━━━━━━━━━━━━━━━━━━━━━━━━━━━━━━┳━━━━━━━━━━━━━━━━━━━━━━━━┳━━━━━━━━━━━━━━━┓\n",
       "┃<span style=\"font-weight: bold\"> Layer (type)                    </span>┃<span style=\"font-weight: bold\"> Output Shape           </span>┃<span style=\"font-weight: bold\">       Param # </span>┃\n",
       "┡━━━━━━━━━━━━━━━━━━━━━━━━━━━━━━━━━╇━━━━━━━━━━━━━━━━━━━━━━━━╇━━━━━━━━━━━━━━━┩\n",
       "│ input_layer_18 (<span style=\"color: #0087ff; text-decoration-color: #0087ff\">InputLayer</span>)     │ (<span style=\"color: #00d7ff; text-decoration-color: #00d7ff\">None</span>, <span style=\"color: #00af00; text-decoration-color: #00af00\">60</span>, <span style=\"color: #00af00; text-decoration-color: #00af00\">24</span>)         │             <span style=\"color: #00af00; text-decoration-color: #00af00\">0</span> │\n",
       "├─────────────────────────────────┼────────────────────────┼───────────────┤\n",
       "│ gru_25 (<span style=\"color: #0087ff; text-decoration-color: #0087ff\">GRU</span>)                    │ (<span style=\"color: #00d7ff; text-decoration-color: #00d7ff\">None</span>, <span style=\"color: #00af00; text-decoration-color: #00af00\">60</span>, <span style=\"color: #00af00; text-decoration-color: #00af00\">6</span>)          │           <span style=\"color: #00af00; text-decoration-color: #00af00\">576</span> │\n",
       "├─────────────────────────────────┼────────────────────────┼───────────────┤\n",
       "│ dropout_24 (<span style=\"color: #0087ff; text-decoration-color: #0087ff\">Dropout</span>)            │ (<span style=\"color: #00d7ff; text-decoration-color: #00d7ff\">None</span>, <span style=\"color: #00af00; text-decoration-color: #00af00\">60</span>, <span style=\"color: #00af00; text-decoration-color: #00af00\">6</span>)          │             <span style=\"color: #00af00; text-decoration-color: #00af00\">0</span> │\n",
       "├─────────────────────────────────┼────────────────────────┼───────────────┤\n",
       "│ gru_26 (<span style=\"color: #0087ff; text-decoration-color: #0087ff\">GRU</span>)                    │ (<span style=\"color: #00d7ff; text-decoration-color: #00d7ff\">None</span>, <span style=\"color: #00af00; text-decoration-color: #00af00\">60</span>, <span style=\"color: #00af00; text-decoration-color: #00af00\">6</span>)          │           <span style=\"color: #00af00; text-decoration-color: #00af00\">252</span> │\n",
       "├─────────────────────────────────┼────────────────────────┼───────────────┤\n",
       "│ dropout_25 (<span style=\"color: #0087ff; text-decoration-color: #0087ff\">Dropout</span>)            │ (<span style=\"color: #00d7ff; text-decoration-color: #00d7ff\">None</span>, <span style=\"color: #00af00; text-decoration-color: #00af00\">60</span>, <span style=\"color: #00af00; text-decoration-color: #00af00\">6</span>)          │             <span style=\"color: #00af00; text-decoration-color: #00af00\">0</span> │\n",
       "├─────────────────────────────────┼────────────────────────┼───────────────┤\n",
       "│ global_average_pooling1d_12     │ (<span style=\"color: #00d7ff; text-decoration-color: #00d7ff\">None</span>, <span style=\"color: #00af00; text-decoration-color: #00af00\">6</span>)              │             <span style=\"color: #00af00; text-decoration-color: #00af00\">0</span> │\n",
       "│ (<span style=\"color: #0087ff; text-decoration-color: #0087ff\">GlobalAveragePooling1D</span>)        │                        │               │\n",
       "├─────────────────────────────────┼────────────────────────┼───────────────┤\n",
       "│ dense_32 (<span style=\"color: #0087ff; text-decoration-color: #0087ff\">Dense</span>)                │ (<span style=\"color: #00d7ff; text-decoration-color: #00d7ff\">None</span>, <span style=\"color: #00af00; text-decoration-color: #00af00\">2</span>)              │            <span style=\"color: #00af00; text-decoration-color: #00af00\">14</span> │\n",
       "├─────────────────────────────────┼────────────────────────┼───────────────┤\n",
       "│ dense_33 (<span style=\"color: #0087ff; text-decoration-color: #0087ff\">Dense</span>)                │ (<span style=\"color: #00d7ff; text-decoration-color: #00d7ff\">None</span>, <span style=\"color: #00af00; text-decoration-color: #00af00\">1</span>)              │             <span style=\"color: #00af00; text-decoration-color: #00af00\">3</span> │\n",
       "└─────────────────────────────────┴────────────────────────┴───────────────┘\n",
       "</pre>\n"
      ]
     },
     "metadata": {},
     "output_type": "display_data"
    },
    {
     "data": {
      "text/plain": [
       "\u001B[1m Total params: \u001B[0m\u001B[38;5;34m845\u001B[0m (3.30 KB)\n"
      ],
      "text/html": [
       "<pre style=\"white-space:pre;overflow-x:auto;line-height:normal;font-family:Menlo,'DejaVu Sans Mono',consolas,'Courier New',monospace\"><span style=\"font-weight: bold\"> Total params: </span><span style=\"color: #00af00; text-decoration-color: #00af00\">845</span> (3.30 KB)\n",
       "</pre>\n"
      ]
     },
     "metadata": {},
     "output_type": "display_data"
    },
    {
     "data": {
      "text/plain": [
       "\u001B[1m Trainable params: \u001B[0m\u001B[38;5;34m845\u001B[0m (3.30 KB)\n"
      ],
      "text/html": [
       "<pre style=\"white-space:pre;overflow-x:auto;line-height:normal;font-family:Menlo,'DejaVu Sans Mono',consolas,'Courier New',monospace\"><span style=\"font-weight: bold\"> Trainable params: </span><span style=\"color: #00af00; text-decoration-color: #00af00\">845</span> (3.30 KB)\n",
       "</pre>\n"
      ]
     },
     "metadata": {},
     "output_type": "display_data"
    },
    {
     "data": {
      "text/plain": [
       "\u001B[1m Non-trainable params: \u001B[0m\u001B[38;5;34m0\u001B[0m (0.00 B)\n"
      ],
      "text/html": [
       "<pre style=\"white-space:pre;overflow-x:auto;line-height:normal;font-family:Menlo,'DejaVu Sans Mono',consolas,'Courier New',monospace\"><span style=\"font-weight: bold\"> Non-trainable params: </span><span style=\"color: #00af00; text-decoration-color: #00af00\">0</span> (0.00 B)\n",
       "</pre>\n"
      ]
     },
     "metadata": {},
     "output_type": "display_data"
    },
    {
     "data": {
      "text/plain": [
       "\u001B[1mModel: \"functional_18\"\u001B[0m\n"
      ],
      "text/html": [
       "<pre style=\"white-space:pre;overflow-x:auto;line-height:normal;font-family:Menlo,'DejaVu Sans Mono',consolas,'Courier New',monospace\"><span style=\"font-weight: bold\">Model: \"functional_18\"</span>\n",
       "</pre>\n"
      ]
     },
     "metadata": {},
     "output_type": "display_data"
    },
    {
     "data": {
      "text/plain": [
       "┏━━━━━━━━━━━━━━━━━━━━━┳━━━━━━━━━━━━━━━━━━━┳━━━━━━━━━━━━┳━━━━━━━━━━━━━━━━━━━┓\n",
       "┃\u001B[1m \u001B[0m\u001B[1mLayer (type)       \u001B[0m\u001B[1m \u001B[0m┃\u001B[1m \u001B[0m\u001B[1mOutput Shape     \u001B[0m\u001B[1m \u001B[0m┃\u001B[1m \u001B[0m\u001B[1m   Param #\u001B[0m\u001B[1m \u001B[0m┃\u001B[1m \u001B[0m\u001B[1mConnected to     \u001B[0m\u001B[1m \u001B[0m┃\n",
       "┡━━━━━━━━━━━━━━━━━━━━━╇━━━━━━━━━━━━━━━━━━━╇━━━━━━━━━━━━╇━━━━━━━━━━━━━━━━━━━┩\n",
       "│ input_layer_19      │ (\u001B[38;5;45mNone\u001B[0m, \u001B[38;5;34m60\u001B[0m, \u001B[38;5;34m24\u001B[0m)    │          \u001B[38;5;34m0\u001B[0m │ -                 │\n",
       "│ (\u001B[38;5;33mInputLayer\u001B[0m)        │                   │            │                   │\n",
       "├─────────────────────┼───────────────────┼────────────┼───────────────────┤\n",
       "│ get_item_5          │ (\u001B[38;5;45mNone\u001B[0m, \u001B[38;5;34m24\u001B[0m)        │          \u001B[38;5;34m0\u001B[0m │ input_layer_19[\u001B[38;5;34m0\u001B[0m… │\n",
       "│ (\u001B[38;5;33mGetItem\u001B[0m)           │                   │            │                   │\n",
       "├─────────────────────┼───────────────────┼────────────┼───────────────────┤\n",
       "│ functional_16       │ (\u001B[38;5;45mNone\u001B[0m, \u001B[38;5;34m4\u001B[0m)         │        \u001B[38;5;34m856\u001B[0m │ input_layer_19[\u001B[38;5;34m0\u001B[0m… │\n",
       "│ (\u001B[38;5;33mFunctional\u001B[0m)        │                   │            │                   │\n",
       "├─────────────────────┼───────────────────┼────────────┼───────────────────┤\n",
       "│ functional_17       │ (\u001B[38;5;45mNone\u001B[0m, \u001B[38;5;34m1\u001B[0m)         │        \u001B[38;5;34m845\u001B[0m │ input_layer_19[\u001B[38;5;34m0\u001B[0m… │\n",
       "│ (\u001B[38;5;33mFunctional\u001B[0m)        │                   │            │                   │\n",
       "├─────────────────────┼───────────────────┼────────────┼───────────────────┤\n",
       "│ concatenate_5       │ (\u001B[38;5;45mNone\u001B[0m, \u001B[38;5;34m29\u001B[0m)        │          \u001B[38;5;34m0\u001B[0m │ get_item_5[\u001B[38;5;34m0\u001B[0m][\u001B[38;5;34m0\u001B[0m], │\n",
       "│ (\u001B[38;5;33mConcatenate\u001B[0m)       │                   │            │ functional_16[\u001B[38;5;34m0\u001B[0m]… │\n",
       "│                     │                   │            │ functional_17[\u001B[38;5;34m0\u001B[0m]… │\n",
       "├─────────────────────┼───────────────────┼────────────┼───────────────────┤\n",
       "│ dense_34 (\u001B[38;5;33mDense\u001B[0m)    │ (\u001B[38;5;45mNone\u001B[0m, \u001B[38;5;34m12\u001B[0m)        │        \u001B[38;5;34m360\u001B[0m │ concatenate_5[\u001B[38;5;34m0\u001B[0m]… │\n",
       "├─────────────────────┼───────────────────┼────────────┼───────────────────┤\n",
       "│ dense_35 (\u001B[38;5;33mDense\u001B[0m)    │ (\u001B[38;5;45mNone\u001B[0m, \u001B[38;5;34m4\u001B[0m)         │         \u001B[38;5;34m52\u001B[0m │ dense_34[\u001B[38;5;34m0\u001B[0m][\u001B[38;5;34m0\u001B[0m]    │\n",
       "├─────────────────────┼───────────────────┼────────────┼───────────────────┤\n",
       "│ dense_36 (\u001B[38;5;33mDense\u001B[0m)    │ (\u001B[38;5;45mNone\u001B[0m, \u001B[38;5;34m1\u001B[0m)         │          \u001B[38;5;34m5\u001B[0m │ dense_35[\u001B[38;5;34m0\u001B[0m][\u001B[38;5;34m0\u001B[0m]    │\n",
       "└─────────────────────┴───────────────────┴────────────┴───────────────────┘\n"
      ],
      "text/html": [
       "<pre style=\"white-space:pre;overflow-x:auto;line-height:normal;font-family:Menlo,'DejaVu Sans Mono',consolas,'Courier New',monospace\">┏━━━━━━━━━━━━━━━━━━━━━┳━━━━━━━━━━━━━━━━━━━┳━━━━━━━━━━━━┳━━━━━━━━━━━━━━━━━━━┓\n",
       "┃<span style=\"font-weight: bold\"> Layer (type)        </span>┃<span style=\"font-weight: bold\"> Output Shape      </span>┃<span style=\"font-weight: bold\">    Param # </span>┃<span style=\"font-weight: bold\"> Connected to      </span>┃\n",
       "┡━━━━━━━━━━━━━━━━━━━━━╇━━━━━━━━━━━━━━━━━━━╇━━━━━━━━━━━━╇━━━━━━━━━━━━━━━━━━━┩\n",
       "│ input_layer_19      │ (<span style=\"color: #00d7ff; text-decoration-color: #00d7ff\">None</span>, <span style=\"color: #00af00; text-decoration-color: #00af00\">60</span>, <span style=\"color: #00af00; text-decoration-color: #00af00\">24</span>)    │          <span style=\"color: #00af00; text-decoration-color: #00af00\">0</span> │ -                 │\n",
       "│ (<span style=\"color: #0087ff; text-decoration-color: #0087ff\">InputLayer</span>)        │                   │            │                   │\n",
       "├─────────────────────┼───────────────────┼────────────┼───────────────────┤\n",
       "│ get_item_5          │ (<span style=\"color: #00d7ff; text-decoration-color: #00d7ff\">None</span>, <span style=\"color: #00af00; text-decoration-color: #00af00\">24</span>)        │          <span style=\"color: #00af00; text-decoration-color: #00af00\">0</span> │ input_layer_19[<span style=\"color: #00af00; text-decoration-color: #00af00\">0</span>… │\n",
       "│ (<span style=\"color: #0087ff; text-decoration-color: #0087ff\">GetItem</span>)           │                   │            │                   │\n",
       "├─────────────────────┼───────────────────┼────────────┼───────────────────┤\n",
       "│ functional_16       │ (<span style=\"color: #00d7ff; text-decoration-color: #00d7ff\">None</span>, <span style=\"color: #00af00; text-decoration-color: #00af00\">4</span>)         │        <span style=\"color: #00af00; text-decoration-color: #00af00\">856</span> │ input_layer_19[<span style=\"color: #00af00; text-decoration-color: #00af00\">0</span>… │\n",
       "│ (<span style=\"color: #0087ff; text-decoration-color: #0087ff\">Functional</span>)        │                   │            │                   │\n",
       "├─────────────────────┼───────────────────┼────────────┼───────────────────┤\n",
       "│ functional_17       │ (<span style=\"color: #00d7ff; text-decoration-color: #00d7ff\">None</span>, <span style=\"color: #00af00; text-decoration-color: #00af00\">1</span>)         │        <span style=\"color: #00af00; text-decoration-color: #00af00\">845</span> │ input_layer_19[<span style=\"color: #00af00; text-decoration-color: #00af00\">0</span>… │\n",
       "│ (<span style=\"color: #0087ff; text-decoration-color: #0087ff\">Functional</span>)        │                   │            │                   │\n",
       "├─────────────────────┼───────────────────┼────────────┼───────────────────┤\n",
       "│ concatenate_5       │ (<span style=\"color: #00d7ff; text-decoration-color: #00d7ff\">None</span>, <span style=\"color: #00af00; text-decoration-color: #00af00\">29</span>)        │          <span style=\"color: #00af00; text-decoration-color: #00af00\">0</span> │ get_item_5[<span style=\"color: #00af00; text-decoration-color: #00af00\">0</span>][<span style=\"color: #00af00; text-decoration-color: #00af00\">0</span>], │\n",
       "│ (<span style=\"color: #0087ff; text-decoration-color: #0087ff\">Concatenate</span>)       │                   │            │ functional_16[<span style=\"color: #00af00; text-decoration-color: #00af00\">0</span>]… │\n",
       "│                     │                   │            │ functional_17[<span style=\"color: #00af00; text-decoration-color: #00af00\">0</span>]… │\n",
       "├─────────────────────┼───────────────────┼────────────┼───────────────────┤\n",
       "│ dense_34 (<span style=\"color: #0087ff; text-decoration-color: #0087ff\">Dense</span>)    │ (<span style=\"color: #00d7ff; text-decoration-color: #00d7ff\">None</span>, <span style=\"color: #00af00; text-decoration-color: #00af00\">12</span>)        │        <span style=\"color: #00af00; text-decoration-color: #00af00\">360</span> │ concatenate_5[<span style=\"color: #00af00; text-decoration-color: #00af00\">0</span>]… │\n",
       "├─────────────────────┼───────────────────┼────────────┼───────────────────┤\n",
       "│ dense_35 (<span style=\"color: #0087ff; text-decoration-color: #0087ff\">Dense</span>)    │ (<span style=\"color: #00d7ff; text-decoration-color: #00d7ff\">None</span>, <span style=\"color: #00af00; text-decoration-color: #00af00\">4</span>)         │         <span style=\"color: #00af00; text-decoration-color: #00af00\">52</span> │ dense_34[<span style=\"color: #00af00; text-decoration-color: #00af00\">0</span>][<span style=\"color: #00af00; text-decoration-color: #00af00\">0</span>]    │\n",
       "├─────────────────────┼───────────────────┼────────────┼───────────────────┤\n",
       "│ dense_36 (<span style=\"color: #0087ff; text-decoration-color: #0087ff\">Dense</span>)    │ (<span style=\"color: #00d7ff; text-decoration-color: #00d7ff\">None</span>, <span style=\"color: #00af00; text-decoration-color: #00af00\">1</span>)         │          <span style=\"color: #00af00; text-decoration-color: #00af00\">5</span> │ dense_35[<span style=\"color: #00af00; text-decoration-color: #00af00\">0</span>][<span style=\"color: #00af00; text-decoration-color: #00af00\">0</span>]    │\n",
       "└─────────────────────┴───────────────────┴────────────┴───────────────────┘\n",
       "</pre>\n"
      ]
     },
     "metadata": {},
     "output_type": "display_data"
    },
    {
     "data": {
      "text/plain": [
       "\u001B[1m Total params: \u001B[0m\u001B[38;5;34m2,118\u001B[0m (8.27 KB)\n"
      ],
      "text/html": [
       "<pre style=\"white-space:pre;overflow-x:auto;line-height:normal;font-family:Menlo,'DejaVu Sans Mono',consolas,'Courier New',monospace\"><span style=\"font-weight: bold\"> Total params: </span><span style=\"color: #00af00; text-decoration-color: #00af00\">2,118</span> (8.27 KB)\n",
       "</pre>\n"
      ]
     },
     "metadata": {},
     "output_type": "display_data"
    },
    {
     "data": {
      "text/plain": [
       "\u001B[1m Trainable params: \u001B[0m\u001B[38;5;34m2,118\u001B[0m (8.27 KB)\n"
      ],
      "text/html": [
       "<pre style=\"white-space:pre;overflow-x:auto;line-height:normal;font-family:Menlo,'DejaVu Sans Mono',consolas,'Courier New',monospace\"><span style=\"font-weight: bold\"> Trainable params: </span><span style=\"color: #00af00; text-decoration-color: #00af00\">2,118</span> (8.27 KB)\n",
       "</pre>\n"
      ]
     },
     "metadata": {},
     "output_type": "display_data"
    },
    {
     "data": {
      "text/plain": [
       "\u001B[1m Non-trainable params: \u001B[0m\u001B[38;5;34m0\u001B[0m (0.00 B)\n"
      ],
      "text/html": [
       "<pre style=\"white-space:pre;overflow-x:auto;line-height:normal;font-family:Menlo,'DejaVu Sans Mono',consolas,'Courier New',monospace\"><span style=\"font-weight: bold\"> Non-trainable params: </span><span style=\"color: #00af00; text-decoration-color: #00af00\">0</span> (0.00 B)\n",
       "</pre>\n"
      ]
     },
     "metadata": {},
     "output_type": "display_data"
    },
    {
     "name": "stdout",
     "output_type": "stream",
     "text": [
      "Epoch 1/10\n"
     ]
    },
    {
     "name": "stderr",
     "output_type": "stream",
     "text": [
      "Epoch 1/10: 100%|██████████| 5/5 [00:03<00:00,  1.52batch/s]\n"
     ]
    },
    {
     "name": "stdout",
     "output_type": "stream",
     "text": [
      "Epoch 1 - Triplet Loss: 3.8809, Regression Loss: 0.0000, Classification Loss: 0.6359\n",
      "Epoch 2/10\n"
     ]
    },
    {
     "name": "stderr",
     "output_type": "stream",
     "text": [
      "Epoch 2/10: 100%|██████████| 5/5 [00:03<00:00,  1.57batch/s]\n"
     ]
    },
    {
     "name": "stdout",
     "output_type": "stream",
     "text": [
      "Epoch 2 - Triplet Loss: 3.5743, Regression Loss: 0.0000, Classification Loss: 0.6131\n",
      "Epoch 3/10\n"
     ]
    },
    {
     "name": "stderr",
     "output_type": "stream",
     "text": [
      "Epoch 3/10: 100%|██████████| 5/5 [00:03<00:00,  1.56batch/s]\n"
     ]
    },
    {
     "name": "stdout",
     "output_type": "stream",
     "text": [
      "Epoch 3 - Triplet Loss: 3.4605, Regression Loss: 0.0000, Classification Loss: 0.5936\n",
      "Epoch 4/10\n"
     ]
    },
    {
     "name": "stderr",
     "output_type": "stream",
     "text": [
      "Epoch 4/10: 100%|██████████| 5/5 [00:03<00:00,  1.60batch/s]\n"
     ]
    },
    {
     "name": "stdout",
     "output_type": "stream",
     "text": [
      "Epoch 4 - Triplet Loss: 3.3276, Regression Loss: 0.0000, Classification Loss: 0.5745\n",
      "Epoch 5/10\n"
     ]
    },
    {
     "name": "stderr",
     "output_type": "stream",
     "text": [
      "Epoch 5/10: 100%|██████████| 5/5 [00:03<00:00,  1.58batch/s]\n"
     ]
    },
    {
     "name": "stdout",
     "output_type": "stream",
     "text": [
      "Epoch 5 - Triplet Loss: 3.1666, Regression Loss: 0.0000, Classification Loss: 0.5552\n",
      "Epoch 6/10\n"
     ]
    },
    {
     "name": "stderr",
     "output_type": "stream",
     "text": [
      "Epoch 6/10: 100%|██████████| 5/5 [00:03<00:00,  1.58batch/s]\n"
     ]
    },
    {
     "name": "stdout",
     "output_type": "stream",
     "text": [
      "Epoch 6 - Triplet Loss: 2.7913, Regression Loss: 0.0000, Classification Loss: 0.5359\n",
      "Epoch 7/10\n"
     ]
    },
    {
     "name": "stderr",
     "output_type": "stream",
     "text": [
      "Epoch 7/10: 100%|██████████| 5/5 [00:03<00:00,  1.58batch/s]\n"
     ]
    },
    {
     "name": "stdout",
     "output_type": "stream",
     "text": [
      "Epoch 7 - Triplet Loss: 2.5598, Regression Loss: 0.0000, Classification Loss: 0.5168\n",
      "Epoch 8/10\n"
     ]
    },
    {
     "name": "stderr",
     "output_type": "stream",
     "text": [
      "Epoch 8/10: 100%|██████████| 5/5 [00:03<00:00,  1.57batch/s]\n"
     ]
    },
    {
     "name": "stdout",
     "output_type": "stream",
     "text": [
      "Epoch 8 - Triplet Loss: 2.4364, Regression Loss: 0.0000, Classification Loss: 0.4979\n",
      "Epoch 9/10\n"
     ]
    },
    {
     "name": "stderr",
     "output_type": "stream",
     "text": [
      "Epoch 9/10: 100%|██████████| 5/5 [00:03<00:00,  1.57batch/s]\n"
     ]
    },
    {
     "name": "stdout",
     "output_type": "stream",
     "text": [
      "Epoch 9 - Triplet Loss: 2.2811, Regression Loss: 0.0000, Classification Loss: 0.4795\n",
      "Epoch 10/10\n"
     ]
    },
    {
     "name": "stderr",
     "output_type": "stream",
     "text": [
      "Epoch 10/10: 100%|██████████| 5/5 [00:03<00:00,  1.59batch/s]\n"
     ]
    },
    {
     "name": "stdout",
     "output_type": "stream",
     "text": [
      "Epoch 10 - Triplet Loss: 2.1092, Regression Loss: 0.0000, Classification Loss: 0.4618\n",
      "Training completed!\n",
      "\u001B[1m1711/1711\u001B[0m \u001B[32m━━━━━━━━━━━━━━━━━━━━\u001B[0m\u001B[37m\u001B[0m \u001B[1m7s\u001B[0m 4ms/step\n",
      "(4571, 60, 24): The Classifier is Done! \n",
      "\n"
     ]
    }
   ],
   "execution_count": 76
  },
  {
   "metadata": {
    "ExecuteTime": {
     "end_time": "2025-04-28T23:42:31.680876Z",
     "start_time": "2025-04-28T23:42:31.665930Z"
    }
   },
   "cell_type": "code",
   "source": "confusion_matrix(y_pred, y_test_np)",
   "id": "87a08f595fc784bb",
   "outputs": [
    {
     "data": {
      "text/plain": [
       "array([[40712,    41],\n",
       "       [13127,   853]])"
      ]
     },
     "execution_count": 77,
     "metadata": {},
     "output_type": "execute_result"
    }
   ],
   "execution_count": 77
  },
  {
   "metadata": {
    "ExecuteTime": {
     "end_time": "2025-04-28T23:42:41.559727Z",
     "start_time": "2025-04-28T23:42:41.543169Z"
    }
   },
   "cell_type": "code",
   "source": "m = utils.Metric(cm=confusion_matrix(y_pred, y_test_np))",
   "id": "3f4d47638270be2d",
   "outputs": [],
   "execution_count": 81
  },
  {
   "metadata": {
    "ExecuteTime": {
     "end_time": "2025-04-28T23:42:42.990774Z",
     "start_time": "2025-04-28T23:42:42.985595Z"
    }
   },
   "cell_type": "code",
   "source": "m.tss",
   "id": "59522cc1aa5ab3fe",
   "outputs": [
    {
     "data": {
      "text/plain": [
       "np.float64(0.06000967586331796)"
      ]
     },
     "execution_count": 82,
     "metadata": {},
     "output_type": "execute_result"
    }
   ],
   "execution_count": 82
  },
  {
   "metadata": {
    "ExecuteTime": {
     "end_time": "2025-04-28T23:42:44.084949Z",
     "start_time": "2025-04-28T23:42:44.079837Z"
    }
   },
   "cell_type": "code",
   "source": "m.fp",
   "id": "e79084885798fe28",
   "outputs": [
    {
     "data": {
      "text/plain": [
       "np.int64(41)"
      ]
     },
     "execution_count": 83,
     "metadata": {},
     "output_type": "execute_result"
    }
   ],
   "execution_count": 83
  }
 ],
 "metadata": {
  "kernelspec": {
   "display_name": "Python 3",
   "language": "python",
   "name": "python3"
  },
  "language_info": {
   "codemirror_mode": {
    "name": "ipython",
    "version": 2
   },
   "file_extension": ".py",
   "mimetype": "text/x-python",
   "name": "python",
   "nbconvert_exporter": "python",
   "pygments_lexer": "ipython2",
   "version": "2.7.6"
  }
 },
 "nbformat": 4,
 "nbformat_minor": 5
}
