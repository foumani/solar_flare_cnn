{
 "cells": [
  {
   "cell_type": "code",
   "execution_count": 1,
   "outputs": [],
   "source": [
    "import matplotlib.pyplot as plt\n",
    "import sklearn\n",
    "import train\n",
    "import baselines\n",
    "from context import Context\n",
    "import util\n",
    "import numpy\n",
    "import time\n",
    "import torch\n",
    "import os\n",
    "from reporter import Reporter\n",
    "from data import Data\n"
   ],
   "metadata": {
    "collapsed": false,
    "ExecuteTime": {
     "end_time": "2023-10-17T02:18:14.592713600Z",
     "start_time": "2023-10-17T02:18:12.865498400Z"
    }
   },
   "id": "6db54207e047213a"
  },
  {
   "cell_type": "code",
   "execution_count": 9,
   "outputs": [
    {
     "name": "stdout",
     "output_type": "stream",
     "text": [
      "Reading all files df ...\n",
      "Reading all files np ...\n"
     ]
    }
   ],
   "source": [
    "context = Context(batch_size=128,\n",
    "                  train_n=[1200, 1200],\n",
    "                  data_dropout=0.4,\n",
    "                  layer_dropout=0.4,\n",
    "                  ch_conv1=16, ch_conv2=16, ch_conv3=32, l_hidden1=16,\n",
    "                  l_hidden2=0, nan_mode=0, class_importance=[0.2, 0.8],\n",
    "                  val_p=0.3,\n",
    "                  lr=0.01, stop=1000, early_stop=100)\n",
    "numpy.set_printoptions(precision=2, formatter={'int': '{:5d}'.format,\n",
    "                                               'float': '{:7.2f}'.format})\n",
    "start = time.time()\n",
    "Context.device = torch.device(\n",
    "    f\"cuda:0\" if torch.cuda.is_available() else \"cpu\")\n",
    "Context.data_dir = \"/home/foumani/data/solar_flare_prediction\"\n",
    "Context.tensorlog_dir = \"tensorlog\"\n",
    "Context.log_dir = \"log\"\n",
    "if not os.path.exists(Context.log_dir):\n",
    "    os.makedirs(Context.log_dir)\n",
    "Context.model_dir = \"models\"\n",
    "if not os.path.exists(Context.model_dir):\n",
    "    os.makedirs(Context.model_dir)\n",
    "Context.files_df_filename = \"all_files.csv\"\n",
    "Context.files_np_filename = \"full_data_X_1_25.npy\"\n",
    "data = Data()"
   ],
   "metadata": {
    "collapsed": false,
    "ExecuteTime": {
     "end_time": "2023-09-04T06:32:43.270969300Z",
     "start_time": "2023-09-04T06:32:41.303337800Z"
    }
   },
   "id": "b54be39c78dbe1c2"
  },
  {
   "cell_type": "code",
   "execution_count": 10,
   "outputs": [
    {
     "name": "stdout",
     "output_type": "stream",
     "text": [
      "Training [2, 3, 4, 5], Val 0.1, Test 1\n"
     ]
    },
    {
     "name": "stderr",
     "output_type": "stream",
     "text": [
      "100%|██████████| 2400/2400 [00:00<00:00, 21912.57files/s]\n"
     ]
    },
    {
     "name": "stdout",
     "output_type": "stream",
     "text": [
      "best val run: Metric(tss: 81.57, hss2:  81.64, cm: [[104, 13], [9, 114]])\n",
      "test run    : Metric(tss: 78.97, hss2:  19.24, cm: [[64190, 8048], [124, 1130]])\n",
      "Training [1, 3, 4, 5], Val 0.1, Test 2\n"
     ]
    },
    {
     "name": "stderr",
     "output_type": "stream",
     "text": [
      "100%|██████████| 2400/2400 [00:00<00:00, 22511.29files/s]\n"
     ]
    },
    {
     "name": "stdout",
     "output_type": "stream",
     "text": [
      "best val run: Metric(tss: 81.80, hss2:  81.45, cm: [[122, 13], [9, 96]])\n",
      "test run    : Metric(tss: 81.75, hss2:  23.05, cm: [[79769, 7387], [137, 1264]])\n",
      "Training [1, 2, 4, 5], Val 0.1, Test 3\n"
     ]
    },
    {
     "name": "stderr",
     "output_type": "stream",
     "text": [
      "100%|██████████| 2400/2400 [00:00<00:00, 22287.45files/s]\n"
     ]
    },
    {
     "name": "stdout",
     "output_type": "stream",
     "text": [
      "best val run: Metric(tss: 83.24, hss2:  83.31, cm: [[105, 12], [8, 115]])\n",
      "test run    : Metric(tss: 79.23, hss2:  25.46, cm: [[34776, 6310], [77, 1347]])\n",
      "Training [1, 2, 3, 5], Val 0.1, Test 4\n"
     ]
    },
    {
     "name": "stderr",
     "output_type": "stream",
     "text": [
      "100%|██████████| 2400/2400 [00:00<00:00, 22666.86files/s]\n"
     ]
    },
    {
     "name": "stdout",
     "output_type": "stream",
     "text": [
      "best val run: Metric(tss: 87.29, hss2:  85.69, cm: [[125, 15], [2, 98]])\n",
      "test run    : Metric(tss: 84.96, hss2:  20.99, cm: [[42818, 7278], [6, 1159]])\n",
      "Training [1, 2, 3, 4], Val 0.1, Test 5\n"
     ]
    },
    {
     "name": "stderr",
     "output_type": "stream",
     "text": [
      "100%|██████████| 2400/2400 [00:00<00:00, 22643.81files/s]\n"
     ]
    },
    {
     "name": "stdout",
     "output_type": "stream",
     "text": [
      "best val run: Metric(tss: 85.27, hss2:  84.21, cm: [[115, 17], [2, 106]])\n",
      "test run    : Metric(tss: 83.70, hss2:  19.76, cm: [[67809, 6566], [74, 916]])\n",
      "Training [2, 3, 4, 5], Val 0.1, Test 1\n",
      "best val run: Metric(tss: 78.86, hss2:  78.41, cm: [[106, 20], [6, 108]])\n",
      "test run    : Metric(tss: 77.45, hss2:  19.79, cm: [[64650, 7588], [151, 1103]])\n",
      "Training [1, 3, 4, 5], Val 0.1, Test 2\n",
      "best val run: Metric(tss: 81.46, hss2:  82.23, cm: [[93, 18], [3, 126]])\n",
      "test run    : Metric(tss: 78.02, hss2:  12.87, cm: [[72666, 14490], [75, 1326]])\n",
      "Training [1, 2, 4, 5], Val 0.1, Test 3\n",
      "best val run: Metric(tss: 78.21, hss2:  78.30, cm: [[97, 22], [4, 117]])\n",
      "test run    : Metric(tss: 79.16, hss2:  20.88, cm: [[32842, 8244], [11, 1413]])\n",
      "Training [1, 2, 3, 5], Val 0.1, Test 4\n",
      "best val run: Metric(tss: 86.67, hss2:  86.67, cm: [[104, 16], [0, 120]])\n",
      "test run    : Metric(tss: 80.64, hss2:  15.92, cm: [[40398, 9698], [0, 1165]])\n",
      "Training [1, 2, 3, 4], Val 0.1, Test 5\n",
      "best val run: Metric(tss: 84.16, hss2:  84.80, cm: [[96, 15], [3, 126]])\n",
      "test run    : Metric(tss: 83.80, hss2:  17.73, cm: [[66835, 7540], [60, 930]])\n",
      "Training [2, 3, 4, 5], Val 0.1, Test 1\n",
      "best val run: Metric(tss: 77.99, hss2:  77.57, cm: [[106, 20], [7, 107]])\n",
      "test run    : Metric(tss: 72.14, hss2:  11.47, cm: [[58624, 13614], [113, 1141]])\n",
      "Training [1, 3, 4, 5], Val 0.1, Test 2\n",
      "best val run: Metric(tss: 83.93, hss2:  84.12, cm: [[102, 15], [4, 119]])\n",
      "test run    : Metric(tss: 79.01, hss2:  14.10, cm: [[73965, 13191], [82, 1319]])\n",
      "Training [1, 2, 4, 5], Val 0.1, Test 3\n",
      "best val run: Metric(tss: 90.05, hss2:  89.99, cm: [[110, 5], [7, 118]])\n",
      "test run    : Metric(tss: 78.95, hss2:  25.62, cm: [[34862, 6224], [84, 1340]])\n",
      "Training [1, 2, 3, 5], Val 0.1, Test 4\n",
      "best val run: Metric(tss: 76.51, hss2:  75.08, cm: [[111, 24], [6, 99]])\n",
      "test run    : Metric(tss: 86.26, hss2:  23.07, cm: [[43556, 6540], [8, 1157]])\n",
      "Training [1, 2, 3, 4], Val 0.1, Test 5\n",
      "best val run: Metric(tss: 82.40, hss2:  83.13, cm: [[94, 19], [1, 126]])\n",
      "test run    : Metric(tss: 83.17, hss2:  14.64, cm: [[64939, 9436], [41, 949]])\n",
      "Training [2, 3, 4, 5], Val 0.1, Test 1\n",
      "best val run: Metric(tss: 75.49, hss2:  74.44, cm: [[97, 30], [1, 112]])\n",
      "test run    : Metric(tss: 78.31, hss2:  12.23, cm: [[58412, 13826], [32, 1222]])\n",
      "Training [1, 3, 4, 5], Val 0.1, Test 2\n",
      "best val run: Metric(tss: 88.77, hss2:  89.11, cm: [[103, 12], [1, 124]])\n",
      "test run    : Metric(tss: 78.16, hss2:  12.30, cm: [[71854, 15302], [60, 1341]])\n",
      "Training [1, 2, 4, 5], Val 0.1, Test 3\n",
      "best val run: Metric(tss: 82.18, hss2:  82.43, cm: [[99, 18], [3, 120]])\n",
      "test run    : Metric(tss: 78.58, hss2:  20.57, cm: [[32749, 8337], [16, 1408]])\n",
      "Training [1, 2, 3, 5], Val 0.1, Test 4\n",
      "best val run: Metric(tss: 82.39, hss2:  82.48, cm: [[101, 18], [3, 118]])\n",
      "test run    : Metric(tss: 83.55, hss2:  19.57, cm: [[42286, 7810], [10, 1155]])\n",
      "Training [1, 2, 3, 4], Val 0.1, Test 5\n",
      "best val run: Metric(tss: 84.49, hss2:  84.90, cm: [[99, 16], [2, 123]])\n",
      "test run    : Metric(tss: 82.63, hss2:  16.13, cm: [[66039, 8336], [61, 929]])\n",
      "Training [2, 3, 4, 5], Val 0.1, Test 1\n",
      "best val run: Metric(tss: 85.85, hss2:  87.14, cm: [[91, 15], [0, 134]])\n",
      "test run    : Metric(tss: 76.28, hss2:  10.25, cm: [[55793, 16445], [12, 1242]])\n",
      "Training [1, 3, 4, 5], Val 0.1, Test 2\n",
      "best val run: Metric(tss: 87.11, hss2:  86.69, cm: [[114, 13], [3, 110]])\n",
      "test run    : Metric(tss: 80.78, hss2:  17.75, cm: [[76937, 10219], [105, 1296]])\n",
      "Training [1, 2, 4, 5], Val 0.1, Test 3\n",
      "best val run: Metric(tss: 82.59, hss2:  81.77, cm: [[108, 20], [2, 110]])\n",
      "test run    : Metric(tss: 78.72, hss2:  22.06, cm: [[33468, 7618], [39, 1385]])\n",
      "Training [1, 2, 3, 5], Val 0.1, Test 4\n",
      "best val run: Metric(tss: 87.59, hss2:  87.51, cm: [[107, 14], [1, 118]])\n",
      "test run    : Metric(tss: 83.21, hss2:  18.61, cm: [[41813, 8283], [3, 1162]])\n",
      "Training [1, 2, 3, 4], Val 0.1, Test 5\n",
      "best val run: Metric(tss: 85.00, hss2:  85.00, cm: [[106, 14], [4, 116]])\n",
      "test run    : Metric(tss: 83.48, hss2:  19.00, cm: [[67494, 6881], [72, 918]])\n",
      "Training [2, 3, 4, 5], Val 0.1, Test 1\n",
      "best val run: Metric(tss: 73.85, hss2:  74.58, cm: [[88, 22], [8, 122]])\n",
      "test run    : Metric(tss: 75.18, hss2:  13.96, cm: [[60930, 11308], [115, 1139]])\n",
      "Training [1, 3, 4, 5], Val 0.1, Test 2\n",
      "best val run: Metric(tss: 89.35, hss2:  89.18, cm: [[114, 10], [3, 113]])\n",
      "test run    : Metric(tss: 82.40, hss2:  20.77, cm: [[78599, 8557], [109, 1292]])\n",
      "Training [1, 2, 4, 5], Val 0.1, Test 3\n",
      "best val run: Metric(tss: 88.03, hss2:  88.28, cm: [[104, 11], [3, 122]])\n",
      "test run    : Metric(tss: 78.04, hss2:  22.03, cm: [[33535, 7551], [51, 1373]])\n",
      "Training [1, 2, 3, 5], Val 0.1, Test 4\n",
      "best val run: Metric(tss: 80.80, hss2:  81.44, cm: [[94, 18], [4, 124]])\n",
      "test run    : Metric(tss: 84.65, hss2:  20.04, cm: [[42407, 7689], [0, 1165]])\n",
      "Training [1, 2, 3, 4], Val 0.1, Test 5\n",
      "best val run: Metric(tss: 88.26, hss2:  88.31, cm: [[108, 8], [6, 118]])\n",
      "test run    : Metric(tss: 83.50, hss2:  22.10, cm: [[68712, 5663], [88, 902]])\n",
      "Training [2, 3, 4, 5], Val 0.1, Test 1\n",
      "best val run: Metric(tss: 88.27, hss2:  88.32, cm: [[109, 9], [5, 117]])\n",
      "test run    : Metric(tss: 79.12, hss2:  17.06, cm: [[62856, 9382], [99, 1155]])\n",
      "Training [1, 3, 4, 5], Val 0.1, Test 2\n",
      "best val run: Metric(tss: 83.93, hss2:  83.41, cm: [[106, 19], [1, 114]])\n",
      "test run    : Metric(tss: 76.24, hss2:  10.78, cm: [[69804, 17352], [54, 1347]])\n",
      "Training [1, 2, 4, 5], Val 0.1, Test 3\n",
      "best val run: Metric(tss: 86.85, hss2:  87.33, cm: [[98, 11], [4, 127]])\n",
      "test run    : Metric(tss: 78.14, hss2:  20.02, cm: [[32508, 8578], [14, 1410]])\n",
      "Training [1, 2, 3, 5], Val 0.1, Test 4\n",
      "best val run: Metric(tss: 83.96, hss2:  83.40, cm: [[108, 18], [2, 112]])\n",
      "test run    : Metric(tss: 82.42, hss2:  17.56, cm: [[41287, 8809], [0, 1165]])\n",
      "Training [1, 2, 3, 4], Val 0.1, Test 5\n",
      "best val run: Metric(tss: 79.17, hss2:  79.17, cm: [[97, 23], [2, 118]])\n",
      "test run    : Metric(tss: 82.55, hss2:  17.15, cm: [[66655, 7720], [70, 920]])\n",
      "Training [2, 3, 4, 5], Val 0.1, Test 1\n",
      "best val run: Metric(tss: 83.37, hss2:  83.34, cm: [[108, 13], [7, 112]])\n",
      "test run    : Metric(tss: 77.23, hss2:  18.99, cm: [[64261, 7977], [147, 1107]])\n",
      "Training [1, 3, 4, 5], Val 0.1, Test 2\n",
      "best val run: Metric(tss: 87.80, hss2:  88.25, cm: [[101, 13], [1, 125]])\n",
      "test run    : Metric(tss: 79.61, hss2:  14.57, cm: [[74365, 12791], [80, 1321]])\n",
      "Training [1, 2, 4, 5], Val 0.1, Test 3\n",
      "best val run: Metric(tss: 83.42, hss2:  83.91, cm: [[95, 13], [6, 126]])\n",
      "test run    : Metric(tss: 78.65, hss2:  20.86, cm: [[32892, 8194], [20, 1404]])\n",
      "Training [1, 2, 3, 5], Val 0.1, Test 4\n",
      "best val run: Metric(tss: 83.74, hss2:  82.52, cm: [[116, 18], [3, 103]])\n",
      "test run    : Metric(tss: 83.23, hss2:  18.48, cm: [[41738, 8358], [1, 1164]])\n",
      "Training [1, 2, 3, 4], Val 0.1, Test 5\n",
      "best val run: Metric(tss: 80.62, hss2:  80.08, cm: [[106, 20], [4, 110]])\n",
      "test run    : Metric(tss: 84.01, hss2:  19.84, cm: [[67813, 6562], [71, 919]])\n",
      "Training [2, 3, 4, 5], Val 0.1, Test 1\n",
      "best val run: Metric(tss: 74.26, hss2:  73.54, cm: [[95, 30], [2, 113]])\n",
      "test run    : Metric(tss: 78.59, hss2:  12.61, cm: [[58843, 13395], [36, 1218]])\n",
      "Training [1, 3, 4, 5], Val 0.1, Test 2\n",
      "best val run: Metric(tss: 82.10, hss2:  83.03, cm: [[92, 18], [2, 128]])\n",
      "test run    : Metric(tss: 76.25, hss2:  10.85, cm: [[69940, 17216], [56, 1345]])\n",
      "Training [1, 2, 4, 5], Val 0.1, Test 3\n",
      "best val run: Metric(tss: 86.64, hss2:  86.64, cm: [[107, 8], [8, 117]])\n",
      "test run    : Metric(tss: 78.79, hss2:  27.64, cm: [[35517, 5569], [109, 1315]])\n",
      "Training [1, 2, 3, 5], Val 0.1, Test 4\n",
      "best val run: Metric(tss: 80.72, hss2:  79.32, cm: [[109, 23], [2, 106]])\n",
      "test run    : Metric(tss: 83.20, hss2:  18.83, cm: [[41937, 8159], [6, 1159]])\n",
      "Training [1, 2, 3, 4], Val 0.1, Test 5\n",
      "best val run: Metric(tss: 87.93, hss2:  87.53, cm: [[111, 14], [1, 114]])\n",
      "test run    : Metric(tss: 81.61, hss2:  14.44, cm: [[64980, 9395], [57, 933]])\n",
      "Training [2, 3, 4, 5], Val 0.1, Test 1\n",
      "best val run: Metric(tss: 80.42, hss2:  81.33, cm: [[91, 19], [3, 127]])\n",
      "test run    : Metric(tss: 77.49, hss2:  17.49, cm: [[63353, 8885], [128, 1126]])\n",
      "Training [1, 3, 4, 5], Val 0.1, Test 2\n",
      "best val run: Metric(tss: 80.97, hss2:  80.85, cm: [[108, 15], [8, 109]])\n",
      "test run    : Metric(tss: 80.82, hss2:  15.93, cm: [[75479, 11677], [81, 1320]])\n",
      "Training [1, 2, 4, 5], Val 0.1, Test 3\n",
      "best val run: Metric(tss: 86.93, hss2:  87.40, cm: [[100, 14], [1, 125]])\n",
      "test run    : Metric(tss: 77.89, hss2:  19.63, cm: [[32318, 8768], [11, 1413]])\n",
      "Training [1, 2, 3, 5], Val 0.1, Test 4\n",
      "best val run: Metric(tss: 85.29, hss2:  85.73, cm: [[99, 16], [1, 124]])\n",
      "test run    : Metric(tss: 84.62, hss2:  20.45, cm: [[42604, 7492], [5, 1160]])\n",
      "Training [1, 2, 3, 4], Val 0.1, Test 5\n",
      "best val run: Metric(tss: 84.26, hss2:  84.78, cm: [[96, 13], [5, 126]])\n",
      "test run    : Metric(tss: 84.08, hss2:  20.94, cm: [[68247, 6128], [76, 914]])\n"
     ]
    }
   ],
   "source": [
    "run_vals = []\n",
    "for _ in range(10):\n",
    "    context.normalization_mode = \"scale\"\n",
    "    val, test = train.cross_val(context, data, None)\n",
    "    run_vals.append(test)"
   ],
   "metadata": {
    "collapsed": false,
    "ExecuteTime": {
     "end_time": "2023-09-04T06:44:04.380797500Z",
     "start_time": "2023-09-04T06:32:43.271910700Z"
    }
   },
   "id": "initial_id"
  },
  {
   "cell_type": "code",
   "execution_count": 11,
   "outputs": [
    {
     "data": {
      "text/plain": "[Metric(tss: 82.34, hss2:  21.86, cm: [[289362, 35589], [418, 5816]]),\n Metric(tss: 80.60, hss2:  17.08, cm: [[277391, 47560], [297, 5937]]),\n Metric(tss: 79.66, hss2:  16.49, cm: [[275946, 49005], [328, 5906]]),\n Metric(tss: 80.63, hss2:  15.50, cm: [[271340, 53611], [179, 6055]]),\n Metric(tss: 81.08, hss2:  16.64, cm: [[275505, 49446], [231, 6003]]),\n Metric(tss: 81.63, hss2:  19.54, cm: [[284183, 40768], [363, 5871]]),\n Metric(tss: 80.24, hss2:  15.86, cm: [[273110, 51841], [237, 5997]]),\n Metric(tss: 81.38, hss2:  18.38, cm: [[281069, 43882], [319, 5915]]),\n Metric(tss: 79.23, hss2:  15.22, cm: [[271217, 53734], [264, 5970]]),\n Metric(tss: 81.95, hss2:  18.82, cm: [[282001, 42950], [301, 5933]])]"
     },
     "execution_count": 11,
     "metadata": {},
     "output_type": "execute_result"
    }
   ],
   "source": [
    "run_vals"
   ],
   "metadata": {
    "collapsed": false,
    "ExecuteTime": {
     "end_time": "2023-09-04T06:47:29.345627900Z",
     "start_time": "2023-09-04T06:47:29.316142900Z"
    }
   },
   "id": "f82cb570d9038a90"
  },
  {
   "cell_type": "code",
   "execution_count": 13,
   "outputs": [
    {
     "data": {
      "text/plain": "<Figure size 1000x700 with 1 Axes>",
      "image/png": "[encoded data removed]"
     },
     "metadata": {},
     "output_type": "display_data"
    }
   ],
   "source": [
    "import numpy as np\n",
    "\n",
    "# Creating dataset\n",
    "np.random.seed(10)\n",
    "\n",
    "data_1 = np.array([run_val.tss for run_val in run_vals])\n",
    "data = [data_1]\n",
    "\n",
    "fig = plt.figure(figsize=(10, 7))\n",
    "\n",
    "# Creating axes instance\n",
    "ax = fig.add_axes([0, 0, 1, 1])\n",
    "\n",
    "# Creating plot\n",
    "bp = ax.boxplot(data)\n",
    "\n",
    "# show plot\n",
    "plt.show()"
   ],
   "metadata": {
    "collapsed": false,
    "ExecuteTime": {
     "end_time": "2023-09-04T06:47:48.678598Z",
     "start_time": "2023-09-04T06:47:48.388132300Z"
    }
   },
   "id": "287c9dda9ab199ec"
  },
  {
   "cell_type": "code",
   "execution_count": 14,
   "outputs": [],
   "source": [
    "np.save(\"./experiments_plot/train_binary_cm.npy\",\n",
    "        np.array([run_val.cm for run_val in run_vals]))"
   ],
   "metadata": {
    "collapsed": false,
    "ExecuteTime": {
     "end_time": "2023-09-04T06:48:11.753207500Z",
     "start_time": "2023-09-04T06:48:11.713535400Z"
    }
   },
   "id": "f3b5258ecd99efa4"
  },
  {
   "cell_type": "code",
   "execution_count": 18,
   "outputs": [
    {
     "data": {
      "text/plain": "<Figure size 1000x700 with 1 Axes>",
      "image/png": "[encoded data removed]"
     },
     "metadata": {},
     "output_type": "display_data"
    }
   ],
   "source": [
    "from util import Metric\n",
    "import numpy as np\n",
    "\n",
    "data = np.load(\"./experiments_plot/train_binary_cm.npy\")\n",
    "d = [Metric(binary=True, cm=cm) for cm in data]\n",
    "datashow = np.array([m.tss for m in d])\n",
    "fig = plt.figure(figsize=(10, 7))\n",
    "ax = fig.add_axes([0, 0, 1, 1])\n",
    "bp = ax.boxplot(datashow)\n",
    "plt.show()"
   ],
   "metadata": {
    "collapsed": false,
    "ExecuteTime": {
     "end_time": "2023-09-04T06:49:02.299831300Z",
     "start_time": "2023-09-04T06:49:02.095167700Z"
    }
   },
   "id": "7ce00e5245e4c982"
  },
  {
   "cell_type": "code",
   "execution_count": 17,
   "outputs": [
    {
     "data": {
      "text/plain": "array([[[289362, 35589],\n        [  418,  5816]],\n\n       [[277391, 47560],\n        [  297,  5937]],\n\n       [[275946, 49005],\n        [  328,  5906]],\n\n       [[271340, 53611],\n        [  179,  6055]],\n\n       [[275505, 49446],\n        [  231,  6003]],\n\n       [[284183, 40768],\n        [  363,  5871]],\n\n       [[273110, 51841],\n        [  237,  5997]],\n\n       [[281069, 43882],\n        [  319,  5915]],\n\n       [[271217, 53734],\n        [  264,  5970]],\n\n       [[282001, 42950],\n        [  301,  5933]]])"
     },
     "execution_count": 17,
     "metadata": {},
     "output_type": "execute_result"
    }
   ],
   "source": [
    "data = np.load(\"./experiments_plot/train_binary_cm.npy\")\n",
    "data"
   ],
   "metadata": {
    "collapsed": false,
    "ExecuteTime": {
     "end_time": "2023-09-04T06:48:51.871920800Z",
     "start_time": "2023-09-04T06:48:51.856980700Z"
    }
   },
   "id": "b416c15c3602782e"
  }
 ],
 "metadata": {
  "kernelspec": {
   "display_name": "Python 3",
   "language": "python",
   "name": "python3"
  },
  "language_info": {
   "codemirror_mode": {
    "name": "ipython",
    "version": 2
   },
   "file_extension": ".py",
   "mimetype": "text/x-python",
   "name": "python",
   "nbconvert_exporter": "python",
   "pygments_lexer": "ipython2",
   "version": "2.7.6"
  }
 },
 "nbformat": 4,
 "nbformat_minor": 5
}
