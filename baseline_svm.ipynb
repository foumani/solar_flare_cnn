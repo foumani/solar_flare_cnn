{
 "cells": [
  {
   "cell_type": "code",
   "execution_count": 1,
   "id": "initial_id",
   "metadata": {
    "collapsed": true,
    "ExecuteTime": {
     "end_time": "2023-08-25T01:54:00.916107500Z",
     "start_time": "2023-08-25T01:54:00.512079200Z"
    }
   },
   "outputs": [],
   "source": [
    "from scipy.stats import skew, kurtosis\n",
    "from sklearn.svm import SVC"
   ]
  },
  {
   "cell_type": "code",
   "execution_count": 3,
   "outputs": [
    {
     "name": "stdout",
     "output_type": "stream",
     "text": [
      "Reading all files df ...\n",
      "Reading all files np ...\n"
     ]
    }
   ],
   "source": [
    "import numpy as np\n",
    "from context import Context\n",
    "from data import Data\n",
    "from copy import deepcopy\n",
    "from baselines import cross_val, multi_run\n",
    "from util import Metric\n",
    "\n",
    "Context.data_dir = \"/home/foumani/data/solar_flare_prediction\"\n",
    "Context.files_df_filename = \"all_files.csv\"\n",
    "Context.files_np_filename = \"full_data_X_1_25.npy\"\n",
    "Context.log_dir = \"/home/foumani/workspace/solar_flare_prediction/log\"\n",
    "context = Context(train_n=[400, 400], run_times=3)\n",
    "data = Data()"
   ],
   "metadata": {
    "collapsed": false,
    "ExecuteTime": {
     "end_time": "2023-08-25T01:55:26.485015Z",
     "start_time": "2023-08-25T01:55:23.112384100Z"
    }
   },
   "id": "3d84ba7149c58da9"
  },
  {
   "cell_type": "code",
   "execution_count": 4,
   "outputs": [],
   "source": [
    "def extract_features(data):\n",
    "    features = np.empty(shape=(len(data), 24, 5))\n",
    "    features[:, :, 0] = np.median(data, axis=2)\n",
    "    features[:, :, 1] = np.std(data, axis=2)\n",
    "    features[:, :, 2] = skew(data, axis=2)\n",
    "    features[:, :, 3] = kurtosis(data, axis=2)\n",
    "    features[:, :, 4] = deepcopy(data[:, :, -1])\n",
    "    features = features.reshape((len(data), 24 * features.shape[2]))\n",
    "    return features\n",
    "\n",
    "\n",
    "def preprocess(X, y):\n",
    "    X = extract_features(X)\n",
    "    indices = ~np.isnan(X).any(axis=1)\n",
    "    return X[indices], y[indices]"
   ],
   "metadata": {
    "collapsed": false,
    "ExecuteTime": {
     "end_time": "2023-08-25T01:55:26.494586400Z",
     "start_time": "2023-08-25T01:55:26.487038900Z"
    }
   },
   "id": "7873a6f07eaf804c"
  },
  {
   "cell_type": "code",
   "execution_count": 5,
   "outputs": [],
   "source": [
    "def baseline_svm(X_train, y_train, X_val, y_val, X_test, y_test):\n",
    "    X_train, y_train = preprocess(X_train, y_train)\n",
    "    X_val, y_val = preprocess(X_val, y_val)\n",
    "    svc = SVC()\n",
    "    svc.fit(X_train, y_train)\n",
    "    y_val_pred = svc.predict(X_val)\n",
    "    return Metric(y_true=y_val, y_pred=y_val_pred, binary=True)"
   ],
   "metadata": {
    "collapsed": false,
    "ExecuteTime": {
     "end_time": "2023-08-25T01:55:26.505573100Z",
     "start_time": "2023-08-25T01:55:26.493579800Z"
    }
   },
   "id": "3cdea6316975ba69"
  },
  {
   "cell_type": "code",
   "execution_count": null,
   "outputs": [],
   "source": [
    "cross_val(context, data, baseline_svm)"
   ],
   "metadata": {
    "collapsed": false
   },
   "id": "24bfeb4c3f4b28bf"
  },
  {
   "cell_type": "code",
   "execution_count": 6,
   "outputs": [
    {
     "name": "stdout",
     "output_type": "stream",
     "text": [
      "run no. 1:\n",
      "Training [2, 3, 4, 5], Val None, Test 1\n"
     ]
    },
    {
     "name": "stderr",
     "output_type": "stream",
     "text": [
      "100%|██████████| 800/800 [00:00<00:00, 19960.64files/s]\n"
     ]
    },
    {
     "ename": "UnboundLocalError",
     "evalue": "local variable 'X_val_np' referenced before assignment",
     "output_type": "error",
     "traceback": [
      "\u001B[0;31m---------------------------------------------------------------------------\u001B[0m",
      "\u001B[0;31mUnboundLocalError\u001B[0m                         Traceback (most recent call last)",
      "Cell \u001B[0;32mIn[6], line 1\u001B[0m\n\u001B[0;32m----> 1\u001B[0m \u001B[43mmulti_run\u001B[49m\u001B[43m(\u001B[49m\u001B[43mcontext\u001B[49m\u001B[43m,\u001B[49m\u001B[43m \u001B[49m\u001B[43mdata\u001B[49m\u001B[43m,\u001B[49m\u001B[43m \u001B[49m\u001B[43mbaseline_svm\u001B[49m\u001B[43m,\u001B[49m\u001B[43m \u001B[49m\u001B[38;5;28;43;01mTrue\u001B[39;49;00m\u001B[43m)\u001B[49m\n",
      "File \u001B[0;32m~/workspace/solar_flare_prediction/baselines.py:60\u001B[0m, in \u001B[0;36mmulti_run\u001B[0;34m(context, data, method, verbose)\u001B[0m\n\u001B[1;32m     58\u001B[0m     \u001B[38;5;28;01mif\u001B[39;00m verbose:\n\u001B[1;32m     59\u001B[0m         \u001B[38;5;28mprint\u001B[39m(\u001B[38;5;124mf\u001B[39m\u001B[38;5;124m\"\u001B[39m\u001B[38;5;124mrun no. \u001B[39m\u001B[38;5;132;01m{\u001B[39;00mcontext\u001B[38;5;241m.\u001B[39mrun_no\u001B[38;5;250m \u001B[39m\u001B[38;5;241m+\u001B[39m\u001B[38;5;250m \u001B[39m\u001B[38;5;241m1\u001B[39m\u001B[38;5;132;01m}\u001B[39;00m\u001B[38;5;124m:\u001B[39m\u001B[38;5;124m\"\u001B[39m)\n\u001B[0;32m---> 60\u001B[0m     test_metric \u001B[38;5;241m=\u001B[39m \u001B[43mcross_val\u001B[49m\u001B[43m(\u001B[49m\u001B[43mcontext\u001B[49m\u001B[43m,\u001B[49m\u001B[43m \u001B[49m\u001B[43mdata\u001B[49m\u001B[43m,\u001B[49m\u001B[43m \u001B[49m\u001B[43mreporter\u001B[49m\u001B[43m,\u001B[49m\u001B[43m \u001B[49m\u001B[43mmethod\u001B[49m\u001B[43m)\u001B[49m\n\u001B[1;32m     61\u001B[0m     reporter\u001B[38;5;241m.\u001B[39mmodel_row(context, test_metric)\n\u001B[1;32m     62\u001B[0m reporter\u001B[38;5;241m.\u001B[39msave_model_report()\n",
      "File \u001B[0;32m~/workspace/solar_flare_prediction/baselines.py:69\u001B[0m, in \u001B[0;36mcross_val\u001B[0;34m(context, data, reporter, method)\u001B[0m\n\u001B[1;32m     67\u001B[0m \u001B[38;5;28;01mfor\u001B[39;00m test_part \u001B[38;5;129;01min\u001B[39;00m \u001B[38;5;28mrange\u001B[39m(\u001B[38;5;241m1\u001B[39m, \u001B[38;5;241m6\u001B[39m):\n\u001B[1;32m     68\u001B[0m     context\u001B[38;5;241m.\u001B[39mtest_part \u001B[38;5;241m=\u001B[39m test_part\n\u001B[0;32m---> 69\u001B[0m     X_train, y_train, _, _, X_test, y_test \u001B[38;5;241m=\u001B[39m \u001B[43mdata\u001B[49m\u001B[38;5;241;43m.\u001B[39;49m\u001B[43mnumpy_datasets\u001B[49m\u001B[43m(\u001B[49m\u001B[43mcontext\u001B[49m\u001B[43m)\u001B[49m\n\u001B[1;32m     70\u001B[0m     test_metric \u001B[38;5;241m=\u001B[39m method(X_train, y_train, X_test, y_test)\n\u001B[1;32m     71\u001B[0m     \u001B[38;5;28mprint\u001B[39m(\u001B[38;5;124mf\u001B[39m\u001B[38;5;124m\"\u001B[39m\u001B[38;5;124mtest_part \u001B[39m\u001B[38;5;132;01m{\u001B[39;00mtest_part\u001B[38;5;132;01m}\u001B[39;00m\u001B[38;5;124m: \u001B[39m\u001B[38;5;132;01m{\u001B[39;00mtest_metric\u001B[38;5;132;01m}\u001B[39;00m\u001B[38;5;124m\"\u001B[39m)\n",
      "File \u001B[0;32m~/workspace/solar_flare_prediction/data.py:74\u001B[0m, in \u001B[0;36mData.numpy_datasets\u001B[0;34m(self, context, nan_mode, binary)\u001B[0m\n\u001B[1;32m     71\u001B[0m \u001B[38;5;28;01mif\u001B[39;00m \u001B[38;5;28mself\u001B[39m\u001B[38;5;241m.\u001B[39mverbose:\n\u001B[1;32m     72\u001B[0m     \u001B[38;5;28mself\u001B[39m\u001B[38;5;241m.\u001B[39mprint_stats(\u001B[38;5;124m\"\u001B[39m\u001B[38;5;124mtest \u001B[39m\u001B[38;5;124m\"\u001B[39m, y_test_np, binary)\n\u001B[0;32m---> 74\u001B[0m \u001B[38;5;28;01mreturn\u001B[39;00m X_train_np, y_train_np, \u001B[43mX_val_np\u001B[49m, y_val_np, X_test_np, y_test_np\n",
      "\u001B[0;31mUnboundLocalError\u001B[0m: local variable 'X_val_np' referenced before assignment"
     ]
    }
   ],
   "source": [
    "multi_run(context, data, baseline_svm, True)"
   ],
   "metadata": {
    "collapsed": false,
    "ExecuteTime": {
     "end_time": "2023-08-25T01:55:30.750544900Z",
     "start_time": "2023-08-25T01:55:28.616441400Z"
    }
   },
   "id": "fca027e9da4d4b6b"
  },
  {
   "cell_type": "code",
   "execution_count": null,
   "outputs": [],
   "source": [],
   "metadata": {
    "collapsed": false
   },
   "id": "e4b793313a6ef128"
  }
 ],
 "metadata": {
  "kernelspec": {
   "display_name": "Python 3",
   "language": "python",
   "name": "python3"
  },
  "language_info": {
   "codemirror_mode": {
    "name": "ipython",
    "version": 2
   },
   "file_extension": ".py",
   "mimetype": "text/x-python",
   "name": "python",
   "nbconvert_exporter": "python",
   "pygments_lexer": "ipython2",
   "version": "2.7.6"
  }
 },
 "nbformat": 4,
 "nbformat_minor": 5
}
