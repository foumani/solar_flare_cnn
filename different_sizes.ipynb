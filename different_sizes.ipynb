{
 "cells": [
  {
   "cell_type": "code",
   "id": "initial_id",
   "metadata": {
    "collapsed": true,
    "jupyter": {
     "is_executing": true
    }
   },
   "source": [
    "import util\n",
    "import matplotlib.pyplot as plt\n",
    "import numpy as np\n",
    "import baselines\n",
    "import train\n",
    "import random\n",
    "import torch\n",
    "\n",
    "from util import Metric\n",
    "from reporter import Reporter\n",
    "from data import Data"
   ],
   "outputs": [],
   "execution_count": null
  },
  {
   "metadata": {
    "jupyter": {
     "is_executing": true
    }
   },
   "cell_type": "code",
   "source": [
    "args = util.train_arg_parse()\n",
    "args.data_dir = \"/mnt/sda1/arash/data/solar_flare\"\n",
    "args.log_dir = \"log\"\n",
    "data=Data(args, verbose=False)"
   ],
   "id": "e070c46ad1f669a",
   "outputs": [],
   "execution_count": null
  },
  {
   "metadata": {
    "jupyter": {
     "is_executing": true
    }
   },
   "cell_type": "code",
   "source": "",
   "id": "9e8522eff36f1e56",
   "outputs": [],
   "execution_count": null
  }
 ],
 "metadata": {
  "kernelspec": {
   "display_name": "Python 3",
   "language": "python",
   "name": "python3"
  },
  "language_info": {
   "codemirror_mode": {
    "name": "ipython",
    "version": 2
   },
   "file_extension": ".py",
   "mimetype": "text/x-python",
   "name": "python",
   "nbconvert_exporter": "python",
   "pygments_lexer": "ipython2",
   "version": "2.7.6"
  }
 },
 "nbformat": 4,
 "nbformat_minor": 5
}
