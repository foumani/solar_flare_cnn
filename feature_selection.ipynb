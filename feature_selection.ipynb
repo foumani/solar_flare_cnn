{
 "cells": [
  {
   "cell_type": "code",
   "id": "initial_id",
   "metadata": {
    "collapsed": true,
    "ExecuteTime": {
     "end_time": "2025-05-21T12:06:33.968562Z",
     "start_time": "2025-05-21T12:06:31.078132Z"
    }
   },
   "source": [
    "import matplotlib.pyplot as plt\n",
    "from utils import Metric\n",
    "import numpy as np\n",
    "import os\n",
    "import data\n",
    "import sys\n",
    "\n",
    "sys.argv = [\"notebook\", \"--datadir\", \"/mnt/sda1/arash/data/solar_flare\",\n",
    "            \"--logdir\", \"log\",\n",
    "            \"--resultfilename\", \"feature_selection\",\n",
    "            \"--resultdir\", \"experiments_plot5\",\n",
    "            \"--gpu\", \"1\",\n",
    "            \"--runs\", \"5\",\n",
    "            \"--experiment\", \"feature_selection\",\n",
    "            \"--depth\", \"2,4,8\",\n",
    "            \"--kernelsize\", \"9,9,9\",\n",
    "            \"--nan\", \"0\",\n",
    "            \"--batch\", \"64\",\n",
    "            \"--norm\", \"scale\",\n",
    "            \"--poolingsize\", \"2\",\n",
    "            \"--poolingstrat\", \"max\",\n",
    "            \"--hidden\", \"128,32\",\n",
    "            \"--n\", \"6500,1000\",\n",
    "            \"--valp\", \"0.5\",\n",
    "            \"--importance\", \"0.5,0.5\",\n",
    "            \"--datadrop\", \"0.0\",\n",
    "            \"--layerdrop\", \"0.3\",\n",
    "            \"--seed\", \"43\",\n",
    "            \"--earlystop\", \"40\",\n",
    "            \"--stop\", \"200\",\n",
    "            \"--verbose\", \"3\",\n",
    "            \"--splitreport\", \"split_best.csv\",\n",
    "            \"--modelreport\", \"model_best.csv\",\n",
    "            \"--configreport\", \"config_best.csv\",\n",
    "            \"--aug\", \"--ndbsr\", \"--smote\", \"--cache\"]\n",
    "import utils\n",
    "\n",
    "args = utils.arg_parse()\n",
    "args.saliency = True"
   ],
   "outputs": [],
   "execution_count": 1
  },
  {
   "metadata": {
    "ExecuteTime": {
     "end_time": "2025-05-21T12:06:37.532250Z",
     "start_time": "2025-05-21T12:06:33.970365Z"
    }
   },
   "cell_type": "code",
   "source": [
    "from data import Data, data_columns\n",
    "from reporter import Reporter\n",
    "\n",
    "data = Data(args, verbose=False)\n",
    "reporter = Reporter()"
   ],
   "id": "e31ace02f726548c",
   "outputs": [
    {
     "name": "stdout",
     "output_type": "stream",
     "text": [
      "Reading all files df ...\n",
      "/mnt/sda1/arash/data/solar_flare/full_data_X_1_25.npy\n",
      "Reading all files np ...\n",
      "(331185, 24, 60)\n",
      "(11260011,)\n"
     ]
    }
   ],
   "execution_count": 2
  },
  {
   "metadata": {
    "ExecuteTime": {
     "end_time": "2025-05-21T12:06:37.538353Z",
     "start_time": "2025-05-21T12:06:37.534236Z"
    }
   },
   "cell_type": "code",
   "source": "saliency = np.load(\"saliency.npy\")",
   "id": "55bdbb3a617319f4",
   "outputs": [],
   "execution_count": 3
  },
  {
   "metadata": {
    "ExecuteTime": {
     "end_time": "2025-05-21T12:06:37.542499Z",
     "start_time": "2025-05-21T12:06:37.540100Z"
    }
   },
   "cell_type": "code",
   "source": "saliency_sum = np.sum(saliency, axis=1)",
   "id": "ffaadc3d87a99c21",
   "outputs": [],
   "execution_count": 4
  },
  {
   "metadata": {
    "ExecuteTime": {
     "end_time": "2025-05-21T12:06:37.610426Z",
     "start_time": "2025-05-21T12:06:37.543443Z"
    }
   },
   "cell_type": "code",
   "source": "feature_names = data_columns(args)[1:25]",
   "id": "38f6e24c31e88fbb",
   "outputs": [],
   "execution_count": 5
  },
  {
   "metadata": {
    "ExecuteTime": {
     "end_time": "2025-05-21T12:06:37.617908Z",
     "start_time": "2025-05-21T12:06:37.611519Z"
    }
   },
   "cell_type": "code",
   "source": "feature_names, saliency_sum",
   "id": "bd36029888ed4a7f",
   "outputs": [
    {
     "data": {
      "text/plain": [
       "(Index(['TOTUSJH', 'TOTBSQ', 'TOTPOT', 'TOTUSJZ', 'ABSNJZH', 'SAVNCPP',\n",
       "        'USFLUX', 'TOTFZ', 'MEANPOT', 'EPSZ', 'MEANSHR', 'SHRGT45', 'MEANGAM',\n",
       "        'MEANGBT', 'MEANGBZ', 'MEANGBH', 'MEANJZH', 'TOTFY', 'MEANJZD',\n",
       "        'MEANALP', 'TOTFX', 'EPSY', 'EPSX', 'R_VALUE'],\n",
       "       dtype='object'),\n",
       " array([528.69708019, 164.64273374, 239.58871714, 271.22483922,\n",
       "        433.34870452, 358.35988629, 199.70431151,  45.69827707,\n",
       "        217.70550826,  59.04669959,  38.43489543,  77.54180944,\n",
       "         36.81264113,  49.65307657,  68.2387864 , 153.10216279,\n",
       "         39.05107782,  44.65792978,  69.34814983,  46.30592577,\n",
       "         55.07855463,  61.74069276,  50.98924402, 168.14655612]))"
      ]
     },
     "execution_count": 6,
     "metadata": {},
     "output_type": "execute_result"
    }
   ],
   "execution_count": 6
  },
  {
   "metadata": {
    "ExecuteTime": {
     "end_time": "2025-05-21T12:06:37.621299Z",
     "start_time": "2025-05-21T12:06:37.618763Z"
    }
   },
   "cell_type": "code",
   "source": "ordering = sorted(range(len(saliency_sum)), key=lambda i:saliency_sum[i], reverse=True)",
   "id": "e161574b4a21d6b1",
   "outputs": [],
   "execution_count": 7
  },
  {
   "metadata": {
    "ExecuteTime": {
     "end_time": "2025-05-21T12:06:37.624848Z",
     "start_time": "2025-05-21T12:06:37.622149Z"
    }
   },
   "cell_type": "code",
   "source": "print([feature_names[i] for i in ordering])",
   "id": "68e2cc3c79d65b8a",
   "outputs": [
    {
     "name": "stdout",
     "output_type": "stream",
     "text": [
      "['TOTUSJH', 'ABSNJZH', 'SAVNCPP', 'TOTUSJZ', 'TOTPOT', 'MEANPOT', 'USFLUX', 'R_VALUE', 'TOTBSQ', 'MEANGBH', 'SHRGT45', 'MEANJZD', 'MEANGBZ', 'EPSY', 'EPSZ', 'TOTFX', 'EPSX', 'MEANGBT', 'MEANALP', 'TOTFZ', 'TOTFY', 'MEANJZH', 'MEANSHR', 'MEANGAM']\n"
     ]
    }
   ],
   "execution_count": 8
  },
  {
   "metadata": {
    "ExecuteTime": {
     "end_time": "2025-05-21T12:06:37.628028Z",
     "start_time": "2025-05-21T12:06:37.625744Z"
    }
   },
   "cell_type": "code",
   "source": "print(ordering)",
   "id": "65b0e31934c8c611",
   "outputs": [
    {
     "name": "stdout",
     "output_type": "stream",
     "text": [
      "[0, 4, 5, 3, 2, 8, 6, 23, 1, 15, 11, 18, 14, 21, 9, 20, 22, 13, 19, 7, 17, 16, 10, 12]\n"
     ]
    }
   ],
   "execution_count": 9
  },
  {
   "metadata": {
    "ExecuteTime": {
     "end_time": "2025-05-21T12:06:37.637663Z",
     "start_time": "2025-05-21T12:06:37.635626Z"
    }
   },
   "cell_type": "code",
   "source": [
    "args.ordering = ordering\n",
    "args.length = 6"
   ],
   "id": "c74b6ceb83399e69",
   "outputs": [],
   "execution_count": 12
  },
  {
   "metadata": {
    "ExecuteTime": {
     "end_time": "2025-05-21T12:06:43.824988Z",
     "start_time": "2025-05-21T12:06:37.638545Z"
    }
   },
   "cell_type": "code",
   "source": [
    "args.test_part = 5\n",
    "train, val, test = data.dataholders(args, *data.numpy_datasets(args, 0))"
   ],
   "id": "a89d357feaab8c33",
   "outputs": [
    {
     "name": "stdout",
     "output_type": "stream",
     "text": [
      "0\n",
      "There are (3249, 501) instances.\n",
      "There are (2787, 501) instances, 462 removed\n",
      "in smote\n"
     ]
    }
   ],
   "execution_count": 13
  },
  {
   "metadata": {
    "ExecuteTime": {
     "end_time": "2025-05-21T12:06:43.830500Z",
     "start_time": "2025-05-21T12:06:43.826465Z"
    }
   },
   "cell_type": "code",
   "source": [
    "def select_indices(train, val, test, args):\n",
    "    selected_indices = args.ordering[:args.length]\n",
    "    print(train.dataset.X.shape)\n",
    "    print(val[0].X.shape)\n",
    "    print(test[0].X.shape)\n",
    "    print(selected_indices)\n",
    "    train.dataset.X = train.dataset.X[:, selected_indices, :]\n",
    "\n",
    "    val[0] = utils.DataPair(val[0].X[:, selected_indices, :], val[0].y)\n",
    "\n",
    "    for i in range(len(test)):\n",
    "        test[i] = utils.DataPair(test[i].X[:, selected_indices, :], test[i].y)\n",
    "\n",
    "    return train, val, test"
   ],
   "id": "6825bbd362557925",
   "outputs": [],
   "execution_count": 14
  },
  {
   "metadata": {
    "ExecuteTime": {
     "end_time": "2025-05-21T12:06:44.252621Z",
     "start_time": "2025-05-21T12:06:43.831623Z"
    }
   },
   "cell_type": "code",
   "source": "train_new, val_new, test_new = select_indices(train, val, test, args)",
   "id": "a92367f00462b544",
   "outputs": [
    {
     "name": "stdout",
     "output_type": "stream",
     "text": [
      "torch.Size([5574, 24, 60])\n",
      "torch.Size([3750, 24, 60])\n",
      "torch.Size([64, 24, 60])\n",
      "[0, 4, 5, 3, 2, 8]\n"
     ]
    }
   ],
   "execution_count": 15
  },
  {
   "metadata": {
    "ExecuteTime": {
     "end_time": "2025-05-21T12:06:44.257864Z",
     "start_time": "2025-05-21T12:06:44.253984Z"
    }
   },
   "cell_type": "code",
   "source": "val[0].X.shape",
   "id": "857c8f256f0b88cc",
   "outputs": [
    {
     "data": {
      "text/plain": [
       "torch.Size([3750, 6, 60])"
      ]
     },
     "execution_count": 16,
     "metadata": {},
     "output_type": "execute_result"
    }
   ],
   "execution_count": 16
  },
  {
   "metadata": {
    "ExecuteTime": {
     "end_time": "2025-05-21T12:06:44.262498Z",
     "start_time": "2025-05-21T12:06:44.259166Z"
    }
   },
   "cell_type": "code",
   "source": "train.dataset.X.shape",
   "id": "1d64c3270f9e7f5a",
   "outputs": [
    {
     "data": {
      "text/plain": [
       "torch.Size([5574, 6, 60])"
      ]
     },
     "execution_count": 17,
     "metadata": {},
     "output_type": "execute_result"
    }
   ],
   "execution_count": 17
  },
  {
   "metadata": {
    "ExecuteTime": {
     "end_time": "2025-05-21T12:06:44.270547Z",
     "start_time": "2025-05-21T12:06:44.263560Z"
    }
   },
   "cell_type": "code",
   "source": "import train as t",
   "id": "bd50aa1652f9779a",
   "outputs": [],
   "execution_count": 18
  },
  {
   "metadata": {
    "ExecuteTime": {
     "end_time": "2025-05-21T12:08:13.401358Z",
     "start_time": "2025-05-21T12:07:25.725575Z"
    }
   },
   "cell_type": "code",
   "source": [
    "args.run_no = 0\n",
    "args.n_features = 6\n",
    "args.verbose = 5\n",
    "t.train(args, data, reporter)"
   ],
   "id": "219e3317542769f",
   "outputs": [
    {
     "name": "stdout",
     "output_type": "stream",
     "text": [
      "There are (3249, 501) instances.\n",
      "There are (2787, 501) instances, 462 removed\n",
      "in smote\n",
      "torch.Size([5574, 24, 60])\n",
      "torch.Size([3750, 24, 60])\n",
      "torch.Size([64, 24, 60])\n",
      "[0, 4, 5, 3, 2, 8]\n"
     ]
    },
    {
     "name": "stderr",
     "output_type": "stream",
     "text": [
      "/home/arash/.virtualenvs/solar_flare_cnn/lib/python3.11/site-packages/torch/nn/modules/lazy.py:181: UserWarning: Lazy modules are a new feature under heavy development so changes to the API or functionality can happen at any moment.\n",
      "  warnings.warn('Lazy modules are a new feature under heavy development '\n"
     ]
    },
    {
     "name": "stdout",
     "output_type": "stream",
     "text": [
      "run no. 0, test 5:75113, duration 2119.1 ms\n",
      "Total number of parameters: 12000\n",
      "run no. 0, test 5, best val run: Metric(tss: 81.70, f1:  67.91, cm: [[2832, 419], [27, 472]])\n",
      "run no. 0, test 5, test run    : Metric(tss: 84.55, f1:  21.59, cm: [[67462, 6661], [64, 926]])\n"
     ]
    },
    {
     "ename": "ValueError",
     "evalue": "operands could not be broadcast together with shapes (24,60) (6,60) (24,60) ",
     "output_type": "error",
     "traceback": [
      "\u001B[0;31m---------------------------------------------------------------------------\u001B[0m",
      "\u001B[0;31mValueError\u001B[0m                                Traceback (most recent call last)",
      "Cell \u001B[0;32mIn[20], line 3\u001B[0m\n\u001B[1;32m      1\u001B[0m args\u001B[38;5;241m.\u001B[39mrun_no \u001B[38;5;241m=\u001B[39m \u001B[38;5;241m0\u001B[39m\n\u001B[1;32m      2\u001B[0m args\u001B[38;5;241m.\u001B[39mn_features \u001B[38;5;241m=\u001B[39m \u001B[38;5;241m6\u001B[39m\n\u001B[0;32m----> 3\u001B[0m \u001B[43mt\u001B[49m\u001B[38;5;241;43m.\u001B[39;49m\u001B[43mtrain\u001B[49m\u001B[43m(\u001B[49m\u001B[43margs\u001B[49m\u001B[43m,\u001B[49m\u001B[43m \u001B[49m\u001B[43mdata\u001B[49m\u001B[43m,\u001B[49m\u001B[43m \u001B[49m\u001B[43mreporter\u001B[49m\u001B[43m)\u001B[49m\n",
      "File \u001B[0;32m~/workspace/solar_flare_cnn/train.py:72\u001B[0m, in \u001B[0;36mtrain\u001B[0;34m(args, data, reporter)\u001B[0m\n\u001B[1;32m     70\u001B[0m saliency \u001B[38;5;241m=\u001B[39m np\u001B[38;5;241m.\u001B[39mzeros([\u001B[38;5;241m24\u001B[39m, \u001B[38;5;241m60\u001B[39m])\n\u001B[1;32m     71\u001B[0m \u001B[38;5;28;01mif\u001B[39;00m args\u001B[38;5;241m.\u001B[39msaliency:\n\u001B[0;32m---> 72\u001B[0m     saliency \u001B[38;5;241m=\u001B[39m \u001B[43malgo\u001B[49m\u001B[38;5;241;43m.\u001B[39;49m\u001B[43mmy_saliency\u001B[49m\u001B[43m(\u001B[49m\u001B[43mtest\u001B[49m\u001B[43m)\u001B[49m\n\u001B[1;32m     73\u001B[0m \u001B[38;5;28;01mreturn\u001B[39;00m saliency, algo\u001B[38;5;241m.\u001B[39mbest_val_run_metric, test_metric\n",
      "File \u001B[0;32m~/workspace/solar_flare_cnn/algorithm.py:155\u001B[0m, in \u001B[0;36mAlgorithm.my_saliency\u001B[0;34m(self, dataloader)\u001B[0m\n\u001B[1;32m    153\u001B[0m     saliency \u001B[38;5;241m=\u001B[39m X\u001B[38;5;241m.\u001B[39mgrad\u001B[38;5;241m.\u001B[39mabs()\n\u001B[1;32m    154\u001B[0m     saliency \u001B[38;5;241m=\u001B[39m torch\u001B[38;5;241m.\u001B[39msum(saliency, dim\u001B[38;5;241m=\u001B[39m\u001B[38;5;241m0\u001B[39m)\n\u001B[0;32m--> 155\u001B[0m     \u001B[43msaliency_all\u001B[49m\u001B[43m \u001B[49m\u001B[38;5;241;43m+\u001B[39;49m\u001B[38;5;241;43m=\u001B[39;49m\u001B[43m \u001B[49m\u001B[43msaliency\u001B[49m\u001B[38;5;241;43m.\u001B[39;49m\u001B[43mdetach\u001B[49m\u001B[43m(\u001B[49m\u001B[43m)\u001B[49m\u001B[38;5;241;43m.\u001B[39;49m\u001B[43mcpu\u001B[49m\u001B[43m(\u001B[49m\u001B[43m)\u001B[49m\u001B[38;5;241;43m.\u001B[39;49m\u001B[43mnumpy\u001B[49m\u001B[43m(\u001B[49m\u001B[43m)\u001B[49m\n\u001B[1;32m    157\u001B[0m \u001B[38;5;28;01mreturn\u001B[39;00m saliency_all\n",
      "\u001B[0;31mValueError\u001B[0m: operands could not be broadcast together with shapes (24,60) (6,60) (24,60) "
     ]
    }
   ],
   "execution_count": 20
  },
  {
   "metadata": {},
   "cell_type": "code",
   "source": "",
   "id": "bf878819faad5e12",
   "outputs": [],
   "execution_count": null
  }
 ],
 "metadata": {
  "kernelspec": {
   "display_name": "Python 3",
   "language": "python",
   "name": "python3"
  },
  "language_info": {
   "codemirror_mode": {
    "name": "ipython",
    "version": 2
   },
   "file_extension": ".py",
   "mimetype": "text/x-python",
   "name": "python",
   "nbconvert_exporter": "python",
   "pygments_lexer": "ipython2",
   "version": "2.7.6"
  }
 },
 "nbformat": 4,
 "nbformat_minor": 5
}
