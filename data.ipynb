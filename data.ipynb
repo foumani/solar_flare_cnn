{
 "cells": [
  {
   "cell_type": "code",
   "id": "initial_id",
   "metadata": {
    "collapsed": true,
    "ExecuteTime": {
     "end_time": "2025-04-02T01:03:23.587543Z",
     "start_time": "2025-04-02T01:03:23.581549Z"
    }
   },
   "source": [
    "import os\n",
    "import random\n",
    "import re\n",
    "import time\n",
    "import matplotlib.pyplot as plt\n",
    "from copy import deepcopy\n",
    "\n",
    "import numpy as np\n",
    "import pandas\n",
    "import torch\n",
    "from torch.utils.data import Dataset, DataLoader\n",
    "from tqdm import tqdm\n",
    "\n",
    "import preprocess\n",
    "import utils\n",
    "import data as mydata\n",
    "import sys"
   ],
   "outputs": [],
   "execution_count": 3
  },
  {
   "metadata": {
    "ExecuteTime": {
     "end_time": "2025-04-02T01:06:35.967704Z",
     "start_time": "2025-04-02T01:06:35.962555Z"
    }
   },
   "cell_type": "code",
   "source": [
    "simulated_argv = ['data.py', '--datadir', '/mnt/sda1/arash/data/solar_flare',\n",
    "                  \"--logdir\", \"log\",\n",
    "                  \"--gpu\", \"3\",\n",
    "                  \"--cache\"]\n",
    "\n",
    "sys.argv = simulated_argv\n",
    "\n",
    "args = utils.arg_parse()"
   ],
   "id": "d397f954bbb951e4",
   "outputs": [],
   "execution_count": 4
  },
  {
   "metadata": {
    "ExecuteTime": {
     "end_time": "2025-04-02T01:07:54.920440Z",
     "start_time": "2025-04-02T01:07:53.685731Z"
    }
   },
   "cell_type": "code",
   "source": "data = mydata.Data(args, verbose=False)",
   "id": "97bca782617295e3",
   "outputs": [
    {
     "name": "stdout",
     "output_type": "stream",
     "text": [
      "Reading all files df ...\n",
      "/mnt/sda1/arash/data/solar_flare/full_data_X_1_25.npy\n",
      "Reading all files np ...\n"
     ]
    }
   ],
   "execution_count": 9
  },
  {
   "metadata": {
    "ExecuteTime": {
     "end_time": "2025-04-02T01:08:04.201210Z",
     "start_time": "2025-04-02T01:08:04.185727Z"
    }
   },
   "cell_type": "code",
   "source": "data.all_files_df.head(5)",
   "id": "3b8b78be7bc93075",
   "outputs": [
    {
     "data": {
      "text/plain": [
       "                                                path active_region  \\\n",
       "0  partition1\\FL\\M1.0@1235_Primary_ar384_s2011-02...         ar384   \n",
       "1  partition1\\FL\\M1.0@1235_Primary_ar384_s2011-02...         ar384   \n",
       "2  partition1\\FL\\M1.0@1235_Primary_ar384_s2011-02...         ar384   \n",
       "3  partition1\\FL\\M1.0@1235_Primary_ar384_s2011-02...         ar384   \n",
       "4  partition1\\FL\\M1.0@1238_Primary_ar384_s2011-02...         ar384   \n",
       "\n",
       "    partition label  \n",
       "0  partition1     M  \n",
       "1  partition1     M  \n",
       "2  partition1     M  \n",
       "3  partition1     M  \n",
       "4  partition1     M  "
      ],
      "text/html": [
       "<div>\n",
       "<style scoped>\n",
       "    .dataframe tbody tr th:only-of-type {\n",
       "        vertical-align: middle;\n",
       "    }\n",
       "\n",
       "    .dataframe tbody tr th {\n",
       "        vertical-align: top;\n",
       "    }\n",
       "\n",
       "    .dataframe thead th {\n",
       "        text-align: right;\n",
       "    }\n",
       "</style>\n",
       "<table border=\"1\" class=\"dataframe\">\n",
       "  <thead>\n",
       "    <tr style=\"text-align: right;\">\n",
       "      <th></th>\n",
       "      <th>path</th>\n",
       "      <th>active_region</th>\n",
       "      <th>partition</th>\n",
       "      <th>label</th>\n",
       "    </tr>\n",
       "  </thead>\n",
       "  <tbody>\n",
       "    <tr>\n",
       "      <th>0</th>\n",
       "      <td>partition1\\FL\\M1.0@1235_Primary_ar384_s2011-02...</td>\n",
       "      <td>ar384</td>\n",
       "      <td>partition1</td>\n",
       "      <td>M</td>\n",
       "    </tr>\n",
       "    <tr>\n",
       "      <th>1</th>\n",
       "      <td>partition1\\FL\\M1.0@1235_Primary_ar384_s2011-02...</td>\n",
       "      <td>ar384</td>\n",
       "      <td>partition1</td>\n",
       "      <td>M</td>\n",
       "    </tr>\n",
       "    <tr>\n",
       "      <th>2</th>\n",
       "      <td>partition1\\FL\\M1.0@1235_Primary_ar384_s2011-02...</td>\n",
       "      <td>ar384</td>\n",
       "      <td>partition1</td>\n",
       "      <td>M</td>\n",
       "    </tr>\n",
       "    <tr>\n",
       "      <th>3</th>\n",
       "      <td>partition1\\FL\\M1.0@1235_Primary_ar384_s2011-02...</td>\n",
       "      <td>ar384</td>\n",
       "      <td>partition1</td>\n",
       "      <td>M</td>\n",
       "    </tr>\n",
       "    <tr>\n",
       "      <th>4</th>\n",
       "      <td>partition1\\FL\\M1.0@1238_Primary_ar384_s2011-02...</td>\n",
       "      <td>ar384</td>\n",
       "      <td>partition1</td>\n",
       "      <td>M</td>\n",
       "    </tr>\n",
       "  </tbody>\n",
       "</table>\n",
       "</div>"
      ]
     },
     "execution_count": 10,
     "metadata": {},
     "output_type": "execute_result"
    }
   ],
   "execution_count": 10
  },
  {
   "metadata": {
    "ExecuteTime": {
     "end_time": "2025-04-02T01:08:49.523404Z",
     "start_time": "2025-04-02T01:08:49.516564Z"
    }
   },
   "cell_type": "code",
   "source": "data.all_files_np[:5].shape",
   "id": "e198fd7c685c8adf",
   "outputs": [
    {
     "data": {
      "text/plain": [
       "(5, 24, 60)"
      ]
     },
     "execution_count": 12,
     "metadata": {},
     "output_type": "execute_result"
    }
   ],
   "execution_count": 12
  },
  {
   "metadata": {
    "ExecuteTime": {
     "end_time": "2025-04-02T01:14:21.107615Z",
     "start_time": "2025-04-02T01:14:21.101888Z"
    }
   },
   "cell_type": "code",
   "source": [
    "train_parts = [i for i in range(1, 6) if i not in [1]]\n",
    "args.test_part = 1\n",
    "normalization_mode = 0\n",
    "n = [5000, 5500]"
   ],
   "id": "4d363cf298255297",
   "outputs": [],
   "execution_count": 14
  },
  {
   "metadata": {
    "ExecuteTime": {
     "end_time": "2025-04-02T01:14:24.709592Z",
     "start_time": "2025-04-02T01:14:24.703456Z"
    }
   },
   "cell_type": "code",
   "source": "data.numpydataset(train_parts, 0, args, None, n, train=True, )",
   "id": "dcc541498ba610f5",
   "outputs": [
    {
     "data": {
      "text/plain": [
       "[2, 3, 4, 5]"
      ]
     },
     "execution_count": 15,
     "metadata": {},
     "output_type": "execute_result"
    }
   ],
   "execution_count": 15
  }
 ],
 "metadata": {
  "kernelspec": {
   "display_name": "Python 3",
   "language": "python",
   "name": "python3"
  },
  "language_info": {
   "codemirror_mode": {
    "name": "ipython",
    "version": 2
   },
   "file_extension": ".py",
   "mimetype": "text/x-python",
   "name": "python",
   "nbconvert_exporter": "python",
   "pygments_lexer": "ipython2",
   "version": "2.7.6"
  }
 },
 "nbformat": 4,
 "nbformat_minor": 5
}
