{
 "cells": [
  {
   "cell_type": "code",
   "execution_count": null,
   "id": "initial_id",
   "metadata": {
    "collapsed": true
   },
   "outputs": [],
   "source": [
    "class Point:\n",
    "    \n",
    "    def __init__(self, a, b):\n",
    "        self.a = a\n",
    "        self.b = b\n",
    "    \n",
    "    def __repr__(self):\n",
    "        return f\"Point({self.a}, {self.b})\"\n",
    "    \n",
    "    # def __copy__(self):\n",
    "    #     return Point(self.a, self.b)\n"
   ]
  },
  {
   "cell_type": "code",
   "execution_count": 2,
   "outputs": [
    {
     "name": "stdout",
     "output_type": "stream",
     "text": [
      "Point(1, 2)\n",
      "Point(1, 3)\n"
     ]
    }
   ],
   "source": [
    "from copy import copy\n",
    "\n",
    "p1 = Point(1, 2)\n",
    "p2 = copy(p1)\n",
    "p2.b = 3\n",
    "print(p1)\n",
    "print(p2)"
   ],
   "metadata": {
    "collapsed": false,
    "ExecuteTime": {
     "end_time": "2023-08-10T23:27:16.762088500Z",
     "start_time": "2023-08-10T23:27:16.760182200Z"
    }
   },
   "id": "5f4fcdda6a096c84"
  },
  {
   "cell_type": "code",
   "execution_count": null,
   "outputs": [],
   "source": [],
   "metadata": {
    "collapsed": false
   },
   "id": "e9f38330ea4a6096"
  },
  {
   "cell_type": "code",
   "execution_count": 7,
   "outputs": [],
   "source": [
    "import os\n",
    "import time\n",
    "from copy import deepcopy\n",
    "\n",
    "import numpy as np\n",
    "from scipy.stats import skew, kurtosis\n",
    "\n",
    "from context import Context\n",
    "from data import Data\n",
    "from sklearn.svm import SVC\n",
    "import util\n",
    "\n",
    "\n",
    "def feature_extract(data):\n",
    "    start = time.time()\n",
    "    features = np.empty(shape=(len(data), 24, 5))\n",
    "    features[:, :, 0] = np.median(data, axis=2)\n",
    "    features[:, :, 1] = np.std(data, axis=2)\n",
    "    features[:, :, 2] = skew(data, axis=2, bias=False, )\n",
    "    features[:, :, 3] = kurtosis(data, axis=2, bias=False)\n",
    "    features[:, :, 4] = deepcopy(data[:, :, -1])\n",
    "    features = features.reshape((len(data), 24 * features.shape[2]))\n",
    "    end = time.time()\n",
    "    print(f\"Extracted statistical features in {(end - start) * 1000:.1f} ms\")\n",
    "    return features\n"
   ],
   "metadata": {
    "collapsed": false,
    "ExecuteTime": {
     "end_time": "2023-08-17T20:37:01.311189500Z",
     "start_time": "2023-08-17T20:37:01.297708400Z"
    }
   },
   "id": "4ed8f2f6bc8503e0"
  },
  {
   "cell_type": "code",
   "execution_count": 0,
   "outputs": [],
   "source": [
    "print(f\"cpu count: {os.cpu_count()}\")\n",
    "Context.data_dir = \"/home/foumani/data/solar_flare_prediction\"\n",
    "Context.files_df_filename = \"all_files.csv\"\n",
    "Context.files_np_filename = \"full_data_X_1_25.npy\"\n",
    "context = Context(train_nf_n=1500, train_fl_n=800, val_part=1, test_part=2)\n",
    "data = Data()"
   ],
   "metadata": {
    "collapsed": false
   },
   "id": "cf1e9b5f2e3f895d"
  },
  {
   "cell_type": "code",
   "execution_count": 88,
   "outputs": [
    {
     "name": "stdout",
     "output_type": "stream",
     "text": [
      "Training [3, 4, 5], Val 1, Test 2\n"
     ]
    },
    {
     "name": "stderr",
     "output_type": "stream",
     "text": [
      "100%|██████████| 3300/3300 [00:00<00:00, 19827.42files/s]\n"
     ]
    },
    {
     "name": "stdout",
     "output_type": "stream",
     "text": [
      "removing nans\n",
      "preprocessed in 55.2 ms\n",
      "prepared dataset in 416.7 ms\n",
      "train:  2851 all,  2172 negative,   679 positive\n",
      "prepared dataset in 335.6 ms\n",
      "val  : 69189 all, 68009 negative,  1180 positive\n",
      "prepared dataset in 386.6 ms\n",
      "test : 79541 all, 78256 negative,  1285 positive\n",
      "Extracted statistical features in 267.7 ms\n",
      "3841.2 ms\n"
     ]
    }
   ],
   "source": [
    "start = time.time()\n",
    "# train_nf_n=1500, train_fl_n=800, \n",
    "context = Context(train_nf_n=2500, train_fl_n=800, val_part=1, test_part=2)\n",
    "# _, _, _, _\n",
    "# X_val, y_val, X_test, y_test\n",
    "numpy_datasets = data.numpy_datasets(context)\n",
    "X_train, y_train, _, _, _, _ = numpy_datasets\n",
    "def prepare(X, y):\n",
    "    X = feature_extract(X)\n",
    "    indices = ~np.isnan(X).any(axis=1)\n",
    "    return X[indices], y[indices]\n",
    "X_train, y_train = prepare(X_train, y_train)\n",
    "# X_val, y_val = prepare(X_val, y_val)\n",
    "# X_test, y_test = prepare(X_test, y_test)\n",
    "svc = SVC()\n",
    "svc.fit(X_train, y_train)\n",
    "y_pred = svc.predict(X_val)\n",
    "\n",
    "print(f\"{(time.time() - start) * 1000:.1f} ms\")"
   ],
   "metadata": {
    "collapsed": false,
    "ExecuteTime": {
     "end_time": "2023-08-17T21:10:40.800779800Z",
     "start_time": "2023-08-17T21:10:36.955323Z"
    }
   },
   "id": "914c408720225f3c"
  },
  {
   "cell_type": "code",
   "execution_count": 89,
   "outputs": [
    {
     "data": {
      "text/plain": "array([[21795,  3440],\n       [   73,   817]])"
     },
     "execution_count": 89,
     "metadata": {},
     "output_type": "execute_result"
    }
   ],
   "source": [
    "import sklearn\n",
    "tp = ((y_val == y_pred) & (y_val == 1)).sum()\n",
    "fp = ((y_pred == 1) & (y_val != y_pred)).sum()\n",
    "tn = ((y_val == y_pred) & (y_pred == 0)).sum()\n",
    "fn = ((y_val != y_pred) & (y_pred == 0)).sum()\n",
    "sklearn.metrics.confusion_matrix(y_val, y_pred)"
   ],
   "metadata": {
    "collapsed": false,
    "ExecuteTime": {
     "end_time": "2023-08-17T21:10:40.825288900Z",
     "start_time": "2023-08-17T21:10:40.798785100Z"
    }
   },
   "id": "682ff3694394bde1"
  },
  {
   "cell_type": "code",
   "execution_count": 90,
   "outputs": [
    {
     "data": {
      "text/plain": "array([[21795,  3440],\n       [   73,   817]])"
     },
     "execution_count": 90,
     "metadata": {},
     "output_type": "execute_result"
    }
   ],
   "source": [
    "np.array([[tn, fp], [fn, tp]])"
   ],
   "metadata": {
    "collapsed": false,
    "ExecuteTime": {
     "end_time": "2023-08-17T21:10:40.837764100Z",
     "start_time": "2023-08-17T21:10:40.818777300Z"
    }
   },
   "id": "f521d22b3a32688c"
  },
  {
   "cell_type": "code",
   "execution_count": 91,
   "outputs": [
    {
     "name": "stdout",
     "output_type": "stream",
     "text": [
      "0.7816589229779399\n"
     ]
    }
   ],
   "source": [
    "metric = util.Metric(tp, fp, tn, fn)\n",
    "print(metric.tss)"
   ],
   "metadata": {
    "collapsed": false,
    "ExecuteTime": {
     "end_time": "2023-08-17T21:10:41.971115500Z",
     "start_time": "2023-08-17T21:10:41.954623500Z"
    }
   },
   "id": "2056f86fc3283ae6"
  },
  {
   "cell_type": "code",
   "execution_count": 16,
   "outputs": [
    {
     "name": "stdout",
     "output_type": "stream",
     "text": [
      "Extracted statistical features in 207.6 ms\n"
     ]
    },
    {
     "data": {
      "text/plain": "array([False, False, False, ..., False, False, False])"
     },
     "execution_count": 16,
     "metadata": {},
     "output_type": "execute_result"
    }
   ],
   "source": [
    "np.isnan(feature_extract(X_train)).any(axis=1)"
   ],
   "metadata": {
    "collapsed": false
   },
   "id": "3103ef4369bceec2"
  },
  {
   "cell_type": "code",
   "execution_count": 2,
   "outputs": [
    {
     "name": "stdout",
     "output_type": "stream",
     "text": [
      "70\n"
     ]
    }
   ],
   "source": [
    "import itertools\n",
    "inputdata = [[400, 600, 800, 1000, 1250, 1500, 1750, 2000, 2400, 2800,\n",
    "                           3200, 3800, 4400, 5400],\n",
    "             [400, 600, 800, 1000, 1400]]\n",
    "result = list(itertools.product(*inputdata))\n",
    "print(len(result))"
   ],
   "metadata": {
    "collapsed": false,
    "ExecuteTime": {
     "end_time": "2023-08-18T22:41:53.645582300Z",
     "start_time": "2023-08-18T22:41:53.617657900Z"
    }
   },
   "id": "477bd358742718ee"
  },
  {
   "cell_type": "code",
   "execution_count": null,
   "outputs": [],
   "source": [],
   "metadata": {
    "collapsed": false
   },
   "id": "dbdb339a89b40220"
  },
  {
   "cell_type": "code",
   "execution_count": 15,
   "outputs": [
    {
     "data": {
      "text/plain": "array([[2, 0, 0],\n       [1, 0, 1],\n       [0, 2, 0]])"
     },
     "metadata": {},
     "output_type": "display_data"
    },
    {
     "name": "stdout",
     "output_type": "stream",
     "text": [
      "fp: [1 2 1]\n",
      "fn: [0 2 2]\n",
      "tp: [2 0 0]\n",
      "tn: [3 2 3]\n",
      "tss: [ 0.75 -0.5  -0.25]\n"
     ]
    }
   ],
   "source": [
    "from sklearn.metrics import *\n",
    "import numpy as np\n",
    "\n",
    "y_true = [0, 1, 2, 0, 1, 2]\n",
    "y_pred = [0, 2, 1, 0, 0, 1]\n",
    "\n",
    "cnf_matrix = confusion_matrix(y_true, y_pred)\n",
    "display(cnf_matrix)\n",
    "\n",
    "fp = cnf_matrix.sum(axis=0) - np.diag(cnf_matrix)  \n",
    "fn = cnf_matrix.sum(axis=1) - np.diag(cnf_matrix)\n",
    "tp = np.diag(cnf_matrix)\n",
    "tn = cnf_matrix.sum() - (fp + fn + tp)\n",
    "print(f\"fp: {fp}\")\n",
    "print(f\"fn: {fn}\")\n",
    "print(f\"tp: {TP}\")\n",
    "print(f\"tn: {tn}\")\n",
    "tpr = tp / (tp + fn)\n",
    "tnr = tn / (tn + fp)\n",
    "tss = tpr + tnr - 1\n",
    "print(f\"tss: {tss}\")"
   ],
   "metadata": {
    "collapsed": false,
    "ExecuteTime": {
     "end_time": "2023-08-19T01:38:26.687620600Z",
     "start_time": "2023-08-19T01:38:26.654125200Z"
    }
   },
   "id": "e9f67973c5ba5e8f"
  },
  {
   "cell_type": "code",
   "execution_count": 1,
   "outputs": [],
   "source": [
    "import pandas"
   ],
   "metadata": {
    "collapsed": false,
    "ExecuteTime": {
     "end_time": "2023-09-01T05:07:04.465205700Z",
     "start_time": "2023-09-01T05:07:04.137400700Z"
    }
   },
   "id": "70398401650fdc2f"
  },
  {
   "cell_type": "code",
   "execution_count": 2,
   "outputs": [],
   "source": [
    "df = pandas.read_csv(\"/home/foumani/data/solar_flare_prediction/all_files.csv\")"
   ],
   "metadata": {
    "collapsed": false,
    "ExecuteTime": {
     "end_time": "2023-09-01T05:07:25.028947700Z",
     "start_time": "2023-09-01T05:07:24.542281100Z"
    }
   },
   "id": "7621c0eca96e856d"
  },
  {
   "cell_type": "code",
   "execution_count": 7,
   "outputs": [
    {
     "data": {
      "text/plain": "                                                     path active_region  \\\n0       partition5/NF/B9.1@10451:Secondary_ar5550_s201...        ar5550   \n1       partition5/NF/FQ_ar5758_s2015-07-12T05:00:00_e...        ar5758   \n2       partition5/NF/FQ_ar7204_s2017-12-14T14:12:00_e...        ar7204   \n3       partition5/NF/FQ_ar5484_s2015-04-19T17:48:00_e...        ar5484   \n4       partition5/NF/FQ_ar7045_s2017-06-19T19:00:00_e...        ar7045   \n...                                                   ...           ...   \n331180  partition2/FL/M1.7@5382:Primary_ar2362_s2013-0...        ar2362   \n331181  partition2/FL/M1.3@6145:Primary_ar2790_s2013-0...        ar2790   \n331182  partition2/FL/M1.4@5955:Primary_ar2716_s2013-0...        ar2716   \n331183  partition2/FL/M1.9@5510:Primary_ar2491_s2013-0...        ar2491   \n331184  partition2/FL/M2.8@4109:Primary_ar1806_s2012-0...        ar1806   \n\n         partition label  \n0       partition5     B  \n1       partition5     Q  \n2       partition5     Q  \n3       partition5     Q  \n4       partition5     Q  \n...            ...   ...  \n331180  partition2     M  \n331181  partition2     M  \n331182  partition2     M  \n331183  partition2     M  \n331184  partition2     M  \n\n[331185 rows x 4 columns]",
      "text/html": "<div>\n<style scoped>\n    .dataframe tbody tr th:only-of-type {\n        vertical-align: middle;\n    }\n\n    .dataframe tbody tr th {\n        vertical-align: top;\n    }\n\n    .dataframe thead th {\n        text-align: right;\n    }\n</style>\n<table border=\"1\" class=\"dataframe\">\n  <thead>\n    <tr style=\"text-align: right;\">\n      <th></th>\n      <th>path</th>\n      <th>active_region</th>\n      <th>partition</th>\n      <th>label</th>\n    </tr>\n  </thead>\n  <tbody>\n    <tr>\n      <th>0</th>\n      <td>partition5/NF/B9.1@10451:Secondary_ar5550_s201...</td>\n      <td>ar5550</td>\n      <td>partition5</td>\n      <td>B</td>\n    </tr>\n    <tr>\n      <th>1</th>\n      <td>partition5/NF/FQ_ar5758_s2015-07-12T05:00:00_e...</td>\n      <td>ar5758</td>\n      <td>partition5</td>\n      <td>Q</td>\n    </tr>\n    <tr>\n      <th>2</th>\n      <td>partition5/NF/FQ_ar7204_s2017-12-14T14:12:00_e...</td>\n      <td>ar7204</td>\n      <td>partition5</td>\n      <td>Q</td>\n    </tr>\n    <tr>\n      <th>3</th>\n      <td>partition5/NF/FQ_ar5484_s2015-04-19T17:48:00_e...</td>\n      <td>ar5484</td>\n      <td>partition5</td>\n      <td>Q</td>\n    </tr>\n    <tr>\n      <th>4</th>\n      <td>partition5/NF/FQ_ar7045_s2017-06-19T19:00:00_e...</td>\n      <td>ar7045</td>\n      <td>partition5</td>\n      <td>Q</td>\n    </tr>\n    <tr>\n      <th>...</th>\n      <td>...</td>\n      <td>...</td>\n      <td>...</td>\n      <td>...</td>\n    </tr>\n    <tr>\n      <th>331180</th>\n      <td>partition2/FL/M1.7@5382:Primary_ar2362_s2013-0...</td>\n      <td>ar2362</td>\n      <td>partition2</td>\n      <td>M</td>\n    </tr>\n    <tr>\n      <th>331181</th>\n      <td>partition2/FL/M1.3@6145:Primary_ar2790_s2013-0...</td>\n      <td>ar2790</td>\n      <td>partition2</td>\n      <td>M</td>\n    </tr>\n    <tr>\n      <th>331182</th>\n      <td>partition2/FL/M1.4@5955:Primary_ar2716_s2013-0...</td>\n      <td>ar2716</td>\n      <td>partition2</td>\n      <td>M</td>\n    </tr>\n    <tr>\n      <th>331183</th>\n      <td>partition2/FL/M1.9@5510:Primary_ar2491_s2013-0...</td>\n      <td>ar2491</td>\n      <td>partition2</td>\n      <td>M</td>\n    </tr>\n    <tr>\n      <th>331184</th>\n      <td>partition2/FL/M2.8@4109:Primary_ar1806_s2012-0...</td>\n      <td>ar1806</td>\n      <td>partition2</td>\n      <td>M</td>\n    </tr>\n  </tbody>\n</table>\n<p>331185 rows × 4 columns</p>\n</div>"
     },
     "execution_count": 7,
     "metadata": {},
     "output_type": "execute_result"
    }
   ],
   "source": [
    "df"
   ],
   "metadata": {
    "collapsed": false,
    "ExecuteTime": {
     "end_time": "2023-09-01T05:46:11.678083Z",
     "start_time": "2023-09-01T05:46:11.650925200Z"
    }
   },
   "id": "edba55a585c2cfeb"
  },
  {
   "cell_type": "code",
   "execution_count": 12,
   "outputs": [],
   "source": [
    "df_m = df[(df.label == \"M\")]"
   ],
   "metadata": {
    "collapsed": false,
    "ExecuteTime": {
     "end_time": "2023-09-01T05:48:18.635485Z",
     "start_time": "2023-09-01T05:48:18.616540700Z"
    }
   },
   "id": "db7210a234f774e9"
  },
  {
   "cell_type": "code",
   "execution_count": 16,
   "outputs": [
    {
     "data": {
      "text/plain": "                                                     path active_region  \\\n74375   partition5/FL/M7.6@11132:Primary_ar5983_s2015-...        ar5983   \n74376   partition5/FL/M1.3@11160:Primary_ar5983_s2015-...        ar5983   \n74377   partition5/FL/M1.9@11410:Primary_ar6052_s2015-...        ar6052   \n74378   partition5/FL/M3.8@10625:Primary_ar5673_s2015-...        ar5673   \n74379   partition5/FL/M1.0@10620:Primary_ar5692_s2015-...        ar5692   \n...                                                   ...           ...   \n331180  partition2/FL/M1.7@5382:Primary_ar2362_s2013-0...        ar2362   \n331181  partition2/FL/M1.3@6145:Primary_ar2790_s2013-0...        ar2790   \n331182  partition2/FL/M1.4@5955:Primary_ar2716_s2013-0...        ar2716   \n331183  partition2/FL/M1.9@5510:Primary_ar2491_s2013-0...        ar2491   \n331184  partition2/FL/M2.8@4109:Primary_ar1806_s2012-0...        ar1806   \n\n         partition label  \n74375   partition5     M  \n74376   partition5     M  \n74377   partition5     M  \n74378   partition5     M  \n74379   partition5     M  \n...            ...   ...  \n331180  partition2     M  \n331181  partition2     M  \n331182  partition2     M  \n331183  partition2     M  \n331184  partition2     M  \n\n[5689 rows x 4 columns]",
      "text/html": "<div>\n<style scoped>\n    .dataframe tbody tr th:only-of-type {\n        vertical-align: middle;\n    }\n\n    .dataframe tbody tr th {\n        vertical-align: top;\n    }\n\n    .dataframe thead th {\n        text-align: right;\n    }\n</style>\n<table border=\"1\" class=\"dataframe\">\n  <thead>\n    <tr style=\"text-align: right;\">\n      <th></th>\n      <th>path</th>\n      <th>active_region</th>\n      <th>partition</th>\n      <th>label</th>\n    </tr>\n  </thead>\n  <tbody>\n    <tr>\n      <th>74375</th>\n      <td>partition5/FL/M7.6@11132:Primary_ar5983_s2015-...</td>\n      <td>ar5983</td>\n      <td>partition5</td>\n      <td>M</td>\n    </tr>\n    <tr>\n      <th>74376</th>\n      <td>partition5/FL/M1.3@11160:Primary_ar5983_s2015-...</td>\n      <td>ar5983</td>\n      <td>partition5</td>\n      <td>M</td>\n    </tr>\n    <tr>\n      <th>74377</th>\n      <td>partition5/FL/M1.9@11410:Primary_ar6052_s2015-...</td>\n      <td>ar6052</td>\n      <td>partition5</td>\n      <td>M</td>\n    </tr>\n    <tr>\n      <th>74378</th>\n      <td>partition5/FL/M3.8@10625:Primary_ar5673_s2015-...</td>\n      <td>ar5673</td>\n      <td>partition5</td>\n      <td>M</td>\n    </tr>\n    <tr>\n      <th>74379</th>\n      <td>partition5/FL/M1.0@10620:Primary_ar5692_s2015-...</td>\n      <td>ar5692</td>\n      <td>partition5</td>\n      <td>M</td>\n    </tr>\n    <tr>\n      <th>...</th>\n      <td>...</td>\n      <td>...</td>\n      <td>...</td>\n      <td>...</td>\n    </tr>\n    <tr>\n      <th>331180</th>\n      <td>partition2/FL/M1.7@5382:Primary_ar2362_s2013-0...</td>\n      <td>ar2362</td>\n      <td>partition2</td>\n      <td>M</td>\n    </tr>\n    <tr>\n      <th>331181</th>\n      <td>partition2/FL/M1.3@6145:Primary_ar2790_s2013-0...</td>\n      <td>ar2790</td>\n      <td>partition2</td>\n      <td>M</td>\n    </tr>\n    <tr>\n      <th>331182</th>\n      <td>partition2/FL/M1.4@5955:Primary_ar2716_s2013-0...</td>\n      <td>ar2716</td>\n      <td>partition2</td>\n      <td>M</td>\n    </tr>\n    <tr>\n      <th>331183</th>\n      <td>partition2/FL/M1.9@5510:Primary_ar2491_s2013-0...</td>\n      <td>ar2491</td>\n      <td>partition2</td>\n      <td>M</td>\n    </tr>\n    <tr>\n      <th>331184</th>\n      <td>partition2/FL/M2.8@4109:Primary_ar1806_s2012-0...</td>\n      <td>ar1806</td>\n      <td>partition2</td>\n      <td>M</td>\n    </tr>\n  </tbody>\n</table>\n<p>5689 rows × 4 columns</p>\n</div>"
     },
     "execution_count": 16,
     "metadata": {},
     "output_type": "execute_result"
    }
   ],
   "source": [
    "df_m"
   ],
   "metadata": {
    "collapsed": false,
    "ExecuteTime": {
     "end_time": "2023-09-01T05:49:29.811657Z",
     "start_time": "2023-09-01T05:49:29.782655500Z"
    }
   },
   "id": "bffb8280428e574e"
  },
  {
   "cell_type": "code",
   "execution_count": 13,
   "outputs": [
    {
     "data": {
      "text/plain": "array(['ar5983', 'ar6052', 'ar5673', 'ar5692', 'ar6972', 'ar6206',\n       'ar5982', 'ar6078', 'ar5956', 'ar5745', 'ar5456', 'ar5885',\n       'ar6063', 'ar5415', 'ar5447', 'ar7075', 'ar6327', 'ar7115',\n       'ar5526', 'ar5446', 'ar5637', 'ar6015', 'ar5738', 'ar5298',\n       'ar4941', 'ar4225', 'ar4781', 'ar4466', 'ar4874', 'ar5127',\n       'ar4580', 'ar4396', 'ar5144', 'ar4817', 'ar4920', 'ar4955',\n       'ar5107', 'ar4698', 'ar5026', 'ar4294', 'ar4536', 'ar5011',\n       'ar4344', 'ar4478', 'ar4231', 'ar4639', 'ar4678', 'ar4530',\n       'ar3497', 'ar3836', 'ar3535', 'ar4186', 'ar4071', 'ar3879',\n       'ar4138', 'ar3688', 'ar3563', 'ar3376', 'ar3813', 'ar3580',\n       'ar3686', 'ar3721', 'ar3999', 'ar4197', 'ar3321', 'ar4000',\n       'ar3311', 'ar3364', 'ar3520', 'ar3941', 'ar3295', 'ar3437',\n       'ar3344', 'ar4097', 'ar3730', 'ar3341', 'ar3804', 'ar3766',\n       'ar3366', 'ar3894', 'ar3784', 'ar3877', 'ar3779', 'ar3740',\n       'ar833', 'ar1321', 'ar1449', 'ar1066', 'ar384', 'ar892', 'ar211',\n       'ar437', 'ar1041', 'ar1350', 'ar750', 'ar1028', 'ar514', 'ar115',\n       'ar940', 'ar637', 'ar495', 'ar753', 'ar401', 'ar1209', 'ar393',\n       'ar377', 'ar407', 'ar878', 'ar902', 'ar8', 'ar814', 'ar1256',\n       'ar394', 'ar746', 'ar362', 'ar856', 'ar899', 'ar54', 'ar2716',\n       'ar1461', 'ar1806', 'ar3048', 'ar1993', 'ar2748', 'ar1879',\n       'ar1807', 'ar2693', 'ar2635', 'ar1638', 'ar3291', 'ar2491',\n       'ar1464', 'ar1834', 'ar2191', 'ar2546', 'ar2227', 'ar1724',\n       'ar2636', 'ar2362', 'ar1621', 'ar2809', 'ar2372', 'ar1907',\n       'ar2739', 'ar2790', 'ar3263', 'ar1722', 'ar2220', 'ar2040',\n       'ar2673', 'ar3056', 'ar2519', 'ar1603', 'ar1999', 'ar1750',\n       'ar3258'], dtype=object)"
     },
     "execution_count": 13,
     "metadata": {},
     "output_type": "execute_result"
    }
   ],
   "source": [
    "df_m.active_region.unique()"
   ],
   "metadata": {
    "collapsed": false,
    "ExecuteTime": {
     "end_time": "2023-09-01T05:48:18.751147900Z",
     "start_time": "2023-09-01T05:48:18.733698600Z"
    }
   },
   "id": "e7e7d3f6b891909"
  },
  {
   "cell_type": "code",
   "execution_count": 15,
   "outputs": [
    {
     "data": {
      "text/plain": "array(['ar7115', 'ar4781', 'ar4698', 'ar4920', 'ar5298', 'ar4536',\n       'ar3341', 'ar3563', 'ar3894', 'ar3364', 'ar4000', 'ar377', 'ar892',\n       'ar753', 'ar1449', 'ar401', 'ar833', 'ar1807', 'ar1834', 'ar3291'],\n      dtype=object)"
     },
     "execution_count": 15,
     "metadata": {},
     "output_type": "execute_result"
    }
   ],
   "source": [
    "df[(df.label == \"X\")].active_region.unique()"
   ],
   "metadata": {
    "collapsed": false,
    "ExecuteTime": {
     "end_time": "2023-09-01T05:48:45.719962200Z",
     "start_time": "2023-09-01T05:48:45.708589400Z"
    }
   },
   "id": "4fecb05ceadf4682"
  },
  {
   "cell_type": "code",
   "execution_count": 20,
   "outputs": [
    {
     "data": {
      "text/plain": "              Timestamp      TOTUSJH        TOTBSQ        TOTPOT  \\\n1   2010-08-06 06:48:00   987.271725  1.555048e+10  2.252867e+23   \n2   2010-08-06 07:00:00   985.015683  1.550109e+10  2.238914e+23   \n3   2010-08-06 07:12:00   993.944093  1.554684e+10  2.233768e+23   \n4   2010-08-06 07:24:00   994.364606  1.564230e+10  2.242762e+23   \n5   2010-08-06 07:36:00   984.920685  1.568060e+10  2.245457e+23   \n6   2010-08-06 07:48:00   993.204165  1.571249e+10  2.256520e+23   \n7   2010-08-06 08:00:00  1016.056161  1.576882e+10  2.276326e+23   \n8   2010-08-06 08:12:00  1011.574889  1.586467e+10  2.285766e+23   \n9   2010-08-06 08:24:00  1038.668646  1.590262e+10  2.297426e+23   \n10  2010-08-06 08:36:00  1049.760693  1.597122e+10  2.306060e+23   \n11  2010-08-06 08:48:00  1064.156152  1.603385e+10  2.322072e+23   \n12  2010-08-06 09:00:00  1065.031281  1.607708e+10  2.319878e+23   \n13  2010-08-06 09:12:00  1074.621299  1.609537e+10  2.323641e+23   \n14  2010-08-06 09:24:00  1093.656653  1.602180e+10  2.327786e+23   \n15  2010-08-06 09:36:00  1099.115194  1.591562e+10  2.323396e+23   \n16  2010-08-06 09:48:00  1089.812957  1.574186e+10  2.303372e+23   \n17  2010-08-06 10:00:00  1064.746367  1.558766e+10  2.277827e+23   \n18  2010-08-06 10:12:00  1049.128237  1.545665e+10  2.265083e+23   \n19  2010-08-06 10:24:00  1046.783152  1.529416e+10  2.246596e+23   \n20  2010-08-06 10:36:00  1032.057482  1.509995e+10  2.222007e+23   \n21  2010-08-06 10:48:00  1016.356514  1.494298e+10  2.203181e+23   \n22  2010-08-06 11:00:00  1019.102901  1.485322e+10  2.190660e+23   \n23  2010-08-06 11:12:00  1019.946483  1.481896e+10  2.203301e+23   \n24  2010-08-06 11:24:00  1008.221355  1.478377e+10  2.213469e+23   \n\n         TOTUSJZ     ABSNJZH       SAVNCPP        USFLUX         TOTFZ  \\\n1   1.971309e+13  150.347978  3.570546e+12  1.781535e+22 -7.201674e+24   \n2   1.962561e+13  153.069350  4.284650e+12  1.775269e+22 -7.188077e+24   \n3   1.978907e+13  154.994888  3.122913e+12  1.799766e+22 -7.273269e+24   \n4   1.986232e+13  153.108332  3.790034e+12  1.826607e+22 -7.339826e+24   \n5   1.992160e+13  158.285208  2.165144e+12  1.839902e+22 -7.382202e+24   \n6   2.027070e+13  164.619020  2.393348e+12  1.851214e+22 -7.393427e+24   \n7   2.085514e+13  146.881132  2.601881e+12  1.860364e+22 -7.358696e+24   \n8   2.070826e+13  147.253891  2.682310e+12  1.877870e+22 -7.434874e+24   \n9   2.158156e+13  137.473923  1.900770e+12  1.886895e+22 -7.427250e+24   \n10  2.206359e+13  130.681215  3.178608e+12  1.894578e+22 -7.457033e+24   \n11  2.241159e+13  133.548324  2.843185e+12  1.892380e+22 -7.457131e+24   \n12  2.245417e+13  135.845058  3.249146e+12  1.894126e+22 -7.511142e+24   \n13  2.259375e+13  140.657357  3.358470e+12  1.899818e+22 -7.545494e+24   \n14  2.296858e+13  132.547473  3.402963e+12  1.877725e+22 -7.448389e+24   \n15  2.305228e+13  145.873279  4.207632e+12  1.858543e+22 -7.333070e+24   \n16  2.268488e+13  128.554871  4.521756e+12  1.830466e+22 -7.207853e+24   \n17  2.177490e+13  133.887887  3.784568e+12  1.800074e+22 -7.149288e+24   \n18  2.152989e+13  128.193250  5.537717e+12  1.775448e+22 -7.044833e+24   \n19  2.115972e+13  127.452251  5.095061e+12  1.741393e+22 -6.929322e+24   \n20  2.042890e+13  124.164508  5.567592e+12  1.700187e+22 -6.818638e+24   \n21  2.004052e+13  126.585366  5.042379e+12  1.677601e+22 -6.709720e+24   \n22  1.991786e+13  124.677353  5.411090e+12  1.661820e+22 -6.679778e+24   \n23  1.971230e+13  129.685901  5.206042e+12  1.656324e+22 -6.568646e+24   \n24  1.942959e+13  123.243901  3.830627e+12  1.644359e+22 -6.463794e+24   \n\n        MEANPOT  ...  BFLARE_LABEL_LOC  CFLARE_LOC  CFLARE_LABEL_LOC  \\\n1   5907.434832  ...               NaN         0.0               NaN   \n2   5909.535936  ...               NaN         0.0               NaN   \n3   5779.465192  ...               NaN         0.0               NaN   \n4   5692.225659  ...               NaN         0.0               NaN   \n5   5630.365466  ...               NaN         0.0               NaN   \n6   5582.449220  ...               NaN         0.0               NaN   \n7   5591.033267  ...               NaN         0.0               NaN   \n8   5535.138515  ...               NaN         0.0               NaN   \n9   5501.450333  ...               NaN         0.0               NaN   \n10  5491.910988  ...               NaN         0.0               NaN   \n11  5579.455272  ...               NaN         0.0               NaN   \n12  5623.349636  ...               NaN         0.0               NaN   \n13  5629.208296  ...               NaN         0.0               NaN   \n14  5757.998989  ...               NaN         0.0               NaN   \n15  5817.079324  ...               NaN         0.0               NaN   \n16  5885.933305  ...               NaN         0.0               NaN   \n17  6025.763637  ...               NaN         0.0               NaN   \n18  6080.708337  ...               NaN         0.0               NaN   \n19  6219.327829  ...               NaN         0.0               NaN   \n20  6427.001946  ...               NaN         0.0               NaN   \n21  6452.607610  ...               NaN         0.0               NaN   \n22  6508.849059  ...               NaN         0.0               NaN   \n23  6547.443235  ...               NaN         0.0               NaN   \n24  6635.002118  ...               NaN         0.0               NaN   \n\n    MFLARE_LOC  MFLARE_LABEL_LOC  XFLARE_LOC  XFLARE_LABEL_LOC        XR_MAX  \\\n1          0.0               NaN         0.0               NaN  2.611100e-07   \n2          0.0               NaN         0.0               NaN  2.534100e-07   \n3          0.0               NaN         0.0               NaN  2.259200e-07   \n4          0.0               NaN         0.0               NaN  2.111100e-07   \n5          0.0               NaN         0.0               NaN  1.938600e-07   \n6          0.0               NaN         0.0               NaN  1.870900e-07   \n7          0.0               NaN         0.0               NaN  1.778500e-07   \n8          0.0               NaN         0.0               NaN  1.813800e-07   \n9          0.0               NaN         0.0               NaN  1.977500e-07   \n10         0.0               NaN         0.0               NaN  1.884600e-07   \n11         0.0               NaN         0.0               NaN  2.096100e-07   \n12         0.0               NaN         0.0               NaN  2.545600e-07   \n13         0.0               NaN         0.0               NaN  2.518200e-07   \n14         0.0               NaN         0.0               NaN  2.542100e-07   \n15         0.0               NaN         0.0               NaN  2.417300e-07   \n16         0.0               NaN         0.0               NaN  2.207600e-07   \n17         0.0               NaN         0.0               NaN  2.132300e-07   \n18         0.0               NaN         0.0               NaN  2.017300e-07   \n19         0.0               NaN         0.0               NaN  1.918200e-07   \n20         0.0               NaN         0.0               NaN  1.796500e-07   \n21         0.0               NaN         0.0               NaN  1.732400e-07   \n22         0.0               NaN         0.0               NaN  1.636800e-07   \n23         0.0               NaN         0.0               NaN  1.540300e-07   \n24         0.0               NaN         0.0               NaN  1.494300e-07   \n\n    XR_QUAL  IS_TMFI  \n1        12     True  \n2        12     True  \n3        12     True  \n4        12     True  \n5        12     True  \n6        12     True  \n7        12     True  \n8        12     True  \n9        12     True  \n10       12     True  \n11       12     True  \n12       12     True  \n13       12     True  \n14       12     True  \n15       12     True  \n16       12     True  \n17       12     True  \n18       12     True  \n19       12     True  \n20       12     True  \n21       12     True  \n22       12     True  \n23       12     True  \n24       12     True  \n\n[24 rows x 55 columns]",
      "text/html": "<div>\n<style scoped>\n    .dataframe tbody tr th:only-of-type {\n        vertical-align: middle;\n    }\n\n    .dataframe tbody tr th {\n        vertical-align: top;\n    }\n\n    .dataframe thead th {\n        text-align: right;\n    }\n</style>\n<table border=\"1\" class=\"dataframe\">\n  <thead>\n    <tr style=\"text-align: right;\">\n      <th></th>\n      <th>Timestamp</th>\n      <th>TOTUSJH</th>\n      <th>TOTBSQ</th>\n      <th>TOTPOT</th>\n      <th>TOTUSJZ</th>\n      <th>ABSNJZH</th>\n      <th>SAVNCPP</th>\n      <th>USFLUX</th>\n      <th>TOTFZ</th>\n      <th>MEANPOT</th>\n      <th>...</th>\n      <th>BFLARE_LABEL_LOC</th>\n      <th>CFLARE_LOC</th>\n      <th>CFLARE_LABEL_LOC</th>\n      <th>MFLARE_LOC</th>\n      <th>MFLARE_LABEL_LOC</th>\n      <th>XFLARE_LOC</th>\n      <th>XFLARE_LABEL_LOC</th>\n      <th>XR_MAX</th>\n      <th>XR_QUAL</th>\n      <th>IS_TMFI</th>\n    </tr>\n  </thead>\n  <tbody>\n    <tr>\n      <th>1</th>\n      <td>2010-08-06 06:48:00</td>\n      <td>987.271725</td>\n      <td>1.555048e+10</td>\n      <td>2.252867e+23</td>\n      <td>1.971309e+13</td>\n      <td>150.347978</td>\n      <td>3.570546e+12</td>\n      <td>1.781535e+22</td>\n      <td>-7.201674e+24</td>\n      <td>5907.434832</td>\n      <td>...</td>\n      <td>NaN</td>\n      <td>0.0</td>\n      <td>NaN</td>\n      <td>0.0</td>\n      <td>NaN</td>\n      <td>0.0</td>\n      <td>NaN</td>\n      <td>2.611100e-07</td>\n      <td>12</td>\n      <td>True</td>\n    </tr>\n    <tr>\n      <th>2</th>\n      <td>2010-08-06 07:00:00</td>\n      <td>985.015683</td>\n      <td>1.550109e+10</td>\n      <td>2.238914e+23</td>\n      <td>1.962561e+13</td>\n      <td>153.069350</td>\n      <td>4.284650e+12</td>\n      <td>1.775269e+22</td>\n      <td>-7.188077e+24</td>\n      <td>5909.535936</td>\n      <td>...</td>\n      <td>NaN</td>\n      <td>0.0</td>\n      <td>NaN</td>\n      <td>0.0</td>\n      <td>NaN</td>\n      <td>0.0</td>\n      <td>NaN</td>\n      <td>2.534100e-07</td>\n      <td>12</td>\n      <td>True</td>\n    </tr>\n    <tr>\n      <th>3</th>\n      <td>2010-08-06 07:12:00</td>\n      <td>993.944093</td>\n      <td>1.554684e+10</td>\n      <td>2.233768e+23</td>\n      <td>1.978907e+13</td>\n      <td>154.994888</td>\n      <td>3.122913e+12</td>\n      <td>1.799766e+22</td>\n      <td>-7.273269e+24</td>\n      <td>5779.465192</td>\n      <td>...</td>\n      <td>NaN</td>\n      <td>0.0</td>\n      <td>NaN</td>\n      <td>0.0</td>\n      <td>NaN</td>\n      <td>0.0</td>\n      <td>NaN</td>\n      <td>2.259200e-07</td>\n      <td>12</td>\n      <td>True</td>\n    </tr>\n    <tr>\n      <th>4</th>\n      <td>2010-08-06 07:24:00</td>\n      <td>994.364606</td>\n      <td>1.564230e+10</td>\n      <td>2.242762e+23</td>\n      <td>1.986232e+13</td>\n      <td>153.108332</td>\n      <td>3.790034e+12</td>\n      <td>1.826607e+22</td>\n      <td>-7.339826e+24</td>\n      <td>5692.225659</td>\n      <td>...</td>\n      <td>NaN</td>\n      <td>0.0</td>\n      <td>NaN</td>\n      <td>0.0</td>\n      <td>NaN</td>\n      <td>0.0</td>\n      <td>NaN</td>\n      <td>2.111100e-07</td>\n      <td>12</td>\n      <td>True</td>\n    </tr>\n    <tr>\n      <th>5</th>\n      <td>2010-08-06 07:36:00</td>\n      <td>984.920685</td>\n      <td>1.568060e+10</td>\n      <td>2.245457e+23</td>\n      <td>1.992160e+13</td>\n      <td>158.285208</td>\n      <td>2.165144e+12</td>\n      <td>1.839902e+22</td>\n      <td>-7.382202e+24</td>\n      <td>5630.365466</td>\n      <td>...</td>\n      <td>NaN</td>\n      <td>0.0</td>\n      <td>NaN</td>\n      <td>0.0</td>\n      <td>NaN</td>\n      <td>0.0</td>\n      <td>NaN</td>\n      <td>1.938600e-07</td>\n      <td>12</td>\n      <td>True</td>\n    </tr>\n    <tr>\n      <th>6</th>\n      <td>2010-08-06 07:48:00</td>\n      <td>993.204165</td>\n      <td>1.571249e+10</td>\n      <td>2.256520e+23</td>\n      <td>2.027070e+13</td>\n      <td>164.619020</td>\n      <td>2.393348e+12</td>\n      <td>1.851214e+22</td>\n      <td>-7.393427e+24</td>\n      <td>5582.449220</td>\n      <td>...</td>\n      <td>NaN</td>\n      <td>0.0</td>\n      <td>NaN</td>\n      <td>0.0</td>\n      <td>NaN</td>\n      <td>0.0</td>\n      <td>NaN</td>\n      <td>1.870900e-07</td>\n      <td>12</td>\n      <td>True</td>\n    </tr>\n    <tr>\n      <th>7</th>\n      <td>2010-08-06 08:00:00</td>\n      <td>1016.056161</td>\n      <td>1.576882e+10</td>\n      <td>2.276326e+23</td>\n      <td>2.085514e+13</td>\n      <td>146.881132</td>\n      <td>2.601881e+12</td>\n      <td>1.860364e+22</td>\n      <td>-7.358696e+24</td>\n      <td>5591.033267</td>\n      <td>...</td>\n      <td>NaN</td>\n      <td>0.0</td>\n      <td>NaN</td>\n      <td>0.0</td>\n      <td>NaN</td>\n      <td>0.0</td>\n      <td>NaN</td>\n      <td>1.778500e-07</td>\n      <td>12</td>\n      <td>True</td>\n    </tr>\n    <tr>\n      <th>8</th>\n      <td>2010-08-06 08:12:00</td>\n      <td>1011.574889</td>\n      <td>1.586467e+10</td>\n      <td>2.285766e+23</td>\n      <td>2.070826e+13</td>\n      <td>147.253891</td>\n      <td>2.682310e+12</td>\n      <td>1.877870e+22</td>\n      <td>-7.434874e+24</td>\n      <td>5535.138515</td>\n      <td>...</td>\n      <td>NaN</td>\n      <td>0.0</td>\n      <td>NaN</td>\n      <td>0.0</td>\n      <td>NaN</td>\n      <td>0.0</td>\n      <td>NaN</td>\n      <td>1.813800e-07</td>\n      <td>12</td>\n      <td>True</td>\n    </tr>\n    <tr>\n      <th>9</th>\n      <td>2010-08-06 08:24:00</td>\n      <td>1038.668646</td>\n      <td>1.590262e+10</td>\n      <td>2.297426e+23</td>\n      <td>2.158156e+13</td>\n      <td>137.473923</td>\n      <td>1.900770e+12</td>\n      <td>1.886895e+22</td>\n      <td>-7.427250e+24</td>\n      <td>5501.450333</td>\n      <td>...</td>\n      <td>NaN</td>\n      <td>0.0</td>\n      <td>NaN</td>\n      <td>0.0</td>\n      <td>NaN</td>\n      <td>0.0</td>\n      <td>NaN</td>\n      <td>1.977500e-07</td>\n      <td>12</td>\n      <td>True</td>\n    </tr>\n    <tr>\n      <th>10</th>\n      <td>2010-08-06 08:36:00</td>\n      <td>1049.760693</td>\n      <td>1.597122e+10</td>\n      <td>2.306060e+23</td>\n      <td>2.206359e+13</td>\n      <td>130.681215</td>\n      <td>3.178608e+12</td>\n      <td>1.894578e+22</td>\n      <td>-7.457033e+24</td>\n      <td>5491.910988</td>\n      <td>...</td>\n      <td>NaN</td>\n      <td>0.0</td>\n      <td>NaN</td>\n      <td>0.0</td>\n      <td>NaN</td>\n      <td>0.0</td>\n      <td>NaN</td>\n      <td>1.884600e-07</td>\n      <td>12</td>\n      <td>True</td>\n    </tr>\n    <tr>\n      <th>11</th>\n      <td>2010-08-06 08:48:00</td>\n      <td>1064.156152</td>\n      <td>1.603385e+10</td>\n      <td>2.322072e+23</td>\n      <td>2.241159e+13</td>\n      <td>133.548324</td>\n      <td>2.843185e+12</td>\n      <td>1.892380e+22</td>\n      <td>-7.457131e+24</td>\n      <td>5579.455272</td>\n      <td>...</td>\n      <td>NaN</td>\n      <td>0.0</td>\n      <td>NaN</td>\n      <td>0.0</td>\n      <td>NaN</td>\n      <td>0.0</td>\n      <td>NaN</td>\n      <td>2.096100e-07</td>\n      <td>12</td>\n      <td>True</td>\n    </tr>\n    <tr>\n      <th>12</th>\n      <td>2010-08-06 09:00:00</td>\n      <td>1065.031281</td>\n      <td>1.607708e+10</td>\n      <td>2.319878e+23</td>\n      <td>2.245417e+13</td>\n      <td>135.845058</td>\n      <td>3.249146e+12</td>\n      <td>1.894126e+22</td>\n      <td>-7.511142e+24</td>\n      <td>5623.349636</td>\n      <td>...</td>\n      <td>NaN</td>\n      <td>0.0</td>\n      <td>NaN</td>\n      <td>0.0</td>\n      <td>NaN</td>\n      <td>0.0</td>\n      <td>NaN</td>\n      <td>2.545600e-07</td>\n      <td>12</td>\n      <td>True</td>\n    </tr>\n    <tr>\n      <th>13</th>\n      <td>2010-08-06 09:12:00</td>\n      <td>1074.621299</td>\n      <td>1.609537e+10</td>\n      <td>2.323641e+23</td>\n      <td>2.259375e+13</td>\n      <td>140.657357</td>\n      <td>3.358470e+12</td>\n      <td>1.899818e+22</td>\n      <td>-7.545494e+24</td>\n      <td>5629.208296</td>\n      <td>...</td>\n      <td>NaN</td>\n      <td>0.0</td>\n      <td>NaN</td>\n      <td>0.0</td>\n      <td>NaN</td>\n      <td>0.0</td>\n      <td>NaN</td>\n      <td>2.518200e-07</td>\n      <td>12</td>\n      <td>True</td>\n    </tr>\n    <tr>\n      <th>14</th>\n      <td>2010-08-06 09:24:00</td>\n      <td>1093.656653</td>\n      <td>1.602180e+10</td>\n      <td>2.327786e+23</td>\n      <td>2.296858e+13</td>\n      <td>132.547473</td>\n      <td>3.402963e+12</td>\n      <td>1.877725e+22</td>\n      <td>-7.448389e+24</td>\n      <td>5757.998989</td>\n      <td>...</td>\n      <td>NaN</td>\n      <td>0.0</td>\n      <td>NaN</td>\n      <td>0.0</td>\n      <td>NaN</td>\n      <td>0.0</td>\n      <td>NaN</td>\n      <td>2.542100e-07</td>\n      <td>12</td>\n      <td>True</td>\n    </tr>\n    <tr>\n      <th>15</th>\n      <td>2010-08-06 09:36:00</td>\n      <td>1099.115194</td>\n      <td>1.591562e+10</td>\n      <td>2.323396e+23</td>\n      <td>2.305228e+13</td>\n      <td>145.873279</td>\n      <td>4.207632e+12</td>\n      <td>1.858543e+22</td>\n      <td>-7.333070e+24</td>\n      <td>5817.079324</td>\n      <td>...</td>\n      <td>NaN</td>\n      <td>0.0</td>\n      <td>NaN</td>\n      <td>0.0</td>\n      <td>NaN</td>\n      <td>0.0</td>\n      <td>NaN</td>\n      <td>2.417300e-07</td>\n      <td>12</td>\n      <td>True</td>\n    </tr>\n    <tr>\n      <th>16</th>\n      <td>2010-08-06 09:48:00</td>\n      <td>1089.812957</td>\n      <td>1.574186e+10</td>\n      <td>2.303372e+23</td>\n      <td>2.268488e+13</td>\n      <td>128.554871</td>\n      <td>4.521756e+12</td>\n      <td>1.830466e+22</td>\n      <td>-7.207853e+24</td>\n      <td>5885.933305</td>\n      <td>...</td>\n      <td>NaN</td>\n      <td>0.0</td>\n      <td>NaN</td>\n      <td>0.0</td>\n      <td>NaN</td>\n      <td>0.0</td>\n      <td>NaN</td>\n      <td>2.207600e-07</td>\n      <td>12</td>\n      <td>True</td>\n    </tr>\n    <tr>\n      <th>17</th>\n      <td>2010-08-06 10:00:00</td>\n      <td>1064.746367</td>\n      <td>1.558766e+10</td>\n      <td>2.277827e+23</td>\n      <td>2.177490e+13</td>\n      <td>133.887887</td>\n      <td>3.784568e+12</td>\n      <td>1.800074e+22</td>\n      <td>-7.149288e+24</td>\n      <td>6025.763637</td>\n      <td>...</td>\n      <td>NaN</td>\n      <td>0.0</td>\n      <td>NaN</td>\n      <td>0.0</td>\n      <td>NaN</td>\n      <td>0.0</td>\n      <td>NaN</td>\n      <td>2.132300e-07</td>\n      <td>12</td>\n      <td>True</td>\n    </tr>\n    <tr>\n      <th>18</th>\n      <td>2010-08-06 10:12:00</td>\n      <td>1049.128237</td>\n      <td>1.545665e+10</td>\n      <td>2.265083e+23</td>\n      <td>2.152989e+13</td>\n      <td>128.193250</td>\n      <td>5.537717e+12</td>\n      <td>1.775448e+22</td>\n      <td>-7.044833e+24</td>\n      <td>6080.708337</td>\n      <td>...</td>\n      <td>NaN</td>\n      <td>0.0</td>\n      <td>NaN</td>\n      <td>0.0</td>\n      <td>NaN</td>\n      <td>0.0</td>\n      <td>NaN</td>\n      <td>2.017300e-07</td>\n      <td>12</td>\n      <td>True</td>\n    </tr>\n    <tr>\n      <th>19</th>\n      <td>2010-08-06 10:24:00</td>\n      <td>1046.783152</td>\n      <td>1.529416e+10</td>\n      <td>2.246596e+23</td>\n      <td>2.115972e+13</td>\n      <td>127.452251</td>\n      <td>5.095061e+12</td>\n      <td>1.741393e+22</td>\n      <td>-6.929322e+24</td>\n      <td>6219.327829</td>\n      <td>...</td>\n      <td>NaN</td>\n      <td>0.0</td>\n      <td>NaN</td>\n      <td>0.0</td>\n      <td>NaN</td>\n      <td>0.0</td>\n      <td>NaN</td>\n      <td>1.918200e-07</td>\n      <td>12</td>\n      <td>True</td>\n    </tr>\n    <tr>\n      <th>20</th>\n      <td>2010-08-06 10:36:00</td>\n      <td>1032.057482</td>\n      <td>1.509995e+10</td>\n      <td>2.222007e+23</td>\n      <td>2.042890e+13</td>\n      <td>124.164508</td>\n      <td>5.567592e+12</td>\n      <td>1.700187e+22</td>\n      <td>-6.818638e+24</td>\n      <td>6427.001946</td>\n      <td>...</td>\n      <td>NaN</td>\n      <td>0.0</td>\n      <td>NaN</td>\n      <td>0.0</td>\n      <td>NaN</td>\n      <td>0.0</td>\n      <td>NaN</td>\n      <td>1.796500e-07</td>\n      <td>12</td>\n      <td>True</td>\n    </tr>\n    <tr>\n      <th>21</th>\n      <td>2010-08-06 10:48:00</td>\n      <td>1016.356514</td>\n      <td>1.494298e+10</td>\n      <td>2.203181e+23</td>\n      <td>2.004052e+13</td>\n      <td>126.585366</td>\n      <td>5.042379e+12</td>\n      <td>1.677601e+22</td>\n      <td>-6.709720e+24</td>\n      <td>6452.607610</td>\n      <td>...</td>\n      <td>NaN</td>\n      <td>0.0</td>\n      <td>NaN</td>\n      <td>0.0</td>\n      <td>NaN</td>\n      <td>0.0</td>\n      <td>NaN</td>\n      <td>1.732400e-07</td>\n      <td>12</td>\n      <td>True</td>\n    </tr>\n    <tr>\n      <th>22</th>\n      <td>2010-08-06 11:00:00</td>\n      <td>1019.102901</td>\n      <td>1.485322e+10</td>\n      <td>2.190660e+23</td>\n      <td>1.991786e+13</td>\n      <td>124.677353</td>\n      <td>5.411090e+12</td>\n      <td>1.661820e+22</td>\n      <td>-6.679778e+24</td>\n      <td>6508.849059</td>\n      <td>...</td>\n      <td>NaN</td>\n      <td>0.0</td>\n      <td>NaN</td>\n      <td>0.0</td>\n      <td>NaN</td>\n      <td>0.0</td>\n      <td>NaN</td>\n      <td>1.636800e-07</td>\n      <td>12</td>\n      <td>True</td>\n    </tr>\n    <tr>\n      <th>23</th>\n      <td>2010-08-06 11:12:00</td>\n      <td>1019.946483</td>\n      <td>1.481896e+10</td>\n      <td>2.203301e+23</td>\n      <td>1.971230e+13</td>\n      <td>129.685901</td>\n      <td>5.206042e+12</td>\n      <td>1.656324e+22</td>\n      <td>-6.568646e+24</td>\n      <td>6547.443235</td>\n      <td>...</td>\n      <td>NaN</td>\n      <td>0.0</td>\n      <td>NaN</td>\n      <td>0.0</td>\n      <td>NaN</td>\n      <td>0.0</td>\n      <td>NaN</td>\n      <td>1.540300e-07</td>\n      <td>12</td>\n      <td>True</td>\n    </tr>\n    <tr>\n      <th>24</th>\n      <td>2010-08-06 11:24:00</td>\n      <td>1008.221355</td>\n      <td>1.478377e+10</td>\n      <td>2.213469e+23</td>\n      <td>1.942959e+13</td>\n      <td>123.243901</td>\n      <td>3.830627e+12</td>\n      <td>1.644359e+22</td>\n      <td>-6.463794e+24</td>\n      <td>6635.002118</td>\n      <td>...</td>\n      <td>NaN</td>\n      <td>0.0</td>\n      <td>NaN</td>\n      <td>0.0</td>\n      <td>NaN</td>\n      <td>0.0</td>\n      <td>NaN</td>\n      <td>1.494300e-07</td>\n      <td>12</td>\n      <td>True</td>\n    </tr>\n  </tbody>\n</table>\n<p>24 rows × 55 columns</p>\n</div>"
     },
     "execution_count": 20,
     "metadata": {},
     "output_type": "execute_result"
    }
   ],
   "source": [
    "pandas.read_csv(\"/home/foumani/data/solar_flare_prediction/partition1/FL/M1.0@265:Primary_ar115_s2010-08-06T06:36:00_e2010-08-06T18:24:00.csv\", sep=\"\\t\")[1:25]"
   ],
   "metadata": {
    "collapsed": false,
    "ExecuteTime": {
     "end_time": "2023-09-01T23:40:27.048073Z",
     "start_time": "2023-09-01T23:40:26.935776Z"
    }
   },
   "id": "ec462d6984661d5d"
  },
  {
   "cell_type": "code",
   "execution_count": 2,
   "outputs": [
    {
     "data": {
      "text/plain": "torch.Size([40])"
     },
     "execution_count": 2,
     "metadata": {},
     "output_type": "execute_result"
    }
   ],
   "source": [
    "import torch\n",
    "import torch.nn\n",
    "\n",
    "conv1 = torch.nn.Conv1d(in_channels=24,\n",
    "                        out_channels=40,\n",
    "                        kernel_size=7,\n",
    "                        bias=True)\n",
    "conv1.weight.shape\n",
    "conv1.bias.shape"
   ],
   "metadata": {
    "collapsed": false,
    "ExecuteTime": {
     "end_time": "2023-09-29T00:59:41.942313700Z",
     "start_time": "2023-09-29T00:59:41.889723100Z"
    }
   },
   "id": "5eba6380a29bae36"
  }
 ],
 "metadata": {
  "kernelspec": {
   "display_name": "Python 3",
   "language": "python",
   "name": "python3"
  },
  "language_info": {
   "codemirror_mode": {
    "name": "ipython",
    "version": 2
   },
   "file_extension": ".py",
   "mimetype": "text/x-python",
   "name": "python",
   "nbconvert_exporter": "python",
   "pygments_lexer": "ipython2",
   "version": "2.7.6"
  }
 },
 "nbformat": 4,
 "nbformat_minor": 5
}
